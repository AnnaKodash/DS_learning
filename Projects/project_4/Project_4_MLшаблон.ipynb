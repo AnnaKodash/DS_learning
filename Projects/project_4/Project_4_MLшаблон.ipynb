{
 "cells": [
  {
   "attachments": {},
   "cell_type": "markdown",
   "id": "c353de9a",
   "metadata": {},
   "source": [
    "# Проект: классификация"
   ]
  },
  {
   "cell_type": "code",
   "execution_count": 1,
   "id": "4a6e54dc",
   "metadata": {},
   "outputs": [],
   "source": [
    "import pandas as pd\n",
    "import numpy as np\n",
    "import matplotlib.pyplot as plt\n",
    "import seaborn as sns\n",
    "from  sklearn.ensemble import IsolationForest\n",
    "import warnings\n",
    "warnings.filterwarnings('ignore')\n",
    "from sklearn.preprocessing  import LabelEncoder\n",
    "from sklearn import linear_model \n",
    "from sklearn import tree \n",
    "from sklearn import ensemble \n",
    "from sklearn import metrics \n",
    "from sklearn import preprocessing \n",
    "from sklearn.model_selection import train_test_split \n",
    "from sklearn.feature_selection import SelectKBest, f_classif"
   ]
  },
  {
   "cell_type": "code",
   "execution_count": 4,
   "id": "8f1b8382",
   "metadata": {},
   "outputs": [
    {
     "ename": "ModuleNotFoundError",
     "evalue": "No module named 'metrics'",
     "output_type": "error",
     "traceback": [
      "\u001b[1;31m---------------------------------------------------------------------------\u001b[0m",
      "\u001b[1;31mModuleNotFoundError\u001b[0m                       Traceback (most recent call last)",
      "\u001b[1;32mc:\\Users\\Anna\\Desktop\\DS\\IDE\\Projects\\project_4\\Project_4_MLшаблон.ipynb Cell 3\u001b[0m in \u001b[0;36m2\n\u001b[0;32m      <a href='vscode-notebook-cell:/c%3A/Users/Anna/Desktop/DS/IDE/Projects/project_4/Project_4_ML%D1%88%D0%B0%D0%B1%D0%BB%D0%BE%D0%BD.ipynb#Y224sZmlsZQ%3D%3D?line=0'>1</a>\u001b[0m \u001b[39mfrom\u001b[39;00m \u001b[39msklearn\u001b[39;00m \u001b[39mimport\u001b[39;00m metrics \n\u001b[1;32m----> <a href='vscode-notebook-cell:/c%3A/Users/Anna/Desktop/DS/IDE/Projects/project_4/Project_4_ML%D1%88%D0%B0%D0%B1%D0%BB%D0%BE%D0%BD.ipynb#Y224sZmlsZQ%3D%3D?line=1'>2</a>\u001b[0m \u001b[39mfrom\u001b[39;00m \u001b[39mmetrics\u001b[39;00m \u001b[39mimport\u001b[39;00m mean_squared_error\n\u001b[0;32m      <a href='vscode-notebook-cell:/c%3A/Users/Anna/Desktop/DS/IDE/Projects/project_4/Project_4_ML%D1%88%D0%B0%D0%B1%D0%BB%D0%BE%D0%BD.ipynb#Y224sZmlsZQ%3D%3D?line=2'>3</a>\u001b[0m \u001b[39mdef\u001b[39;00m \u001b[39mrmse\u001b[39m(y_true, y_pred):\n\u001b[0;32m      <a href='vscode-notebook-cell:/c%3A/Users/Anna/Desktop/DS/IDE/Projects/project_4/Project_4_ML%D1%88%D0%B0%D0%B1%D0%BB%D0%BE%D0%BD.ipynb#Y224sZmlsZQ%3D%3D?line=3'>4</a>\u001b[0m     \u001b[39mreturn\u001b[39;00m mean_squared_error(y_true, y_pred, squared \u001b[39m=\u001b[39m \u001b[39mFalse\u001b[39;00m)\n",
      "\u001b[1;31mModuleNotFoundError\u001b[0m: No module named 'metrics'"
     ]
    }
   ],
   "source": [
    "from sklearn import metrics \n",
    "from metrics import mean_squared_error\n",
    "def rmse(y_true, y_pred):\n",
    "    return mean_squared_error(y_true, y_pred, squared = False)"
   ]
  },
  {
   "attachments": {},
   "cell_type": "markdown",
   "id": "71559b60",
   "metadata": {},
   "source": [
    "## Часть 1. Знакомство с данными, обработка пропусков и выбросов"
   ]
  },
  {
   "attachments": {},
   "cell_type": "markdown",
   "id": "7c5e31b2",
   "metadata": {},
   "source": [
    "### Задание 1"
   ]
  },
  {
   "cell_type": "code",
   "execution_count": 164,
   "id": "20730cd7",
   "metadata": {},
   "outputs": [],
   "source": [
    "df = pd.read_csv('data/bank_fin.csv', sep = ';')"
   ]
  },
  {
   "cell_type": "code",
   "execution_count": 165,
   "id": "ba11dc67",
   "metadata": {},
   "outputs": [
    {
     "name": "stdout",
     "output_type": "stream",
     "text": [
      "<class 'pandas.core.frame.DataFrame'>\n",
      "RangeIndex: 11162 entries, 0 to 11161\n",
      "Data columns (total 17 columns):\n",
      " #   Column     Non-Null Count  Dtype \n",
      "---  ------     --------------  ----- \n",
      " 0   age        11162 non-null  int64 \n",
      " 1   job        11162 non-null  object\n",
      " 2   marital    11162 non-null  object\n",
      " 3   education  11162 non-null  object\n",
      " 4   default    11162 non-null  object\n",
      " 5   balance    11137 non-null  object\n",
      " 6   housing    11162 non-null  object\n",
      " 7   loan       11162 non-null  object\n",
      " 8   contact    11162 non-null  object\n",
      " 9   day        11162 non-null  int64 \n",
      " 10  month      11162 non-null  object\n",
      " 11  duration   11162 non-null  int64 \n",
      " 12  campaign   11162 non-null  int64 \n",
      " 13  pdays      11162 non-null  int64 \n",
      " 14  previous   11162 non-null  int64 \n",
      " 15  poutcome   11162 non-null  object\n",
      " 16  deposit    11162 non-null  object\n",
      "dtypes: int64(6), object(11)\n",
      "memory usage: 1.4+ MB\n"
     ]
    }
   ],
   "source": [
    "# исследуйте данные на предмет пропусков. Где есть пропущенные значения? Сколько их?\n",
    "# ваш код\n",
    "df.info()"
   ]
  },
  {
   "cell_type": "code",
   "execution_count": 166,
   "id": "5f82cb4d",
   "metadata": {},
   "outputs": [
    {
     "data": {
      "text/plain": [
       "age           0\n",
       "job           0\n",
       "marital       0\n",
       "education     0\n",
       "default       0\n",
       "balance      25\n",
       "housing       0\n",
       "loan          0\n",
       "contact       0\n",
       "day           0\n",
       "month         0\n",
       "duration      0\n",
       "campaign      0\n",
       "pdays         0\n",
       "previous      0\n",
       "poutcome      0\n",
       "deposit       0\n",
       "dtype: int64"
      ]
     },
     "execution_count": 166,
     "metadata": {},
     "output_type": "execute_result"
    }
   ],
   "source": [
    "df.isnull().sum()"
   ]
  },
  {
   "attachments": {},
   "cell_type": "markdown",
   "id": "6366f059",
   "metadata": {},
   "source": [
    "### Задание 2"
   ]
  },
  {
   "cell_type": "code",
   "execution_count": 167,
   "id": "98ea29d4",
   "metadata": {},
   "outputs": [
    {
     "data": {
      "text/plain": [
       "management       2566\n",
       "blue-collar      1944\n",
       "technician       1823\n",
       "admin.           1334\n",
       "services          923\n",
       "retired           778\n",
       "self-employed     405\n",
       "student           360\n",
       "unemployed        357\n",
       "entrepreneur      328\n",
       "housemaid         274\n",
       "unknown            70\n",
       "Name: job, dtype: int64"
      ]
     },
     "execution_count": 167,
     "metadata": {},
     "output_type": "execute_result"
    }
   ],
   "source": [
    "# есть ли в признаке job пропущенные значения? Возможно, они обозначены каким-то специальным словом?\n",
    "# ваш код\n",
    "df['job'].value_counts()"
   ]
  },
  {
   "cell_type": "code",
   "execution_count": 168,
   "id": "691557df",
   "metadata": {},
   "outputs": [
    {
     "data": {
      "text/plain": [
       "age  job         marital   education  default  balance        housing  loan  contact    day  month  duration  campaign  pdays  previous  poutcome  deposit\n",
       "18   student     single    primary    no        608,00 $      no       no    cellular   12   aug    267       1         -1     0         unknown   yes        1\n",
       "45   management  single    tertiary   no        4 831,00 $    no       no    cellular   30   jul    852       3          182   11        success   yes        1\n",
       "                 married   tertiary   yes      -577,00 $      yes      yes   cellular   24   jul    204       1         -1     0         unknown   no         1\n",
       "                           unknown    no        2 724,00 $    no       no    cellular   28   jun    359       2          182   1         success   yes        1\n",
       "                                                9 051,00 $    yes      no    unknown    19   may    124       63        -1     0         unknown   no         1\n",
       "                                                                                                                                                             ..\n",
       "34   management  single    tertiary   no        13 014,00 $   no       no    cellular   13   aug    738       1         -1     0         unknown   yes        1\n",
       "                                                171,00 $      yes      no    cellular   7    may    191       1          294   1         failure   no         1\n",
       "                                                2 159,00 $    no       no    unknown    18   feb    386       1         -1     0         unknown   yes        1\n",
       "                                                2 555,00 $    yes      no    cellular   26   may    129       2         -1     0         unknown   no         1\n",
       "95   retired     divorced  primary    no        2 282,00 $    no       no    telephone  21   apr    207       17        -1     0         unknown   yes        1\n",
       "Length: 11137, dtype: int64"
      ]
     },
     "execution_count": 168,
     "metadata": {},
     "output_type": "execute_result"
    }
   ],
   "source": [
    "df.value_counts()"
   ]
  },
  {
   "attachments": {},
   "cell_type": "markdown",
   "id": "8fcf4fcd",
   "metadata": {},
   "source": [
    "### Задание 3"
   ]
  },
  {
   "cell_type": "code",
   "execution_count": 169,
   "id": "bff15dd0",
   "metadata": {},
   "outputs": [
    {
     "data": {
      "text/plain": [
       "0      2 343,00 $ \n",
       "1         45,00 $ \n",
       "2      1 270,00 $ \n",
       "3      2 476,00 $ \n",
       "4        184,00 $ \n",
       "5            0  $ \n",
       "6        830,00 $ \n",
       "7        545,00 $ \n",
       "8          1,00 $ \n",
       "9              NaN\n",
       "10       100,00 $ \n",
       "11       309,00 $ \n",
       "12       199,00 $ \n",
       "13       460,00 $ \n",
       "14       703,00 $ \n",
       "Name: balance, dtype: object"
      ]
     },
     "execution_count": 169,
     "metadata": {},
     "output_type": "execute_result"
    }
   ],
   "source": [
    "df['balance'].head(15)"
   ]
  },
  {
   "cell_type": "code",
   "execution_count": 170,
   "id": "bdcd5af1",
   "metadata": {},
   "outputs": [],
   "source": [
    "def to_float(x):\n",
    "    x = str(x)\n",
    "    x = x.replace(' ', '').replace(',00', '').replace('$', '')\n",
    "    return x"
   ]
  },
  {
   "cell_type": "code",
   "execution_count": 171,
   "id": "ce0a3d69",
   "metadata": {},
   "outputs": [],
   "source": [
    "df['balance'] = df['balance'].apply(to_float).astype('float')"
   ]
  },
  {
   "cell_type": "code",
   "execution_count": 172,
   "id": "52f09d64",
   "metadata": {},
   "outputs": [
    {
     "name": "stdout",
     "output_type": "stream",
     "text": [
      "1529.129\n"
     ]
    }
   ],
   "source": [
    "print(round(df['balance'].mean(), 3))\n"
   ]
  },
  {
   "attachments": {},
   "cell_type": "markdown",
   "id": "6de63fd7",
   "metadata": {},
   "source": [
    "### Задание 4"
   ]
  },
  {
   "cell_type": "code",
   "execution_count": 173,
   "id": "6a684a63",
   "metadata": {},
   "outputs": [],
   "source": [
    "# обработайте пропуски в признаки balance , заменив их на медианные значения по данному признаку\n",
    "# ваш код\n",
    "df = df.fillna({'balance':df['balance'].median()})"
   ]
  },
  {
   "cell_type": "code",
   "execution_count": 174,
   "id": "64879dbd",
   "metadata": {},
   "outputs": [
    {
     "data": {
      "text/plain": [
       "0        2343.0\n",
       "1          45.0\n",
       "2        1270.0\n",
       "3        2476.0\n",
       "4         184.0\n",
       "          ...  \n",
       "11157       1.0\n",
       "11158     733.0\n",
       "11159      29.0\n",
       "11160       0.0\n",
       "11161       0.0\n",
       "Name: balance, Length: 11162, dtype: float64"
      ]
     },
     "execution_count": 174,
     "metadata": {},
     "output_type": "execute_result"
    }
   ],
   "source": [
    "df['balance']"
   ]
  },
  {
   "cell_type": "code",
   "execution_count": 175,
   "id": "95f24902",
   "metadata": {},
   "outputs": [
    {
     "data": {
      "text/plain": [
       "age          0\n",
       "job          0\n",
       "marital      0\n",
       "education    0\n",
       "default      0\n",
       "balance      0\n",
       "housing      0\n",
       "loan         0\n",
       "contact      0\n",
       "day          0\n",
       "month        0\n",
       "duration     0\n",
       "campaign     0\n",
       "pdays        0\n",
       "previous     0\n",
       "poutcome     0\n",
       "deposit      0\n",
       "dtype: int64"
      ]
     },
     "execution_count": 175,
     "metadata": {},
     "output_type": "execute_result"
    }
   ],
   "source": [
    "df.isnull().sum()"
   ]
  },
  {
   "cell_type": "code",
   "execution_count": 176,
   "id": "fec54cb1",
   "metadata": {},
   "outputs": [
    {
     "name": "stdout",
     "output_type": "stream",
     "text": [
      "1526.936\n"
     ]
    }
   ],
   "source": [
    "print(round(df['balance'].mean(), 3))"
   ]
  },
  {
   "attachments": {},
   "cell_type": "markdown",
   "id": "1097ec42",
   "metadata": {},
   "source": [
    "### Задание 5"
   ]
  },
  {
   "cell_type": "code",
   "execution_count": 177,
   "id": "0fa070a6",
   "metadata": {},
   "outputs": [],
   "source": [
    "# обработайте пропуски в категориальных признаках: job и education, заменив их на модальные значения\n",
    "# ваш код\n"
   ]
  },
  {
   "cell_type": "code",
   "execution_count": 178,
   "id": "c0191a6d",
   "metadata": {},
   "outputs": [
    {
     "data": {
      "text/plain": [
       "management       2566\n",
       "blue-collar      1944\n",
       "technician       1823\n",
       "admin.           1334\n",
       "services          923\n",
       "retired           778\n",
       "self-employed     405\n",
       "student           360\n",
       "unemployed        357\n",
       "entrepreneur      328\n",
       "housemaid         274\n",
       "unknown            70\n",
       "Name: job, dtype: int64"
      ]
     },
     "execution_count": 178,
     "metadata": {},
     "output_type": "execute_result"
    }
   ],
   "source": [
    "df['job'].value_counts()"
   ]
  },
  {
   "cell_type": "code",
   "execution_count": 179,
   "id": "4bea0100",
   "metadata": {},
   "outputs": [
    {
     "data": {
      "text/plain": [
       "secondary    5476\n",
       "tertiary     3689\n",
       "primary      1500\n",
       "unknown       497\n",
       "Name: education, dtype: int64"
      ]
     },
     "execution_count": 179,
     "metadata": {},
     "output_type": "execute_result"
    }
   ],
   "source": [
    "df['education'].value_counts()"
   ]
  },
  {
   "cell_type": "code",
   "execution_count": 180,
   "id": "28c3db86",
   "metadata": {},
   "outputs": [],
   "source": [
    "df['job'] = df['job'].apply(lambda x: 'management' if x == 'unknown' else x)"
   ]
  },
  {
   "cell_type": "code",
   "execution_count": 181,
   "id": "5ffc100f",
   "metadata": {},
   "outputs": [],
   "source": [
    "df['education'] = df['education'].apply(lambda x: 'secondary' if x == 'unknown' else x)"
   ]
  },
  {
   "cell_type": "code",
   "execution_count": 182,
   "id": "8114ddb1",
   "metadata": {},
   "outputs": [
    {
     "name": "stdout",
     "output_type": "stream",
     "text": [
      "1598.883\n"
     ]
    }
   ],
   "source": [
    "mask = (df['job']=='management')&(df['education']=='secondary')\n",
    "print(round(df[mask]['balance'].mean(), 3))"
   ]
  },
  {
   "attachments": {},
   "cell_type": "markdown",
   "id": "02af77c6",
   "metadata": {},
   "source": [
    "### Задание 6"
   ]
  },
  {
   "cell_type": "code",
   "execution_count": 183,
   "id": "3802cdd9",
   "metadata": {},
   "outputs": [],
   "source": [
    "# удалите все выбросы для признака balance\n",
    "# ваш код"
   ]
  },
  {
   "cell_type": "code",
   "execution_count": 184,
   "id": "3b5861f0",
   "metadata": {},
   "outputs": [],
   "source": [
    "def outliers_iqr(data, feature):\n",
    "    x = data[feature]\n",
    "    quart1, quart3 = x.quantile(0.25), x.quantile(0.75)\n",
    "    iqr = quart3-quart1\n",
    "    low_bound = quart1-(iqr*1.5)\n",
    "    up_bound = quart3+(iqr*1.5)\n",
    "    print(low_bound, up_bound)\n",
    "    outliers = data[(x<low_bound)|(x>up_bound)]\n",
    "    cleaned = data[(x>=low_bound)&(x<=up_bound)]\n",
    "    return outliers, cleaned"
   ]
  },
  {
   "cell_type": "code",
   "execution_count": 185,
   "id": "71524f30",
   "metadata": {},
   "outputs": [
    {
     "name": "stdout",
     "output_type": "stream",
     "text": [
      "-2241.0 4063.0\n"
     ]
    }
   ],
   "source": [
    "outliers, cleaned = outliers_iqr(df, 'balance')"
   ]
  },
  {
   "cell_type": "code",
   "execution_count": 186,
   "id": "29877f67",
   "metadata": {},
   "outputs": [
    {
     "data": {
      "text/plain": [
       "(10105, 17)"
      ]
     },
     "execution_count": 186,
     "metadata": {},
     "output_type": "execute_result"
    }
   ],
   "source": [
    "cleaned.shape"
   ]
  },
  {
   "attachments": {},
   "cell_type": "markdown",
   "id": "5d22b8cd",
   "metadata": {},
   "source": [
    "## Часть 2:  Разведывательный анализ"
   ]
  },
  {
   "attachments": {},
   "cell_type": "markdown",
   "id": "21e1f083",
   "metadata": {},
   "source": [
    "### Задание 1"
   ]
  },
  {
   "cell_type": "code",
   "execution_count": 187,
   "id": "a40fe6e2",
   "metadata": {},
   "outputs": [
    {
     "data": {
      "text/plain": [
       "4681"
      ]
     },
     "execution_count": 187,
     "metadata": {},
     "output_type": "execute_result"
    }
   ],
   "source": [
    "cleaned[cleaned['deposit']=='yes']['deposit'].count()"
   ]
  },
  {
   "cell_type": "code",
   "execution_count": 188,
   "id": "6d0cd3a8",
   "metadata": {},
   "outputs": [
    {
     "data": {
      "text/plain": [
       "no     0.536764\n",
       "yes    0.463236\n",
       "Name: deposit, dtype: float64"
      ]
     },
     "execution_count": 188,
     "metadata": {},
     "output_type": "execute_result"
    }
   ],
   "source": [
    "# изучите соотношение классов в ваших данных на предмет несбалансированности, проиллюстрируйте\n",
    "cleaned['deposit'].value_counts(normalize=True)"
   ]
  },
  {
   "cell_type": "code",
   "execution_count": 189,
   "id": "157636e9",
   "metadata": {},
   "outputs": [
    {
     "data": {
      "text/plain": [
       "<AxesSubplot: xlabel='deposit', ylabel='count'>"
      ]
     },
     "execution_count": 189,
     "metadata": {},
     "output_type": "execute_result"
    },
    {
     "data": {
      "image/png": "[encoded data removed]",
      "text/plain": [
       "<Figure size 640x480 with 1 Axes>"
      ]
     },
     "metadata": {},
     "output_type": "display_data"
    }
   ],
   "source": [
    "sns.countplot(cleaned, x='deposit')"
   ]
  },
  {
   "attachments": {},
   "cell_type": "markdown",
   "id": "426b1d40",
   "metadata": {},
   "source": [
    "### Задания 2 и 3"
   ]
  },
  {
   "cell_type": "code",
   "execution_count": 190,
   "id": "5711a1bd",
   "metadata": {},
   "outputs": [
    {
     "data": {
      "text/html": [
       "<div>\n",
       "<style scoped>\n",
       "    .dataframe tbody tr th:only-of-type {\n",
       "        vertical-align: middle;\n",
       "    }\n",
       "\n",
       "    .dataframe tbody tr th {\n",
       "        vertical-align: top;\n",
       "    }\n",
       "\n",
       "    .dataframe thead th {\n",
       "        text-align: right;\n",
       "    }\n",
       "</style>\n",
       "<table border=\"1\" class=\"dataframe\">\n",
       "  <thead>\n",
       "    <tr style=\"text-align: right;\">\n",
       "      <th></th>\n",
       "      <th>age</th>\n",
       "      <th>job</th>\n",
       "      <th>marital</th>\n",
       "      <th>education</th>\n",
       "      <th>default</th>\n",
       "      <th>balance</th>\n",
       "      <th>housing</th>\n",
       "      <th>loan</th>\n",
       "      <th>contact</th>\n",
       "      <th>day</th>\n",
       "      <th>month</th>\n",
       "      <th>duration</th>\n",
       "      <th>campaign</th>\n",
       "      <th>pdays</th>\n",
       "      <th>previous</th>\n",
       "      <th>poutcome</th>\n",
       "      <th>deposit</th>\n",
       "    </tr>\n",
       "  </thead>\n",
       "  <tbody>\n",
       "    <tr>\n",
       "      <th>0</th>\n",
       "      <td>59</td>\n",
       "      <td>admin.</td>\n",
       "      <td>married</td>\n",
       "      <td>secondary</td>\n",
       "      <td>no</td>\n",
       "      <td>2343.0</td>\n",
       "      <td>yes</td>\n",
       "      <td>no</td>\n",
       "      <td>unknown</td>\n",
       "      <td>5</td>\n",
       "      <td>may</td>\n",
       "      <td>1042</td>\n",
       "      <td>1</td>\n",
       "      <td>-1</td>\n",
       "      <td>0</td>\n",
       "      <td>unknown</td>\n",
       "      <td>yes</td>\n",
       "    </tr>\n",
       "    <tr>\n",
       "      <th>1</th>\n",
       "      <td>56</td>\n",
       "      <td>admin.</td>\n",
       "      <td>married</td>\n",
       "      <td>secondary</td>\n",
       "      <td>no</td>\n",
       "      <td>45.0</td>\n",
       "      <td>no</td>\n",
       "      <td>no</td>\n",
       "      <td>unknown</td>\n",
       "      <td>5</td>\n",
       "      <td>may</td>\n",
       "      <td>1467</td>\n",
       "      <td>1</td>\n",
       "      <td>-1</td>\n",
       "      <td>0</td>\n",
       "      <td>unknown</td>\n",
       "      <td>yes</td>\n",
       "    </tr>\n",
       "    <tr>\n",
       "      <th>2</th>\n",
       "      <td>41</td>\n",
       "      <td>technician</td>\n",
       "      <td>married</td>\n",
       "      <td>secondary</td>\n",
       "      <td>no</td>\n",
       "      <td>1270.0</td>\n",
       "      <td>yes</td>\n",
       "      <td>no</td>\n",
       "      <td>unknown</td>\n",
       "      <td>5</td>\n",
       "      <td>may</td>\n",
       "      <td>1389</td>\n",
       "      <td>1</td>\n",
       "      <td>-1</td>\n",
       "      <td>0</td>\n",
       "      <td>unknown</td>\n",
       "      <td>yes</td>\n",
       "    </tr>\n",
       "    <tr>\n",
       "      <th>3</th>\n",
       "      <td>55</td>\n",
       "      <td>services</td>\n",
       "      <td>married</td>\n",
       "      <td>secondary</td>\n",
       "      <td>no</td>\n",
       "      <td>2476.0</td>\n",
       "      <td>yes</td>\n",
       "      <td>no</td>\n",
       "      <td>unknown</td>\n",
       "      <td>5</td>\n",
       "      <td>may</td>\n",
       "      <td>579</td>\n",
       "      <td>1</td>\n",
       "      <td>-1</td>\n",
       "      <td>0</td>\n",
       "      <td>unknown</td>\n",
       "      <td>yes</td>\n",
       "    </tr>\n",
       "    <tr>\n",
       "      <th>4</th>\n",
       "      <td>54</td>\n",
       "      <td>admin.</td>\n",
       "      <td>married</td>\n",
       "      <td>tertiary</td>\n",
       "      <td>no</td>\n",
       "      <td>184.0</td>\n",
       "      <td>no</td>\n",
       "      <td>no</td>\n",
       "      <td>unknown</td>\n",
       "      <td>5</td>\n",
       "      <td>may</td>\n",
       "      <td>673</td>\n",
       "      <td>2</td>\n",
       "      <td>-1</td>\n",
       "      <td>0</td>\n",
       "      <td>unknown</td>\n",
       "      <td>yes</td>\n",
       "    </tr>\n",
       "    <tr>\n",
       "      <th>5</th>\n",
       "      <td>42</td>\n",
       "      <td>management</td>\n",
       "      <td>single</td>\n",
       "      <td>tertiary</td>\n",
       "      <td>no</td>\n",
       "      <td>0.0</td>\n",
       "      <td>yes</td>\n",
       "      <td>yes</td>\n",
       "      <td>unknown</td>\n",
       "      <td>5</td>\n",
       "      <td>may</td>\n",
       "      <td>562</td>\n",
       "      <td>2</td>\n",
       "      <td>-1</td>\n",
       "      <td>0</td>\n",
       "      <td>unknown</td>\n",
       "      <td>yes</td>\n",
       "    </tr>\n",
       "    <tr>\n",
       "      <th>6</th>\n",
       "      <td>56</td>\n",
       "      <td>management</td>\n",
       "      <td>married</td>\n",
       "      <td>tertiary</td>\n",
       "      <td>no</td>\n",
       "      <td>830.0</td>\n",
       "      <td>yes</td>\n",
       "      <td>yes</td>\n",
       "      <td>unknown</td>\n",
       "      <td>6</td>\n",
       "      <td>may</td>\n",
       "      <td>1201</td>\n",
       "      <td>1</td>\n",
       "      <td>-1</td>\n",
       "      <td>0</td>\n",
       "      <td>unknown</td>\n",
       "      <td>yes</td>\n",
       "    </tr>\n",
       "    <tr>\n",
       "      <th>7</th>\n",
       "      <td>60</td>\n",
       "      <td>retired</td>\n",
       "      <td>divorced</td>\n",
       "      <td>secondary</td>\n",
       "      <td>no</td>\n",
       "      <td>545.0</td>\n",
       "      <td>yes</td>\n",
       "      <td>no</td>\n",
       "      <td>unknown</td>\n",
       "      <td>6</td>\n",
       "      <td>may</td>\n",
       "      <td>1030</td>\n",
       "      <td>1</td>\n",
       "      <td>-1</td>\n",
       "      <td>0</td>\n",
       "      <td>unknown</td>\n",
       "      <td>yes</td>\n",
       "    </tr>\n",
       "    <tr>\n",
       "      <th>8</th>\n",
       "      <td>37</td>\n",
       "      <td>technician</td>\n",
       "      <td>married</td>\n",
       "      <td>secondary</td>\n",
       "      <td>no</td>\n",
       "      <td>1.0</td>\n",
       "      <td>yes</td>\n",
       "      <td>no</td>\n",
       "      <td>unknown</td>\n",
       "      <td>6</td>\n",
       "      <td>may</td>\n",
       "      <td>608</td>\n",
       "      <td>1</td>\n",
       "      <td>-1</td>\n",
       "      <td>0</td>\n",
       "      <td>unknown</td>\n",
       "      <td>yes</td>\n",
       "    </tr>\n",
       "    <tr>\n",
       "      <th>9</th>\n",
       "      <td>28</td>\n",
       "      <td>services</td>\n",
       "      <td>single</td>\n",
       "      <td>secondary</td>\n",
       "      <td>no</td>\n",
       "      <td>550.0</td>\n",
       "      <td>yes</td>\n",
       "      <td>no</td>\n",
       "      <td>unknown</td>\n",
       "      <td>6</td>\n",
       "      <td>may</td>\n",
       "      <td>1297</td>\n",
       "      <td>3</td>\n",
       "      <td>-1</td>\n",
       "      <td>0</td>\n",
       "      <td>unknown</td>\n",
       "      <td>yes</td>\n",
       "    </tr>\n",
       "    <tr>\n",
       "      <th>10</th>\n",
       "      <td>38</td>\n",
       "      <td>admin.</td>\n",
       "      <td>single</td>\n",
       "      <td>secondary</td>\n",
       "      <td>no</td>\n",
       "      <td>100.0</td>\n",
       "      <td>yes</td>\n",
       "      <td>no</td>\n",
       "      <td>unknown</td>\n",
       "      <td>7</td>\n",
       "      <td>may</td>\n",
       "      <td>786</td>\n",
       "      <td>1</td>\n",
       "      <td>-1</td>\n",
       "      <td>0</td>\n",
       "      <td>unknown</td>\n",
       "      <td>yes</td>\n",
       "    </tr>\n",
       "    <tr>\n",
       "      <th>11</th>\n",
       "      <td>30</td>\n",
       "      <td>blue-collar</td>\n",
       "      <td>married</td>\n",
       "      <td>secondary</td>\n",
       "      <td>no</td>\n",
       "      <td>309.0</td>\n",
       "      <td>yes</td>\n",
       "      <td>no</td>\n",
       "      <td>unknown</td>\n",
       "      <td>7</td>\n",
       "      <td>may</td>\n",
       "      <td>1574</td>\n",
       "      <td>2</td>\n",
       "      <td>-1</td>\n",
       "      <td>0</td>\n",
       "      <td>unknown</td>\n",
       "      <td>yes</td>\n",
       "    </tr>\n",
       "    <tr>\n",
       "      <th>12</th>\n",
       "      <td>29</td>\n",
       "      <td>management</td>\n",
       "      <td>married</td>\n",
       "      <td>tertiary</td>\n",
       "      <td>no</td>\n",
       "      <td>199.0</td>\n",
       "      <td>yes</td>\n",
       "      <td>yes</td>\n",
       "      <td>unknown</td>\n",
       "      <td>7</td>\n",
       "      <td>may</td>\n",
       "      <td>1689</td>\n",
       "      <td>4</td>\n",
       "      <td>-1</td>\n",
       "      <td>0</td>\n",
       "      <td>unknown</td>\n",
       "      <td>yes</td>\n",
       "    </tr>\n",
       "    <tr>\n",
       "      <th>13</th>\n",
       "      <td>46</td>\n",
       "      <td>blue-collar</td>\n",
       "      <td>single</td>\n",
       "      <td>tertiary</td>\n",
       "      <td>no</td>\n",
       "      <td>460.0</td>\n",
       "      <td>yes</td>\n",
       "      <td>no</td>\n",
       "      <td>unknown</td>\n",
       "      <td>7</td>\n",
       "      <td>may</td>\n",
       "      <td>1102</td>\n",
       "      <td>2</td>\n",
       "      <td>-1</td>\n",
       "      <td>0</td>\n",
       "      <td>unknown</td>\n",
       "      <td>yes</td>\n",
       "    </tr>\n",
       "    <tr>\n",
       "      <th>14</th>\n",
       "      <td>31</td>\n",
       "      <td>technician</td>\n",
       "      <td>single</td>\n",
       "      <td>tertiary</td>\n",
       "      <td>no</td>\n",
       "      <td>703.0</td>\n",
       "      <td>yes</td>\n",
       "      <td>no</td>\n",
       "      <td>unknown</td>\n",
       "      <td>8</td>\n",
       "      <td>may</td>\n",
       "      <td>943</td>\n",
       "      <td>2</td>\n",
       "      <td>-1</td>\n",
       "      <td>0</td>\n",
       "      <td>unknown</td>\n",
       "      <td>yes</td>\n",
       "    </tr>\n",
       "    <tr>\n",
       "      <th>15</th>\n",
       "      <td>35</td>\n",
       "      <td>management</td>\n",
       "      <td>divorced</td>\n",
       "      <td>tertiary</td>\n",
       "      <td>no</td>\n",
       "      <td>3837.0</td>\n",
       "      <td>yes</td>\n",
       "      <td>no</td>\n",
       "      <td>unknown</td>\n",
       "      <td>8</td>\n",
       "      <td>may</td>\n",
       "      <td>1084</td>\n",
       "      <td>1</td>\n",
       "      <td>-1</td>\n",
       "      <td>0</td>\n",
       "      <td>unknown</td>\n",
       "      <td>yes</td>\n",
       "    </tr>\n",
       "    <tr>\n",
       "      <th>16</th>\n",
       "      <td>32</td>\n",
       "      <td>blue-collar</td>\n",
       "      <td>single</td>\n",
       "      <td>primary</td>\n",
       "      <td>no</td>\n",
       "      <td>611.0</td>\n",
       "      <td>yes</td>\n",
       "      <td>no</td>\n",
       "      <td>unknown</td>\n",
       "      <td>8</td>\n",
       "      <td>may</td>\n",
       "      <td>541</td>\n",
       "      <td>3</td>\n",
       "      <td>-1</td>\n",
       "      <td>0</td>\n",
       "      <td>unknown</td>\n",
       "      <td>yes</td>\n",
       "    </tr>\n",
       "    <tr>\n",
       "      <th>17</th>\n",
       "      <td>49</td>\n",
       "      <td>services</td>\n",
       "      <td>married</td>\n",
       "      <td>secondary</td>\n",
       "      <td>no</td>\n",
       "      <td>-8.0</td>\n",
       "      <td>yes</td>\n",
       "      <td>no</td>\n",
       "      <td>unknown</td>\n",
       "      <td>8</td>\n",
       "      <td>may</td>\n",
       "      <td>1119</td>\n",
       "      <td>1</td>\n",
       "      <td>-1</td>\n",
       "      <td>0</td>\n",
       "      <td>unknown</td>\n",
       "      <td>yes</td>\n",
       "    </tr>\n",
       "    <tr>\n",
       "      <th>18</th>\n",
       "      <td>41</td>\n",
       "      <td>admin.</td>\n",
       "      <td>married</td>\n",
       "      <td>secondary</td>\n",
       "      <td>no</td>\n",
       "      <td>55.0</td>\n",
       "      <td>yes</td>\n",
       "      <td>no</td>\n",
       "      <td>unknown</td>\n",
       "      <td>8</td>\n",
       "      <td>may</td>\n",
       "      <td>1120</td>\n",
       "      <td>2</td>\n",
       "      <td>-1</td>\n",
       "      <td>0</td>\n",
       "      <td>unknown</td>\n",
       "      <td>yes</td>\n",
       "    </tr>\n",
       "    <tr>\n",
       "      <th>19</th>\n",
       "      <td>49</td>\n",
       "      <td>admin.</td>\n",
       "      <td>divorced</td>\n",
       "      <td>secondary</td>\n",
       "      <td>no</td>\n",
       "      <td>168.0</td>\n",
       "      <td>yes</td>\n",
       "      <td>yes</td>\n",
       "      <td>unknown</td>\n",
       "      <td>8</td>\n",
       "      <td>may</td>\n",
       "      <td>513</td>\n",
       "      <td>1</td>\n",
       "      <td>-1</td>\n",
       "      <td>0</td>\n",
       "      <td>unknown</td>\n",
       "      <td>yes</td>\n",
       "    </tr>\n",
       "  </tbody>\n",
       "</table>\n",
       "</div>"
      ],
      "text/plain": [
       "    age          job   marital  education default  balance housing loan  \\\n",
       "0    59       admin.   married  secondary      no   2343.0     yes   no   \n",
       "1    56       admin.   married  secondary      no     45.0      no   no   \n",
       "2    41   technician   married  secondary      no   1270.0     yes   no   \n",
       "3    55     services   married  secondary      no   2476.0     yes   no   \n",
       "4    54       admin.   married   tertiary      no    184.0      no   no   \n",
       "5    42   management    single   tertiary      no      0.0     yes  yes   \n",
       "6    56   management   married   tertiary      no    830.0     yes  yes   \n",
       "7    60      retired  divorced  secondary      no    545.0     yes   no   \n",
       "8    37   technician   married  secondary      no      1.0     yes   no   \n",
       "9    28     services    single  secondary      no    550.0     yes   no   \n",
       "10   38       admin.    single  secondary      no    100.0     yes   no   \n",
       "11   30  blue-collar   married  secondary      no    309.0     yes   no   \n",
       "12   29   management   married   tertiary      no    199.0     yes  yes   \n",
       "13   46  blue-collar    single   tertiary      no    460.0     yes   no   \n",
       "14   31   technician    single   tertiary      no    703.0     yes   no   \n",
       "15   35   management  divorced   tertiary      no   3837.0     yes   no   \n",
       "16   32  blue-collar    single    primary      no    611.0     yes   no   \n",
       "17   49     services   married  secondary      no     -8.0     yes   no   \n",
       "18   41       admin.   married  secondary      no     55.0     yes   no   \n",
       "19   49       admin.  divorced  secondary      no    168.0     yes  yes   \n",
       "\n",
       "    contact  day month  duration  campaign  pdays  previous poutcome deposit  \n",
       "0   unknown    5   may      1042         1     -1         0  unknown     yes  \n",
       "1   unknown    5   may      1467         1     -1         0  unknown     yes  \n",
       "2   unknown    5   may      1389         1     -1         0  unknown     yes  \n",
       "3   unknown    5   may       579         1     -1         0  unknown     yes  \n",
       "4   unknown    5   may       673         2     -1         0  unknown     yes  \n",
       "5   unknown    5   may       562         2     -1         0  unknown     yes  \n",
       "6   unknown    6   may      1201         1     -1         0  unknown     yes  \n",
       "7   unknown    6   may      1030         1     -1         0  unknown     yes  \n",
       "8   unknown    6   may       608         1     -1         0  unknown     yes  \n",
       "9   unknown    6   may      1297         3     -1         0  unknown     yes  \n",
       "10  unknown    7   may       786         1     -1         0  unknown     yes  \n",
       "11  unknown    7   may      1574         2     -1         0  unknown     yes  \n",
       "12  unknown    7   may      1689         4     -1         0  unknown     yes  \n",
       "13  unknown    7   may      1102         2     -1         0  unknown     yes  \n",
       "14  unknown    8   may       943         2     -1         0  unknown     yes  \n",
       "15  unknown    8   may      1084         1     -1         0  unknown     yes  \n",
       "16  unknown    8   may       541         3     -1         0  unknown     yes  \n",
       "17  unknown    8   may      1119         1     -1         0  unknown     yes  \n",
       "18  unknown    8   may      1120         2     -1         0  unknown     yes  \n",
       "19  unknown    8   may       513         1     -1         0  unknown     yes  "
      ]
     },
     "execution_count": 190,
     "metadata": {},
     "output_type": "execute_result"
    }
   ],
   "source": [
    "cleaned.head(20)"
   ]
  },
  {
   "cell_type": "code",
   "execution_count": 191,
   "id": "6cd678d3",
   "metadata": {},
   "outputs": [
    {
     "name": "stdout",
     "output_type": "stream",
     "text": [
      "<class 'pandas.core.frame.DataFrame'>\n",
      "Int64Index: 10105 entries, 0 to 11161\n",
      "Data columns (total 17 columns):\n",
      " #   Column     Non-Null Count  Dtype  \n",
      "---  ------     --------------  -----  \n",
      " 0   age        10105 non-null  int64  \n",
      " 1   job        10105 non-null  object \n",
      " 2   marital    10105 non-null  object \n",
      " 3   education  10105 non-null  object \n",
      " 4   default    10105 non-null  object \n",
      " 5   balance    10105 non-null  float64\n",
      " 6   housing    10105 non-null  object \n",
      " 7   loan       10105 non-null  object \n",
      " 8   contact    10105 non-null  object \n",
      " 9   day        10105 non-null  int64  \n",
      " 10  month      10105 non-null  object \n",
      " 11  duration   10105 non-null  int64  \n",
      " 12  campaign   10105 non-null  int64  \n",
      " 13  pdays      10105 non-null  int64  \n",
      " 14  previous   10105 non-null  int64  \n",
      " 15  poutcome   10105 non-null  object \n",
      " 16  deposit    10105 non-null  object \n",
      "dtypes: float64(1), int64(6), object(10)\n",
      "memory usage: 1.4+ MB\n"
     ]
    }
   ],
   "source": [
    "cleaned.info()"
   ]
  },
  {
   "cell_type": "code",
   "execution_count": 192,
   "id": "89c3b9bd",
   "metadata": {},
   "outputs": [
    {
     "data": {
      "text/html": [
       "<div>\n",
       "<style scoped>\n",
       "    .dataframe tbody tr th:only-of-type {\n",
       "        vertical-align: middle;\n",
       "    }\n",
       "\n",
       "    .dataframe tbody tr th {\n",
       "        vertical-align: top;\n",
       "    }\n",
       "\n",
       "    .dataframe thead th {\n",
       "        text-align: right;\n",
       "    }\n",
       "</style>\n",
       "<table border=\"1\" class=\"dataframe\">\n",
       "  <thead>\n",
       "    <tr style=\"text-align: right;\">\n",
       "      <th></th>\n",
       "      <th>age</th>\n",
       "      <th>balance</th>\n",
       "      <th>day</th>\n",
       "      <th>duration</th>\n",
       "      <th>campaign</th>\n",
       "      <th>pdays</th>\n",
       "      <th>previous</th>\n",
       "    </tr>\n",
       "  </thead>\n",
       "  <tbody>\n",
       "    <tr>\n",
       "      <th>count</th>\n",
       "      <td>10105.000000</td>\n",
       "      <td>10105.000000</td>\n",
       "      <td>10105.000000</td>\n",
       "      <td>10105.000000</td>\n",
       "      <td>10105.000000</td>\n",
       "      <td>10105.000000</td>\n",
       "      <td>10105.000000</td>\n",
       "    </tr>\n",
       "    <tr>\n",
       "      <th>mean</th>\n",
       "      <td>40.895497</td>\n",
       "      <td>807.653538</td>\n",
       "      <td>15.590302</td>\n",
       "      <td>368.742603</td>\n",
       "      <td>2.517170</td>\n",
       "      <td>51.319644</td>\n",
       "      <td>0.816230</td>\n",
       "    </tr>\n",
       "    <tr>\n",
       "      <th>std</th>\n",
       "      <td>11.734931</td>\n",
       "      <td>994.151966</td>\n",
       "      <td>8.441510</td>\n",
       "      <td>346.651524</td>\n",
       "      <td>2.707159</td>\n",
       "      <td>109.644179</td>\n",
       "      <td>2.243795</td>\n",
       "    </tr>\n",
       "    <tr>\n",
       "      <th>min</th>\n",
       "      <td>18.000000</td>\n",
       "      <td>-2049.000000</td>\n",
       "      <td>1.000000</td>\n",
       "      <td>2.000000</td>\n",
       "      <td>1.000000</td>\n",
       "      <td>-1.000000</td>\n",
       "      <td>0.000000</td>\n",
       "    </tr>\n",
       "    <tr>\n",
       "      <th>25%</th>\n",
       "      <td>32.000000</td>\n",
       "      <td>95.000000</td>\n",
       "      <td>8.000000</td>\n",
       "      <td>137.000000</td>\n",
       "      <td>1.000000</td>\n",
       "      <td>-1.000000</td>\n",
       "      <td>0.000000</td>\n",
       "    </tr>\n",
       "    <tr>\n",
       "      <th>50%</th>\n",
       "      <td>38.000000</td>\n",
       "      <td>445.000000</td>\n",
       "      <td>15.000000</td>\n",
       "      <td>252.000000</td>\n",
       "      <td>2.000000</td>\n",
       "      <td>-1.000000</td>\n",
       "      <td>0.000000</td>\n",
       "    </tr>\n",
       "    <tr>\n",
       "      <th>75%</th>\n",
       "      <td>48.000000</td>\n",
       "      <td>1227.000000</td>\n",
       "      <td>22.000000</td>\n",
       "      <td>490.000000</td>\n",
       "      <td>3.000000</td>\n",
       "      <td>2.000000</td>\n",
       "      <td>1.000000</td>\n",
       "    </tr>\n",
       "    <tr>\n",
       "      <th>max</th>\n",
       "      <td>95.000000</td>\n",
       "      <td>4063.000000</td>\n",
       "      <td>31.000000</td>\n",
       "      <td>3881.000000</td>\n",
       "      <td>43.000000</td>\n",
       "      <td>854.000000</td>\n",
       "      <td>58.000000</td>\n",
       "    </tr>\n",
       "  </tbody>\n",
       "</table>\n",
       "</div>"
      ],
      "text/plain": [
       "                age       balance           day      duration      campaign  \\\n",
       "count  10105.000000  10105.000000  10105.000000  10105.000000  10105.000000   \n",
       "mean      40.895497    807.653538     15.590302    368.742603      2.517170   \n",
       "std       11.734931    994.151966      8.441510    346.651524      2.707159   \n",
       "min       18.000000  -2049.000000      1.000000      2.000000      1.000000   \n",
       "25%       32.000000     95.000000      8.000000    137.000000      1.000000   \n",
       "50%       38.000000    445.000000     15.000000    252.000000      2.000000   \n",
       "75%       48.000000   1227.000000     22.000000    490.000000      3.000000   \n",
       "max       95.000000   4063.000000     31.000000   3881.000000     43.000000   \n",
       "\n",
       "              pdays      previous  \n",
       "count  10105.000000  10105.000000  \n",
       "mean      51.319644      0.816230  \n",
       "std      109.644179      2.243795  \n",
       "min       -1.000000      0.000000  \n",
       "25%       -1.000000      0.000000  \n",
       "50%       -1.000000      0.000000  \n",
       "75%        2.000000      1.000000  \n",
       "max      854.000000     58.000000  "
      ]
     },
     "execution_count": 192,
     "metadata": {},
     "output_type": "execute_result"
    }
   ],
   "source": [
    "cleaned.describe()"
   ]
  },
  {
   "cell_type": "code",
   "execution_count": 193,
   "id": "603cdb3c",
   "metadata": {},
   "outputs": [],
   "source": [
    "#рассчитайте описательные статистики для количественных переменных, проинтерпретируйте результат\n",
    "#ваш код"
   ]
  },
  {
   "attachments": {},
   "cell_type": "markdown",
   "id": "821dc39e",
   "metadata": {},
   "source": [
    "### Задания 4 и 5"
   ]
  },
  {
   "cell_type": "code",
   "execution_count": 194,
   "id": "bf45afc9",
   "metadata": {},
   "outputs": [],
   "source": [
    "#рассчитайте описательные статистики для категориальных переменных, проинтерпретируйте результат\n",
    "#ваш код\n",
    "#постройте визуализации, иллюстрирующие результаты"
   ]
  },
  {
   "cell_type": "code",
   "execution_count": 195,
   "id": "6bc7e3f8",
   "metadata": {},
   "outputs": [
    {
     "data": {
      "text/html": [
       "<div>\n",
       "<style scoped>\n",
       "    .dataframe tbody tr th:only-of-type {\n",
       "        vertical-align: middle;\n",
       "    }\n",
       "\n",
       "    .dataframe tbody tr th {\n",
       "        vertical-align: top;\n",
       "    }\n",
       "\n",
       "    .dataframe thead th {\n",
       "        text-align: right;\n",
       "    }\n",
       "</style>\n",
       "<table border=\"1\" class=\"dataframe\">\n",
       "  <thead>\n",
       "    <tr style=\"text-align: right;\">\n",
       "      <th></th>\n",
       "      <th>job</th>\n",
       "      <th>marital</th>\n",
       "      <th>education</th>\n",
       "      <th>default</th>\n",
       "      <th>housing</th>\n",
       "      <th>loan</th>\n",
       "      <th>contact</th>\n",
       "      <th>month</th>\n",
       "      <th>poutcome</th>\n",
       "      <th>deposit</th>\n",
       "    </tr>\n",
       "  </thead>\n",
       "  <tbody>\n",
       "    <tr>\n",
       "      <th>count</th>\n",
       "      <td>10105</td>\n",
       "      <td>10105</td>\n",
       "      <td>10105</td>\n",
       "      <td>10105</td>\n",
       "      <td>10105</td>\n",
       "      <td>10105</td>\n",
       "      <td>10105</td>\n",
       "      <td>10105</td>\n",
       "      <td>10105</td>\n",
       "      <td>10105</td>\n",
       "    </tr>\n",
       "    <tr>\n",
       "      <th>unique</th>\n",
       "      <td>11</td>\n",
       "      <td>3</td>\n",
       "      <td>3</td>\n",
       "      <td>2</td>\n",
       "      <td>2</td>\n",
       "      <td>2</td>\n",
       "      <td>3</td>\n",
       "      <td>12</td>\n",
       "      <td>4</td>\n",
       "      <td>2</td>\n",
       "    </tr>\n",
       "    <tr>\n",
       "      <th>top</th>\n",
       "      <td>management</td>\n",
       "      <td>married</td>\n",
       "      <td>secondary</td>\n",
       "      <td>no</td>\n",
       "      <td>no</td>\n",
       "      <td>no</td>\n",
       "      <td>cellular</td>\n",
       "      <td>may</td>\n",
       "      <td>unknown</td>\n",
       "      <td>no</td>\n",
       "    </tr>\n",
       "    <tr>\n",
       "      <th>freq</th>\n",
       "      <td>2315</td>\n",
       "      <td>5715</td>\n",
       "      <td>5517</td>\n",
       "      <td>9939</td>\n",
       "      <td>5243</td>\n",
       "      <td>8712</td>\n",
       "      <td>7283</td>\n",
       "      <td>2617</td>\n",
       "      <td>7570</td>\n",
       "      <td>5424</td>\n",
       "    </tr>\n",
       "  </tbody>\n",
       "</table>\n",
       "</div>"
      ],
      "text/plain": [
       "               job  marital  education default housing   loan   contact  \\\n",
       "count        10105    10105      10105   10105   10105  10105     10105   \n",
       "unique          11        3          3       2       2      2         3   \n",
       "top     management  married  secondary      no      no     no  cellular   \n",
       "freq          2315     5715       5517    9939    5243   8712      7283   \n",
       "\n",
       "        month poutcome deposit  \n",
       "count   10105    10105   10105  \n",
       "unique     12        4       2  \n",
       "top       may  unknown      no  \n",
       "freq     2617     7570    5424  "
      ]
     },
     "execution_count": 195,
     "metadata": {},
     "output_type": "execute_result"
    }
   ],
   "source": [
    "cleaned.describe(include='object')"
   ]
  },
  {
   "attachments": {},
   "cell_type": "markdown",
   "id": "472cff5b",
   "metadata": {},
   "source": [
    "### Задание 6"
   ]
  },
  {
   "cell_type": "code",
   "execution_count": 196,
   "id": "2d640ce1",
   "metadata": {},
   "outputs": [],
   "source": [
    "# Узнайте, для какого статуса предыдущей маркетинговой кампании успех в текущей превалирует над количеством неудач.\n",
    "# ваш код"
   ]
  },
  {
   "cell_type": "code",
   "execution_count": 197,
   "id": "be387e56",
   "metadata": {},
   "outputs": [
    {
     "data": {
      "text/plain": [
       "unknown    7570\n",
       "failure    1109\n",
       "success     945\n",
       "other       481\n",
       "Name: poutcome, dtype: int64"
      ]
     },
     "execution_count": 197,
     "metadata": {},
     "output_type": "execute_result"
    }
   ],
   "source": [
    "cleaned['poutcome'].value_counts()"
   ]
  },
  {
   "cell_type": "code",
   "execution_count": 198,
   "id": "1b38c187",
   "metadata": {},
   "outputs": [
    {
     "data": {
      "text/plain": [
       "<AxesSubplot: xlabel='poutcome'>"
      ]
     },
     "execution_count": 198,
     "metadata": {},
     "output_type": "execute_result"
    },
    {
     "data": {
      "image/png": "[encoded data removed]",
      "text/plain": [
       "<Figure size 640x480 with 1 Axes>"
      ]
     },
     "metadata": {},
     "output_type": "display_data"
    }
   ],
   "source": [
    "types = cleaned.groupby(\"poutcome\")['deposit'].value_counts(normalize=False).unstack()\n",
    "types.plot(kind='bar', stacked='True')"
   ]
  },
  {
   "cell_type": "code",
   "execution_count": null,
   "id": "668a5de1",
   "metadata": {},
   "outputs": [],
   "source": []
  },
  {
   "attachments": {},
   "cell_type": "markdown",
   "id": "9c32e3aa",
   "metadata": {},
   "source": [
    "### Задание 7"
   ]
  },
  {
   "cell_type": "code",
   "execution_count": 199,
   "id": "df437ec3",
   "metadata": {},
   "outputs": [],
   "source": [
    "# узнайте, в каком месяце чаще всего отказывались от предложения открыть депозит\n",
    "# ваш код"
   ]
  },
  {
   "cell_type": "code",
   "execution_count": 200,
   "id": "c240141d",
   "metadata": {},
   "outputs": [
    {
     "data": {
      "text/plain": [
       "<AxesSubplot: xlabel='month'>"
      ]
     },
     "execution_count": 200,
     "metadata": {},
     "output_type": "execute_result"
    },
    {
     "data": {
      "image/png": "[encoded data removed]",
      "text/plain": [
       "<Figure size 640x480 with 1 Axes>"
      ]
     },
     "metadata": {},
     "output_type": "display_data"
    }
   ],
   "source": [
    "types = cleaned.groupby(\"month\")['deposit'].value_counts(normalize=False).unstack()\n",
    "types.plot(kind='bar', stacked='True')"
   ]
  },
  {
   "attachments": {},
   "cell_type": "markdown",
   "id": "5f20762f",
   "metadata": {},
   "source": [
    "### Задание 8"
   ]
  },
  {
   "cell_type": "code",
   "execution_count": 201,
   "id": "95d56f1b",
   "metadata": {},
   "outputs": [],
   "source": [
    "# создайте возрастные группы и определите, в каких группах более склонны открывать депозит, чем отказываться от предложения"
   ]
  },
  {
   "cell_type": "code",
   "execution_count": 204,
   "id": "84926dad",
   "metadata": {},
   "outputs": [
    {
     "data": {
      "text/plain": [
       "<AxesSubplot: xlabel='age_group', ylabel='count'>"
      ]
     },
     "execution_count": 204,
     "metadata": {},
     "output_type": "execute_result"
    },
    {
     "data": {
      "image/png": "[encoded data removed]",
      "text/plain": [
       "<Figure size 640x480 with 1 Axes>"
      ]
     },
     "metadata": {},
     "output_type": "display_data"
    }
   ],
   "source": [
    "\n",
    "cleaned['age_group'] = pd.cut(df.age, [0,30,40,50,60,9999], labels = ['<30','30-40','40-50','50-60','60+'])\n",
    "sns.countplot(x=\"age_group\", hue=\"deposit\", data=cleaned)"
   ]
  },
  {
   "attachments": {},
   "cell_type": "markdown",
   "id": "0841c685",
   "metadata": {},
   "source": [
    "### Задания 9 и 10"
   ]
  },
  {
   "cell_type": "code",
   "execution_count": null,
   "id": "0d84a9e1",
   "metadata": {},
   "outputs": [],
   "source": [
    "# постройте визуализации для открывших и неоткрывших депозит в зависимости от семейного статуса"
   ]
  },
  {
   "cell_type": "code",
   "execution_count": 205,
   "id": "efa4e773",
   "metadata": {},
   "outputs": [
    {
     "data": {
      "text/plain": [
       "<AxesSubplot: xlabel='count', ylabel='marital'>"
      ]
     },
     "execution_count": 205,
     "metadata": {},
     "output_type": "execute_result"
    },
    {
     "data": {
      "image/png": "[encoded data removed]",
      "text/plain": [
       "<Figure size 640x480 with 1 Axes>"
      ]
     },
     "metadata": {},
     "output_type": "display_data"
    }
   ],
   "source": [
    "sns.countplot(y='marital', hue='deposit', data=cleaned)"
   ]
  },
  {
   "cell_type": "code",
   "execution_count": 206,
   "id": "16333967",
   "metadata": {},
   "outputs": [],
   "source": [
    "# постройте визуализации для открывших и неоткрывших депозит в зависимости от образования"
   ]
  },
  {
   "cell_type": "code",
   "execution_count": 207,
   "id": "bc6e9fe2",
   "metadata": {},
   "outputs": [
    {
     "data": {
      "text/plain": [
       "<AxesSubplot: xlabel='count', ylabel='education'>"
      ]
     },
     "execution_count": 207,
     "metadata": {},
     "output_type": "execute_result"
    },
    {
     "data": {
      "image/png": "[encoded data removed]",
      "text/plain": [
       "<Figure size 640x480 with 1 Axes>"
      ]
     },
     "metadata": {},
     "output_type": "display_data"
    }
   ],
   "source": [
    "sns.countplot(y='education', hue='deposit', data=cleaned)"
   ]
  },
  {
   "cell_type": "code",
   "execution_count": 208,
   "id": "738224f8",
   "metadata": {},
   "outputs": [],
   "source": [
    "# постройте визуализации для открывших и неоткрывших депозит в зависимости от вида профессиональной занятости"
   ]
  },
  {
   "cell_type": "code",
   "execution_count": 209,
   "id": "4eecc37b",
   "metadata": {},
   "outputs": [
    {
     "data": {
      "text/plain": [
       "<AxesSubplot: xlabel='count', ylabel='job'>"
      ]
     },
     "execution_count": 209,
     "metadata": {},
     "output_type": "execute_result"
    },
    {
     "data": {
      "image/png": "[encoded data removed]",
      "text/plain": [
       "<Figure size 640x480 with 1 Axes>"
      ]
     },
     "metadata": {},
     "output_type": "display_data"
    }
   ],
   "source": [
    "sns.countplot(y='job', hue='deposit', data=cleaned)"
   ]
  },
  {
   "attachments": {},
   "cell_type": "markdown",
   "id": "a521e204",
   "metadata": {},
   "source": [
    "### Задание 11"
   ]
  },
  {
   "cell_type": "code",
   "execution_count": 210,
   "id": "35ab0413",
   "metadata": {},
   "outputs": [],
   "source": [
    "# постройте сводную таблицу, чтобы определить люди с каким образованием и семейным статусом наиболее многочисленны\n",
    "#(если рассматривать тех, кто открыл депозит)"
   ]
  },
  {
   "cell_type": "code",
   "execution_count": 211,
   "id": "be1c5f48",
   "metadata": {},
   "outputs": [],
   "source": [
    "dep_yes_df = cleaned[cleaned['deposit']=='yes']\n",
    "dep_no_df = cleaned[cleaned['deposit']=='no']"
   ]
  },
  {
   "cell_type": "code",
   "execution_count": 212,
   "id": "ac5d32d9",
   "metadata": {},
   "outputs": [
    {
     "data": {
      "text/html": [
       "<div>\n",
       "<style scoped>\n",
       "    .dataframe tbody tr th:only-of-type {\n",
       "        vertical-align: middle;\n",
       "    }\n",
       "\n",
       "    .dataframe tbody tr th {\n",
       "        vertical-align: top;\n",
       "    }\n",
       "\n",
       "    .dataframe thead th {\n",
       "        text-align: right;\n",
       "    }\n",
       "</style>\n",
       "<table border=\"1\" class=\"dataframe\">\n",
       "  <thead>\n",
       "    <tr style=\"text-align: right;\">\n",
       "      <th>marital</th>\n",
       "      <th>divorced</th>\n",
       "      <th>married</th>\n",
       "      <th>single</th>\n",
       "    </tr>\n",
       "    <tr>\n",
       "      <th>education</th>\n",
       "      <th></th>\n",
       "      <th></th>\n",
       "      <th></th>\n",
       "    </tr>\n",
       "  </thead>\n",
       "  <tbody>\n",
       "    <tr>\n",
       "      <th>primary</th>\n",
       "      <td>96</td>\n",
       "      <td>339</td>\n",
       "      <td>82</td>\n",
       "    </tr>\n",
       "    <tr>\n",
       "      <th>secondary</th>\n",
       "      <td>283</td>\n",
       "      <td>1289</td>\n",
       "      <td>879</td>\n",
       "    </tr>\n",
       "    <tr>\n",
       "      <th>tertiary</th>\n",
       "      <td>174</td>\n",
       "      <td>784</td>\n",
       "      <td>755</td>\n",
       "    </tr>\n",
       "  </tbody>\n",
       "</table>\n",
       "</div>"
      ],
      "text/plain": [
       "marital    divorced  married  single\n",
       "education                           \n",
       "primary          96      339      82\n",
       "secondary       283     1289     879\n",
       "tertiary        174      784     755"
      ]
     },
     "execution_count": 212,
     "metadata": {},
     "output_type": "execute_result"
    }
   ],
   "source": [
    "dep_yes = dep_yes_df.pivot_table(values='deposit', index='education', columns='marital', aggfunc='count', fill_value=0)\n",
    "dep_yes"
   ]
  },
  {
   "cell_type": "code",
   "execution_count": 213,
   "id": "ee5be39f",
   "metadata": {},
   "outputs": [
    {
     "data": {
      "text/plain": [
       "<AxesSubplot: xlabel='marital', ylabel='education'>"
      ]
     },
     "execution_count": 213,
     "metadata": {},
     "output_type": "execute_result"
    },
    {
     "data": {
      "image/png": "[encoded data removed]",
      "text/plain": [
       "<Figure size 640x480 with 2 Axes>"
      ]
     },
     "metadata": {},
     "output_type": "display_data"
    }
   ],
   "source": [
    "sns.heatmap(dep_yes, annot=True)"
   ]
  },
  {
   "attachments": {},
   "cell_type": "markdown",
   "id": "dfd805c0",
   "metadata": {},
   "source": [
    "## Часть 3: преобразование данных"
   ]
  },
  {
   "attachments": {},
   "cell_type": "markdown",
   "id": "e44e715b",
   "metadata": {},
   "source": [
    "### Задание 1"
   ]
  },
  {
   "cell_type": "code",
   "execution_count": 214,
   "id": "1e815773",
   "metadata": {},
   "outputs": [
    {
     "data": {
      "text/plain": [
       "11995"
      ]
     },
     "execution_count": 214,
     "metadata": {},
     "output_type": "execute_result"
    }
   ],
   "source": [
    "# преобразуйте уровни образования\n",
    "# Создание экземпляра класса LabelEncoder()\n",
    "lab_enc = LabelEncoder()\n",
    "\n",
    "# Кодирование признака\n",
    "cleaned['education'] = lab_enc.fit_transform(cleaned['education'])\n",
    "cleaned['education'].sum()"
   ]
  },
  {
   "cell_type": "code",
   "execution_count": 215,
   "id": "e27087a2",
   "metadata": {},
   "outputs": [
    {
     "data": {
      "text/plain": [
       "14524"
      ]
     },
     "execution_count": 215,
     "metadata": {},
     "output_type": "execute_result"
    }
   ],
   "source": [
    "cleaned['age_group'] = lab_enc.fit_transform(cleaned['age_group'])\n",
    "cleaned['age_group'].sum()"
   ]
  },
  {
   "cell_type": "code",
   "execution_count": 216,
   "id": "a5319c37",
   "metadata": {},
   "outputs": [
    {
     "data": {
      "text/html": [
       "<div>\n",
       "<style scoped>\n",
       "    .dataframe tbody tr th:only-of-type {\n",
       "        vertical-align: middle;\n",
       "    }\n",
       "\n",
       "    .dataframe tbody tr th {\n",
       "        vertical-align: top;\n",
       "    }\n",
       "\n",
       "    .dataframe thead th {\n",
       "        text-align: right;\n",
       "    }\n",
       "</style>\n",
       "<table border=\"1\" class=\"dataframe\">\n",
       "  <thead>\n",
       "    <tr style=\"text-align: right;\">\n",
       "      <th></th>\n",
       "      <th>age</th>\n",
       "      <th>job</th>\n",
       "      <th>marital</th>\n",
       "      <th>education</th>\n",
       "      <th>default</th>\n",
       "      <th>balance</th>\n",
       "      <th>housing</th>\n",
       "      <th>loan</th>\n",
       "      <th>contact</th>\n",
       "      <th>day</th>\n",
       "      <th>month</th>\n",
       "      <th>duration</th>\n",
       "      <th>campaign</th>\n",
       "      <th>pdays</th>\n",
       "      <th>previous</th>\n",
       "      <th>poutcome</th>\n",
       "      <th>deposit</th>\n",
       "      <th>age_group</th>\n",
       "    </tr>\n",
       "  </thead>\n",
       "  <tbody>\n",
       "    <tr>\n",
       "      <th>0</th>\n",
       "      <td>59</td>\n",
       "      <td>admin.</td>\n",
       "      <td>married</td>\n",
       "      <td>1</td>\n",
       "      <td>no</td>\n",
       "      <td>2343.0</td>\n",
       "      <td>yes</td>\n",
       "      <td>no</td>\n",
       "      <td>unknown</td>\n",
       "      <td>5</td>\n",
       "      <td>may</td>\n",
       "      <td>1042</td>\n",
       "      <td>1</td>\n",
       "      <td>-1</td>\n",
       "      <td>0</td>\n",
       "      <td>unknown</td>\n",
       "      <td>yes</td>\n",
       "      <td>2</td>\n",
       "    </tr>\n",
       "    <tr>\n",
       "      <th>1</th>\n",
       "      <td>56</td>\n",
       "      <td>admin.</td>\n",
       "      <td>married</td>\n",
       "      <td>1</td>\n",
       "      <td>no</td>\n",
       "      <td>45.0</td>\n",
       "      <td>no</td>\n",
       "      <td>no</td>\n",
       "      <td>unknown</td>\n",
       "      <td>5</td>\n",
       "      <td>may</td>\n",
       "      <td>1467</td>\n",
       "      <td>1</td>\n",
       "      <td>-1</td>\n",
       "      <td>0</td>\n",
       "      <td>unknown</td>\n",
       "      <td>yes</td>\n",
       "      <td>2</td>\n",
       "    </tr>\n",
       "    <tr>\n",
       "      <th>2</th>\n",
       "      <td>41</td>\n",
       "      <td>technician</td>\n",
       "      <td>married</td>\n",
       "      <td>1</td>\n",
       "      <td>no</td>\n",
       "      <td>1270.0</td>\n",
       "      <td>yes</td>\n",
       "      <td>no</td>\n",
       "      <td>unknown</td>\n",
       "      <td>5</td>\n",
       "      <td>may</td>\n",
       "      <td>1389</td>\n",
       "      <td>1</td>\n",
       "      <td>-1</td>\n",
       "      <td>0</td>\n",
       "      <td>unknown</td>\n",
       "      <td>yes</td>\n",
       "      <td>1</td>\n",
       "    </tr>\n",
       "    <tr>\n",
       "      <th>3</th>\n",
       "      <td>55</td>\n",
       "      <td>services</td>\n",
       "      <td>married</td>\n",
       "      <td>1</td>\n",
       "      <td>no</td>\n",
       "      <td>2476.0</td>\n",
       "      <td>yes</td>\n",
       "      <td>no</td>\n",
       "      <td>unknown</td>\n",
       "      <td>5</td>\n",
       "      <td>may</td>\n",
       "      <td>579</td>\n",
       "      <td>1</td>\n",
       "      <td>-1</td>\n",
       "      <td>0</td>\n",
       "      <td>unknown</td>\n",
       "      <td>yes</td>\n",
       "      <td>2</td>\n",
       "    </tr>\n",
       "    <tr>\n",
       "      <th>4</th>\n",
       "      <td>54</td>\n",
       "      <td>admin.</td>\n",
       "      <td>married</td>\n",
       "      <td>2</td>\n",
       "      <td>no</td>\n",
       "      <td>184.0</td>\n",
       "      <td>no</td>\n",
       "      <td>no</td>\n",
       "      <td>unknown</td>\n",
       "      <td>5</td>\n",
       "      <td>may</td>\n",
       "      <td>673</td>\n",
       "      <td>2</td>\n",
       "      <td>-1</td>\n",
       "      <td>0</td>\n",
       "      <td>unknown</td>\n",
       "      <td>yes</td>\n",
       "      <td>2</td>\n",
       "    </tr>\n",
       "  </tbody>\n",
       "</table>\n",
       "</div>"
      ],
      "text/plain": [
       "   age         job  marital  education default  balance housing loan  contact  \\\n",
       "0   59      admin.  married          1      no   2343.0     yes   no  unknown   \n",
       "1   56      admin.  married          1      no     45.0      no   no  unknown   \n",
       "2   41  technician  married          1      no   1270.0     yes   no  unknown   \n",
       "3   55    services  married          1      no   2476.0     yes   no  unknown   \n",
       "4   54      admin.  married          2      no    184.0      no   no  unknown   \n",
       "\n",
       "   day month  duration  campaign  pdays  previous poutcome deposit  age_group  \n",
       "0    5   may      1042         1     -1         0  unknown     yes          2  \n",
       "1    5   may      1467         1     -1         0  unknown     yes          2  \n",
       "2    5   may      1389         1     -1         0  unknown     yes          1  \n",
       "3    5   may       579         1     -1         0  unknown     yes          2  \n",
       "4    5   may       673         2     -1         0  unknown     yes          2  "
      ]
     },
     "execution_count": 216,
     "metadata": {},
     "output_type": "execute_result"
    }
   ],
   "source": [
    "cleaned.head()"
   ]
  },
  {
   "attachments": {},
   "cell_type": "markdown",
   "id": "8c93e73d",
   "metadata": {},
   "source": [
    "### Задания 2 и 3"
   ]
  },
  {
   "cell_type": "code",
   "execution_count": 236,
   "id": "626a5762",
   "metadata": {},
   "outputs": [],
   "source": [
    "# преобразуйте бинарные переменные в представление из нулей и единиц\n",
    "cleaned['deposit'] = cleaned['deposit'].apply(lambda x: 1 if x=='yes' else 0)\n",
    "cleaned['housing'] = cleaned['housing'].apply(lambda x: 1 if x=='yes' else 0)\n",
    "cleaned['default'] = cleaned['default'].apply(lambda x: 1 if x=='yes' else 0)\n",
    "cleaned['loan'] = cleaned['loan'].apply(lambda x: 1 if x=='yes' else 0)"
   ]
  },
  {
   "cell_type": "code",
   "execution_count": 239,
   "id": "31403635",
   "metadata": {},
   "outputs": [
    {
     "data": {
      "text/plain": [
       "0.635"
      ]
     },
     "execution_count": 239,
     "metadata": {},
     "output_type": "execute_result"
    }
   ],
   "source": [
    "round((cleaned['default'].mean()+cleaned['housing'].mean()+cleaned['loan'].mean()),3)"
   ]
  },
  {
   "cell_type": "code",
   "execution_count": 238,
   "id": "830463a8",
   "metadata": {},
   "outputs": [
    {
     "data": {
      "text/html": [
       "<div>\n",
       "<style scoped>\n",
       "    .dataframe tbody tr th:only-of-type {\n",
       "        vertical-align: middle;\n",
       "    }\n",
       "\n",
       "    .dataframe tbody tr th {\n",
       "        vertical-align: top;\n",
       "    }\n",
       "\n",
       "    .dataframe thead th {\n",
       "        text-align: right;\n",
       "    }\n",
       "</style>\n",
       "<table border=\"1\" class=\"dataframe\">\n",
       "  <thead>\n",
       "    <tr style=\"text-align: right;\">\n",
       "      <th></th>\n",
       "      <th>age</th>\n",
       "      <th>education</th>\n",
       "      <th>default</th>\n",
       "      <th>balance</th>\n",
       "      <th>housing</th>\n",
       "      <th>loan</th>\n",
       "      <th>day</th>\n",
       "      <th>duration</th>\n",
       "      <th>campaign</th>\n",
       "      <th>pdays</th>\n",
       "      <th>previous</th>\n",
       "      <th>deposit</th>\n",
       "      <th>age_group</th>\n",
       "    </tr>\n",
       "  </thead>\n",
       "  <tbody>\n",
       "    <tr>\n",
       "      <th>count</th>\n",
       "      <td>10105.000000</td>\n",
       "      <td>10105.000000</td>\n",
       "      <td>10105.000000</td>\n",
       "      <td>10105.000000</td>\n",
       "      <td>10105.000000</td>\n",
       "      <td>10105.000000</td>\n",
       "      <td>10105.000000</td>\n",
       "      <td>10105.000000</td>\n",
       "      <td>10105.000000</td>\n",
       "      <td>10105.000000</td>\n",
       "      <td>10105.000000</td>\n",
       "      <td>10105.000000</td>\n",
       "      <td>10105.000000</td>\n",
       "    </tr>\n",
       "    <tr>\n",
       "      <th>mean</th>\n",
       "      <td>40.895497</td>\n",
       "      <td>1.187036</td>\n",
       "      <td>0.016428</td>\n",
       "      <td>807.653538</td>\n",
       "      <td>0.481148</td>\n",
       "      <td>0.137853</td>\n",
       "      <td>15.590302</td>\n",
       "      <td>368.742603</td>\n",
       "      <td>2.517170</td>\n",
       "      <td>51.319644</td>\n",
       "      <td>0.816230</td>\n",
       "      <td>0.463236</td>\n",
       "      <td>1.437308</td>\n",
       "    </tr>\n",
       "    <tr>\n",
       "      <th>std</th>\n",
       "      <td>11.734931</td>\n",
       "      <td>0.647373</td>\n",
       "      <td>0.127119</td>\n",
       "      <td>994.151966</td>\n",
       "      <td>0.499669</td>\n",
       "      <td>0.344762</td>\n",
       "      <td>8.441510</td>\n",
       "      <td>346.651524</td>\n",
       "      <td>2.707159</td>\n",
       "      <td>109.644179</td>\n",
       "      <td>2.243795</td>\n",
       "      <td>0.498671</td>\n",
       "      <td>1.489490</td>\n",
       "    </tr>\n",
       "    <tr>\n",
       "      <th>min</th>\n",
       "      <td>18.000000</td>\n",
       "      <td>0.000000</td>\n",
       "      <td>0.000000</td>\n",
       "      <td>-2049.000000</td>\n",
       "      <td>0.000000</td>\n",
       "      <td>0.000000</td>\n",
       "      <td>1.000000</td>\n",
       "      <td>2.000000</td>\n",
       "      <td>1.000000</td>\n",
       "      <td>-1.000000</td>\n",
       "      <td>0.000000</td>\n",
       "      <td>0.000000</td>\n",
       "      <td>0.000000</td>\n",
       "    </tr>\n",
       "    <tr>\n",
       "      <th>25%</th>\n",
       "      <td>32.000000</td>\n",
       "      <td>1.000000</td>\n",
       "      <td>0.000000</td>\n",
       "      <td>95.000000</td>\n",
       "      <td>0.000000</td>\n",
       "      <td>0.000000</td>\n",
       "      <td>8.000000</td>\n",
       "      <td>137.000000</td>\n",
       "      <td>1.000000</td>\n",
       "      <td>-1.000000</td>\n",
       "      <td>0.000000</td>\n",
       "      <td>0.000000</td>\n",
       "      <td>0.000000</td>\n",
       "    </tr>\n",
       "    <tr>\n",
       "      <th>50%</th>\n",
       "      <td>38.000000</td>\n",
       "      <td>1.000000</td>\n",
       "      <td>0.000000</td>\n",
       "      <td>445.000000</td>\n",
       "      <td>0.000000</td>\n",
       "      <td>0.000000</td>\n",
       "      <td>15.000000</td>\n",
       "      <td>252.000000</td>\n",
       "      <td>2.000000</td>\n",
       "      <td>-1.000000</td>\n",
       "      <td>0.000000</td>\n",
       "      <td>0.000000</td>\n",
       "      <td>1.000000</td>\n",
       "    </tr>\n",
       "    <tr>\n",
       "      <th>75%</th>\n",
       "      <td>48.000000</td>\n",
       "      <td>2.000000</td>\n",
       "      <td>0.000000</td>\n",
       "      <td>1227.000000</td>\n",
       "      <td>1.000000</td>\n",
       "      <td>0.000000</td>\n",
       "      <td>22.000000</td>\n",
       "      <td>490.000000</td>\n",
       "      <td>3.000000</td>\n",
       "      <td>2.000000</td>\n",
       "      <td>1.000000</td>\n",
       "      <td>1.000000</td>\n",
       "      <td>2.000000</td>\n",
       "    </tr>\n",
       "    <tr>\n",
       "      <th>max</th>\n",
       "      <td>95.000000</td>\n",
       "      <td>2.000000</td>\n",
       "      <td>1.000000</td>\n",
       "      <td>4063.000000</td>\n",
       "      <td>1.000000</td>\n",
       "      <td>1.000000</td>\n",
       "      <td>31.000000</td>\n",
       "      <td>3881.000000</td>\n",
       "      <td>43.000000</td>\n",
       "      <td>854.000000</td>\n",
       "      <td>58.000000</td>\n",
       "      <td>1.000000</td>\n",
       "      <td>4.000000</td>\n",
       "    </tr>\n",
       "  </tbody>\n",
       "</table>\n",
       "</div>"
      ],
      "text/plain": [
       "                age     education       default       balance       housing  \\\n",
       "count  10105.000000  10105.000000  10105.000000  10105.000000  10105.000000   \n",
       "mean      40.895497      1.187036      0.016428    807.653538      0.481148   \n",
       "std       11.734931      0.647373      0.127119    994.151966      0.499669   \n",
       "min       18.000000      0.000000      0.000000  -2049.000000      0.000000   \n",
       "25%       32.000000      1.000000      0.000000     95.000000      0.000000   \n",
       "50%       38.000000      1.000000      0.000000    445.000000      0.000000   \n",
       "75%       48.000000      2.000000      0.000000   1227.000000      1.000000   \n",
       "max       95.000000      2.000000      1.000000   4063.000000      1.000000   \n",
       "\n",
       "               loan           day      duration      campaign         pdays  \\\n",
       "count  10105.000000  10105.000000  10105.000000  10105.000000  10105.000000   \n",
       "mean       0.137853     15.590302    368.742603      2.517170     51.319644   \n",
       "std        0.344762      8.441510    346.651524      2.707159    109.644179   \n",
       "min        0.000000      1.000000      2.000000      1.000000     -1.000000   \n",
       "25%        0.000000      8.000000    137.000000      1.000000     -1.000000   \n",
       "50%        0.000000     15.000000    252.000000      2.000000     -1.000000   \n",
       "75%        0.000000     22.000000    490.000000      3.000000      2.000000   \n",
       "max        1.000000     31.000000   3881.000000     43.000000    854.000000   \n",
       "\n",
       "           previous       deposit     age_group  \n",
       "count  10105.000000  10105.000000  10105.000000  \n",
       "mean       0.816230      0.463236      1.437308  \n",
       "std        2.243795      0.498671      1.489490  \n",
       "min        0.000000      0.000000      0.000000  \n",
       "25%        0.000000      0.000000      0.000000  \n",
       "50%        0.000000      0.000000      1.000000  \n",
       "75%        1.000000      1.000000      2.000000  \n",
       "max       58.000000      1.000000      4.000000  "
      ]
     },
     "execution_count": 238,
     "metadata": {},
     "output_type": "execute_result"
    }
   ],
   "source": [
    "cleaned.describe()\n"
   ]
  },
  {
   "cell_type": "code",
   "execution_count": 237,
   "id": "0f1f9ddb",
   "metadata": {},
   "outputs": [
    {
     "data": {
      "text/html": [
       "<div>\n",
       "<style scoped>\n",
       "    .dataframe tbody tr th:only-of-type {\n",
       "        vertical-align: middle;\n",
       "    }\n",
       "\n",
       "    .dataframe tbody tr th {\n",
       "        vertical-align: top;\n",
       "    }\n",
       "\n",
       "    .dataframe thead th {\n",
       "        text-align: right;\n",
       "    }\n",
       "</style>\n",
       "<table border=\"1\" class=\"dataframe\">\n",
       "  <thead>\n",
       "    <tr style=\"text-align: right;\">\n",
       "      <th></th>\n",
       "      <th>age</th>\n",
       "      <th>job</th>\n",
       "      <th>marital</th>\n",
       "      <th>education</th>\n",
       "      <th>default</th>\n",
       "      <th>balance</th>\n",
       "      <th>housing</th>\n",
       "      <th>loan</th>\n",
       "      <th>contact</th>\n",
       "      <th>day</th>\n",
       "      <th>month</th>\n",
       "      <th>duration</th>\n",
       "      <th>campaign</th>\n",
       "      <th>pdays</th>\n",
       "      <th>previous</th>\n",
       "      <th>poutcome</th>\n",
       "      <th>deposit</th>\n",
       "      <th>age_group</th>\n",
       "    </tr>\n",
       "  </thead>\n",
       "  <tbody>\n",
       "    <tr>\n",
       "      <th>0</th>\n",
       "      <td>59</td>\n",
       "      <td>admin.</td>\n",
       "      <td>married</td>\n",
       "      <td>1</td>\n",
       "      <td>0</td>\n",
       "      <td>2343.0</td>\n",
       "      <td>1</td>\n",
       "      <td>0</td>\n",
       "      <td>unknown</td>\n",
       "      <td>5</td>\n",
       "      <td>may</td>\n",
       "      <td>1042</td>\n",
       "      <td>1</td>\n",
       "      <td>-1</td>\n",
       "      <td>0</td>\n",
       "      <td>unknown</td>\n",
       "      <td>1</td>\n",
       "      <td>2</td>\n",
       "    </tr>\n",
       "    <tr>\n",
       "      <th>1</th>\n",
       "      <td>56</td>\n",
       "      <td>admin.</td>\n",
       "      <td>married</td>\n",
       "      <td>1</td>\n",
       "      <td>0</td>\n",
       "      <td>45.0</td>\n",
       "      <td>0</td>\n",
       "      <td>0</td>\n",
       "      <td>unknown</td>\n",
       "      <td>5</td>\n",
       "      <td>may</td>\n",
       "      <td>1467</td>\n",
       "      <td>1</td>\n",
       "      <td>-1</td>\n",
       "      <td>0</td>\n",
       "      <td>unknown</td>\n",
       "      <td>1</td>\n",
       "      <td>2</td>\n",
       "    </tr>\n",
       "    <tr>\n",
       "      <th>2</th>\n",
       "      <td>41</td>\n",
       "      <td>technician</td>\n",
       "      <td>married</td>\n",
       "      <td>1</td>\n",
       "      <td>0</td>\n",
       "      <td>1270.0</td>\n",
       "      <td>1</td>\n",
       "      <td>0</td>\n",
       "      <td>unknown</td>\n",
       "      <td>5</td>\n",
       "      <td>may</td>\n",
       "      <td>1389</td>\n",
       "      <td>1</td>\n",
       "      <td>-1</td>\n",
       "      <td>0</td>\n",
       "      <td>unknown</td>\n",
       "      <td>1</td>\n",
       "      <td>1</td>\n",
       "    </tr>\n",
       "    <tr>\n",
       "      <th>3</th>\n",
       "      <td>55</td>\n",
       "      <td>services</td>\n",
       "      <td>married</td>\n",
       "      <td>1</td>\n",
       "      <td>0</td>\n",
       "      <td>2476.0</td>\n",
       "      <td>1</td>\n",
       "      <td>0</td>\n",
       "      <td>unknown</td>\n",
       "      <td>5</td>\n",
       "      <td>may</td>\n",
       "      <td>579</td>\n",
       "      <td>1</td>\n",
       "      <td>-1</td>\n",
       "      <td>0</td>\n",
       "      <td>unknown</td>\n",
       "      <td>1</td>\n",
       "      <td>2</td>\n",
       "    </tr>\n",
       "    <tr>\n",
       "      <th>4</th>\n",
       "      <td>54</td>\n",
       "      <td>admin.</td>\n",
       "      <td>married</td>\n",
       "      <td>2</td>\n",
       "      <td>0</td>\n",
       "      <td>184.0</td>\n",
       "      <td>0</td>\n",
       "      <td>0</td>\n",
       "      <td>unknown</td>\n",
       "      <td>5</td>\n",
       "      <td>may</td>\n",
       "      <td>673</td>\n",
       "      <td>2</td>\n",
       "      <td>-1</td>\n",
       "      <td>0</td>\n",
       "      <td>unknown</td>\n",
       "      <td>1</td>\n",
       "      <td>2</td>\n",
       "    </tr>\n",
       "  </tbody>\n",
       "</table>\n",
       "</div>"
      ],
      "text/plain": [
       "   age         job  marital  education  default  balance  housing  loan  \\\n",
       "0   59      admin.  married          1        0   2343.0        1     0   \n",
       "1   56      admin.  married          1        0     45.0        0     0   \n",
       "2   41  technician  married          1        0   1270.0        1     0   \n",
       "3   55    services  married          1        0   2476.0        1     0   \n",
       "4   54      admin.  married          2        0    184.0        0     0   \n",
       "\n",
       "   contact  day month  duration  campaign  pdays  previous poutcome  deposit  \\\n",
       "0  unknown    5   may      1042         1     -1         0  unknown        1   \n",
       "1  unknown    5   may      1467         1     -1         0  unknown        1   \n",
       "2  unknown    5   may      1389         1     -1         0  unknown        1   \n",
       "3  unknown    5   may       579         1     -1         0  unknown        1   \n",
       "4  unknown    5   may       673         2     -1         0  unknown        1   \n",
       "\n",
       "   age_group  \n",
       "0          2  \n",
       "1          2  \n",
       "2          1  \n",
       "3          2  \n",
       "4          2  "
      ]
     },
     "execution_count": 237,
     "metadata": {},
     "output_type": "execute_result"
    }
   ],
   "source": [
    "cleaned.head()"
   ]
  },
  {
   "attachments": {},
   "cell_type": "markdown",
   "id": "c40dc02a",
   "metadata": {},
   "source": [
    "### Задание 4"
   ]
  },
  {
   "cell_type": "code",
   "execution_count": 242,
   "id": "b996883f",
   "metadata": {},
   "outputs": [
    {
     "data": {
      "text/html": [
       "<div>\n",
       "<style scoped>\n",
       "    .dataframe tbody tr th:only-of-type {\n",
       "        vertical-align: middle;\n",
       "    }\n",
       "\n",
       "    .dataframe tbody tr th {\n",
       "        vertical-align: top;\n",
       "    }\n",
       "\n",
       "    .dataframe thead th {\n",
       "        text-align: right;\n",
       "    }\n",
       "</style>\n",
       "<table border=\"1\" class=\"dataframe\">\n",
       "  <thead>\n",
       "    <tr style=\"text-align: right;\">\n",
       "      <th></th>\n",
       "      <th>age</th>\n",
       "      <th>education</th>\n",
       "      <th>default</th>\n",
       "      <th>balance</th>\n",
       "      <th>housing</th>\n",
       "      <th>loan</th>\n",
       "      <th>day</th>\n",
       "      <th>duration</th>\n",
       "      <th>campaign</th>\n",
       "      <th>pdays</th>\n",
       "      <th>...</th>\n",
       "      <th>month_jun</th>\n",
       "      <th>month_mar</th>\n",
       "      <th>month_may</th>\n",
       "      <th>month_nov</th>\n",
       "      <th>month_oct</th>\n",
       "      <th>month_sep</th>\n",
       "      <th>poutcome_failure</th>\n",
       "      <th>poutcome_other</th>\n",
       "      <th>poutcome_success</th>\n",
       "      <th>poutcome_unknown</th>\n",
       "    </tr>\n",
       "  </thead>\n",
       "  <tbody>\n",
       "    <tr>\n",
       "      <th>0</th>\n",
       "      <td>59</td>\n",
       "      <td>1</td>\n",
       "      <td>0</td>\n",
       "      <td>2343.0</td>\n",
       "      <td>1</td>\n",
       "      <td>0</td>\n",
       "      <td>5</td>\n",
       "      <td>1042</td>\n",
       "      <td>1</td>\n",
       "      <td>-1</td>\n",
       "      <td>...</td>\n",
       "      <td>0</td>\n",
       "      <td>0</td>\n",
       "      <td>1</td>\n",
       "      <td>0</td>\n",
       "      <td>0</td>\n",
       "      <td>0</td>\n",
       "      <td>0</td>\n",
       "      <td>0</td>\n",
       "      <td>0</td>\n",
       "      <td>1</td>\n",
       "    </tr>\n",
       "    <tr>\n",
       "      <th>1</th>\n",
       "      <td>56</td>\n",
       "      <td>1</td>\n",
       "      <td>0</td>\n",
       "      <td>45.0</td>\n",
       "      <td>0</td>\n",
       "      <td>0</td>\n",
       "      <td>5</td>\n",
       "      <td>1467</td>\n",
       "      <td>1</td>\n",
       "      <td>-1</td>\n",
       "      <td>...</td>\n",
       "      <td>0</td>\n",
       "      <td>0</td>\n",
       "      <td>1</td>\n",
       "      <td>0</td>\n",
       "      <td>0</td>\n",
       "      <td>0</td>\n",
       "      <td>0</td>\n",
       "      <td>0</td>\n",
       "      <td>0</td>\n",
       "      <td>1</td>\n",
       "    </tr>\n",
       "    <tr>\n",
       "      <th>2</th>\n",
       "      <td>41</td>\n",
       "      <td>1</td>\n",
       "      <td>0</td>\n",
       "      <td>1270.0</td>\n",
       "      <td>1</td>\n",
       "      <td>0</td>\n",
       "      <td>5</td>\n",
       "      <td>1389</td>\n",
       "      <td>1</td>\n",
       "      <td>-1</td>\n",
       "      <td>...</td>\n",
       "      <td>0</td>\n",
       "      <td>0</td>\n",
       "      <td>1</td>\n",
       "      <td>0</td>\n",
       "      <td>0</td>\n",
       "      <td>0</td>\n",
       "      <td>0</td>\n",
       "      <td>0</td>\n",
       "      <td>0</td>\n",
       "      <td>1</td>\n",
       "    </tr>\n",
       "    <tr>\n",
       "      <th>3</th>\n",
       "      <td>55</td>\n",
       "      <td>1</td>\n",
       "      <td>0</td>\n",
       "      <td>2476.0</td>\n",
       "      <td>1</td>\n",
       "      <td>0</td>\n",
       "      <td>5</td>\n",
       "      <td>579</td>\n",
       "      <td>1</td>\n",
       "      <td>-1</td>\n",
       "      <td>...</td>\n",
       "      <td>0</td>\n",
       "      <td>0</td>\n",
       "      <td>1</td>\n",
       "      <td>0</td>\n",
       "      <td>0</td>\n",
       "      <td>0</td>\n",
       "      <td>0</td>\n",
       "      <td>0</td>\n",
       "      <td>0</td>\n",
       "      <td>1</td>\n",
       "    </tr>\n",
       "    <tr>\n",
       "      <th>4</th>\n",
       "      <td>54</td>\n",
       "      <td>2</td>\n",
       "      <td>0</td>\n",
       "      <td>184.0</td>\n",
       "      <td>0</td>\n",
       "      <td>0</td>\n",
       "      <td>5</td>\n",
       "      <td>673</td>\n",
       "      <td>2</td>\n",
       "      <td>-1</td>\n",
       "      <td>...</td>\n",
       "      <td>0</td>\n",
       "      <td>0</td>\n",
       "      <td>1</td>\n",
       "      <td>0</td>\n",
       "      <td>0</td>\n",
       "      <td>0</td>\n",
       "      <td>0</td>\n",
       "      <td>0</td>\n",
       "      <td>0</td>\n",
       "      <td>1</td>\n",
       "    </tr>\n",
       "    <tr>\n",
       "      <th>...</th>\n",
       "      <td>...</td>\n",
       "      <td>...</td>\n",
       "      <td>...</td>\n",
       "      <td>...</td>\n",
       "      <td>...</td>\n",
       "      <td>...</td>\n",
       "      <td>...</td>\n",
       "      <td>...</td>\n",
       "      <td>...</td>\n",
       "      <td>...</td>\n",
       "      <td>...</td>\n",
       "      <td>...</td>\n",
       "      <td>...</td>\n",
       "      <td>...</td>\n",
       "      <td>...</td>\n",
       "      <td>...</td>\n",
       "      <td>...</td>\n",
       "      <td>...</td>\n",
       "      <td>...</td>\n",
       "      <td>...</td>\n",
       "      <td>...</td>\n",
       "    </tr>\n",
       "    <tr>\n",
       "      <th>11157</th>\n",
       "      <td>33</td>\n",
       "      <td>0</td>\n",
       "      <td>0</td>\n",
       "      <td>1.0</td>\n",
       "      <td>1</td>\n",
       "      <td>0</td>\n",
       "      <td>20</td>\n",
       "      <td>257</td>\n",
       "      <td>1</td>\n",
       "      <td>-1</td>\n",
       "      <td>...</td>\n",
       "      <td>0</td>\n",
       "      <td>0</td>\n",
       "      <td>0</td>\n",
       "      <td>0</td>\n",
       "      <td>0</td>\n",
       "      <td>0</td>\n",
       "      <td>0</td>\n",
       "      <td>0</td>\n",
       "      <td>0</td>\n",
       "      <td>1</td>\n",
       "    </tr>\n",
       "    <tr>\n",
       "      <th>11158</th>\n",
       "      <td>39</td>\n",
       "      <td>1</td>\n",
       "      <td>0</td>\n",
       "      <td>733.0</td>\n",
       "      <td>0</td>\n",
       "      <td>0</td>\n",
       "      <td>16</td>\n",
       "      <td>83</td>\n",
       "      <td>4</td>\n",
       "      <td>-1</td>\n",
       "      <td>...</td>\n",
       "      <td>1</td>\n",
       "      <td>0</td>\n",
       "      <td>0</td>\n",
       "      <td>0</td>\n",
       "      <td>0</td>\n",
       "      <td>0</td>\n",
       "      <td>0</td>\n",
       "      <td>0</td>\n",
       "      <td>0</td>\n",
       "      <td>1</td>\n",
       "    </tr>\n",
       "    <tr>\n",
       "      <th>11159</th>\n",
       "      <td>32</td>\n",
       "      <td>1</td>\n",
       "      <td>0</td>\n",
       "      <td>29.0</td>\n",
       "      <td>0</td>\n",
       "      <td>0</td>\n",
       "      <td>19</td>\n",
       "      <td>156</td>\n",
       "      <td>2</td>\n",
       "      <td>-1</td>\n",
       "      <td>...</td>\n",
       "      <td>0</td>\n",
       "      <td>0</td>\n",
       "      <td>0</td>\n",
       "      <td>0</td>\n",
       "      <td>0</td>\n",
       "      <td>0</td>\n",
       "      <td>0</td>\n",
       "      <td>0</td>\n",
       "      <td>0</td>\n",
       "      <td>1</td>\n",
       "    </tr>\n",
       "    <tr>\n",
       "      <th>11160</th>\n",
       "      <td>43</td>\n",
       "      <td>1</td>\n",
       "      <td>0</td>\n",
       "      <td>0.0</td>\n",
       "      <td>0</td>\n",
       "      <td>1</td>\n",
       "      <td>8</td>\n",
       "      <td>9</td>\n",
       "      <td>2</td>\n",
       "      <td>172</td>\n",
       "      <td>...</td>\n",
       "      <td>0</td>\n",
       "      <td>0</td>\n",
       "      <td>1</td>\n",
       "      <td>0</td>\n",
       "      <td>0</td>\n",
       "      <td>0</td>\n",
       "      <td>1</td>\n",
       "      <td>0</td>\n",
       "      <td>0</td>\n",
       "      <td>0</td>\n",
       "    </tr>\n",
       "    <tr>\n",
       "      <th>11161</th>\n",
       "      <td>34</td>\n",
       "      <td>1</td>\n",
       "      <td>0</td>\n",
       "      <td>0.0</td>\n",
       "      <td>0</td>\n",
       "      <td>0</td>\n",
       "      <td>9</td>\n",
       "      <td>628</td>\n",
       "      <td>1</td>\n",
       "      <td>-1</td>\n",
       "      <td>...</td>\n",
       "      <td>0</td>\n",
       "      <td>0</td>\n",
       "      <td>0</td>\n",
       "      <td>0</td>\n",
       "      <td>0</td>\n",
       "      <td>0</td>\n",
       "      <td>0</td>\n",
       "      <td>0</td>\n",
       "      <td>0</td>\n",
       "      <td>1</td>\n",
       "    </tr>\n",
       "  </tbody>\n",
       "</table>\n",
       "<p>10105 rows × 46 columns</p>\n",
       "</div>"
      ],
      "text/plain": [
       "       age  education  default  balance  housing  loan  day  duration  \\\n",
       "0       59          1        0   2343.0        1     0    5      1042   \n",
       "1       56          1        0     45.0        0     0    5      1467   \n",
       "2       41          1        0   1270.0        1     0    5      1389   \n",
       "3       55          1        0   2476.0        1     0    5       579   \n",
       "4       54          2        0    184.0        0     0    5       673   \n",
       "...    ...        ...      ...      ...      ...   ...  ...       ...   \n",
       "11157   33          0        0      1.0        1     0   20       257   \n",
       "11158   39          1        0    733.0        0     0   16        83   \n",
       "11159   32          1        0     29.0        0     0   19       156   \n",
       "11160   43          1        0      0.0        0     1    8         9   \n",
       "11161   34          1        0      0.0        0     0    9       628   \n",
       "\n",
       "       campaign  pdays  ...  month_jun  month_mar  month_may  month_nov  \\\n",
       "0             1     -1  ...          0          0          1          0   \n",
       "1             1     -1  ...          0          0          1          0   \n",
       "2             1     -1  ...          0          0          1          0   \n",
       "3             1     -1  ...          0          0          1          0   \n",
       "4             2     -1  ...          0          0          1          0   \n",
       "...         ...    ...  ...        ...        ...        ...        ...   \n",
       "11157         1     -1  ...          0          0          0          0   \n",
       "11158         4     -1  ...          1          0          0          0   \n",
       "11159         2     -1  ...          0          0          0          0   \n",
       "11160         2    172  ...          0          0          1          0   \n",
       "11161         1     -1  ...          0          0          0          0   \n",
       "\n",
       "       month_oct  month_sep  poutcome_failure  poutcome_other  \\\n",
       "0              0          0                 0               0   \n",
       "1              0          0                 0               0   \n",
       "2              0          0                 0               0   \n",
       "3              0          0                 0               0   \n",
       "4              0          0                 0               0   \n",
       "...          ...        ...               ...             ...   \n",
       "11157          0          0                 0               0   \n",
       "11158          0          0                 0               0   \n",
       "11159          0          0                 0               0   \n",
       "11160          0          0                 1               0   \n",
       "11161          0          0                 0               0   \n",
       "\n",
       "       poutcome_success  poutcome_unknown  \n",
       "0                     0                 1  \n",
       "1                     0                 1  \n",
       "2                     0                 1  \n",
       "3                     0                 1  \n",
       "4                     0                 1  \n",
       "...                 ...               ...  \n",
       "11157                 0                 1  \n",
       "11158                 0                 1  \n",
       "11159                 0                 1  \n",
       "11160                 0                 0  \n",
       "11161                 0                 1  \n",
       "\n",
       "[10105 rows x 46 columns]"
      ]
     },
     "execution_count": 242,
     "metadata": {},
     "output_type": "execute_result"
    }
   ],
   "source": [
    "# создайте дамми-переменные\n",
    "data = pd.get_dummies(cleaned, columns=['job','marital','contact','month','poutcome'])\n",
    "data"
   ]
  },
  {
   "cell_type": "code",
   "execution_count": 244,
   "id": "89590565",
   "metadata": {},
   "outputs": [
    {
     "name": "stdout",
     "output_type": "stream",
     "text": [
      "<class 'pandas.core.frame.DataFrame'>\n",
      "Int64Index: 10105 entries, 0 to 11161\n",
      "Data columns (total 46 columns):\n",
      " #   Column             Non-Null Count  Dtype  \n",
      "---  ------             --------------  -----  \n",
      " 0   age                10105 non-null  int64  \n",
      " 1   education          10105 non-null  int32  \n",
      " 2   default            10105 non-null  int64  \n",
      " 3   balance            10105 non-null  float64\n",
      " 4   housing            10105 non-null  int64  \n",
      " 5   loan               10105 non-null  int64  \n",
      " 6   day                10105 non-null  int64  \n",
      " 7   duration           10105 non-null  int64  \n",
      " 8   campaign           10105 non-null  int64  \n",
      " 9   pdays              10105 non-null  int64  \n",
      " 10  previous           10105 non-null  int64  \n",
      " 11  deposit            10105 non-null  int64  \n",
      " 12  age_group          10105 non-null  int32  \n",
      " 13  job_admin.         10105 non-null  uint8  \n",
      " 14  job_blue-collar    10105 non-null  uint8  \n",
      " 15  job_entrepreneur   10105 non-null  uint8  \n",
      " 16  job_housemaid      10105 non-null  uint8  \n",
      " 17  job_management     10105 non-null  uint8  \n",
      " 18  job_retired        10105 non-null  uint8  \n",
      " 19  job_self-employed  10105 non-null  uint8  \n",
      " 20  job_services       10105 non-null  uint8  \n",
      " 21  job_student        10105 non-null  uint8  \n",
      " 22  job_technician     10105 non-null  uint8  \n",
      " 23  job_unemployed     10105 non-null  uint8  \n",
      " 24  marital_divorced   10105 non-null  uint8  \n",
      " 25  marital_married    10105 non-null  uint8  \n",
      " 26  marital_single     10105 non-null  uint8  \n",
      " 27  contact_cellular   10105 non-null  uint8  \n",
      " 28  contact_telephone  10105 non-null  uint8  \n",
      " 29  contact_unknown    10105 non-null  uint8  \n",
      " 30  month_apr          10105 non-null  uint8  \n",
      " 31  month_aug          10105 non-null  uint8  \n",
      " 32  month_dec          10105 non-null  uint8  \n",
      " 33  month_feb          10105 non-null  uint8  \n",
      " 34  month_jan          10105 non-null  uint8  \n",
      " 35  month_jul          10105 non-null  uint8  \n",
      " 36  month_jun          10105 non-null  uint8  \n",
      " 37  month_mar          10105 non-null  uint8  \n",
      " 38  month_may          10105 non-null  uint8  \n",
      " 39  month_nov          10105 non-null  uint8  \n",
      " 40  month_oct          10105 non-null  uint8  \n",
      " 41  month_sep          10105 non-null  uint8  \n",
      " 42  poutcome_failure   10105 non-null  uint8  \n",
      " 43  poutcome_other     10105 non-null  uint8  \n",
      " 44  poutcome_success   10105 non-null  uint8  \n",
      " 45  poutcome_unknown   10105 non-null  uint8  \n",
      "dtypes: float64(1), int32(2), int64(10), uint8(33)\n",
      "memory usage: 1.3 MB\n"
     ]
    }
   ],
   "source": [
    "data.info()"
   ]
  },
  {
   "attachments": {},
   "cell_type": "markdown",
   "id": "9a23e318",
   "metadata": {},
   "source": [
    "### Задания 5 и 6"
   ]
  },
  {
   "cell_type": "code",
   "execution_count": 251,
   "id": "f9920736",
   "metadata": {},
   "outputs": [
    {
     "data": {
      "application/vnd.plotly.v1+json": {
       "config": {
        "plotlyServerURL": "https://plot.ly"
       },
       "data": [
        {
         "coloraxis": "coloraxis",
         "hovertemplate": "x: %{x}<br>y: %{y}<br>color: %{z}<extra></extra>",
         "name": "0",
         "type": "heatmap",
         "x": [
          "age",
          "education",
          "default",
          "balance",
          "housing",
          "loan",
          "day",
          "duration",
          "campaign",
          "pdays",
          "previous",
          "deposit",
          "age_group",
          "job_admin.",
          "job_blue-collar",
          "job_entrepreneur",
          "job_housemaid",
          "job_management",
          "job_retired",
          "job_self-employed",
          "job_services",
          "job_student",
          "job_technician",
          "job_unemployed",
          "marital_divorced",
          "marital_married",
          "marital_single",
          "contact_cellular",
          "contact_telephone",
          "contact_unknown",
          "month_apr",
          "month_aug",
          "month_dec",
          "month_feb",
          "month_jan",
          "month_jul",
          "month_jun",
          "month_mar",
          "month_may",
          "month_nov",
          "month_oct",
          "month_sep",
          "poutcome_failure",
          "poutcome_other",
          "poutcome_success",
          "poutcome_unknown"
         ],
         "xaxis": "x",
         "y": [
          "age",
          "education",
          "default",
          "balance",
          "housing",
          "loan",
          "day",
          "duration",
          "campaign",
          "pdays",
          "previous",
          "deposit",
          "age_group",
          "job_admin.",
          "job_blue-collar",
          "job_entrepreneur",
          "job_housemaid",
          "job_management",
          "job_retired",
          "job_self-employed",
          "job_services",
          "job_student",
          "job_technician",
          "job_unemployed",
          "marital_divorced",
          "marital_married",
          "marital_single",
          "contact_cellular",
          "contact_telephone",
          "contact_unknown",
          "month_apr",
          "month_aug",
          "month_dec",
          "month_feb",
          "month_jan",
          "month_jul",
          "month_jun",
          "month_mar",
          "month_may",
          "month_nov",
          "month_oct",
          "month_sep",
          "poutcome_failure",
          "poutcome_other",
          "poutcome_success",
          "poutcome_unknown"
         ],
         "yaxis": "y",
         "z": [
          [
           1,
           -0.19112445736907532,
           -0.009928867000506231,
           0.11516390242053541,
           -0.1641961631459192,
           -0.026356917376324753,
           0.00039599931358720933,
           -0.00600740903274056,
           -0.001142939300713116,
           0.006106815597944845,
           0.025382584845660416,
           0.024357221650049325,
           -0.008358618363919922,
           -0.05750219804963418,
           -0.06591674011255204,
           0.028389607760862308,
           0.09266135818748922,
           -0.03616345292941302,
           0.545524174137316,
           -0.0279468248645555,
           -0.07726642847799159,
           -0.23143607056404655,
           -0.07459564316575988,
           0.0012629505039062072,
           0.1853118263751846,
           0.3166812889342329,
           -0.4647371697736057,
           -0.07406162587855551,
           0.1944549937585613,
           -0.036223895322225134,
           -0.02620762965312558,
           0.060980020458446985,
           0.031150686498491887,
           0.014728929982769624,
           0.017476519501441103,
           -0.0036619540005770465,
           0.009769320364374322,
           0.02478477160800905,
           -0.11965570288879157,
           0.026875079206442345,
           0.056998007001057,
           0.036352065249775425,
           0.001993686249719973,
           -0.02094247550888412,
           0.06000890966347141,
           -0.031455100217259224
          ],
          [
           -0.19112445736907532,
           1,
           -0.015692257588891496,
           0.04325101201172388,
           -0.0943498425165418,
           -0.052565676124948335,
           0.008988809163138562,
           -0.01686927403361189,
           -0.012280029002901215,
           0.024123183521948633,
           0.025368368883975374,
           0.09825260709197181,
           -0.057120186722109396,
           -0.055817060852600506,
           -0.37179635912360226,
           0.024219204348912258,
           -0.14424238087221275,
           0.5187352566367364,
           -0.14880043416561967,
           0.09100071507944721,
           -0.10384569768521804,
           -0.00949438949337957,
           0.04796604991930464,
           -0.031813466986374044,
           -0.03342541559685288,
           -0.13351365235910326,
           0.16514015936930368,
           0.17269652592826298,
           -0.08076703148954596,
           -0.14025602956664357,
           0.015455774316864988,
           0.10221783494096641,
           0.004171378976827755,
           0.036743443034557004,
           -0.002329638035878621,
           -0.04983178671276043,
           -0.036502506095028524,
           0.052196000016137306,
           -0.10415689897010383,
           0.028703542978000606,
           0.027616985259571986,
           0.03084609253181214,
           0.01984521555119435,
           0.01510330857037633,
           0.07048885498377068,
           -0.0690690439179032
          ],
          [
           -0.009928867000506231,
           -0.015692257588891496,
           1,
           -0.11092846464684003,
           0.009550681940153911,
           0.07478604495434865,
           0.018723764602356276,
           -0.008162447871715443,
           0.0334041897789569,
           -0.03732251547596151,
           -0.03660506967025244,
           -0.03887155550655371,
           0.0012580666216613792,
           -0.022420688471173407,
           0.02298891114612107,
           0.023263982047784806,
           0.019272754212362256,
           -0.00005499860054468263,
           -0.01852437723939424,
           0.00892390316525449,
           -0.020168200800424654,
           -0.019190214278969577,
           0.0044187174247164165,
           0.011119817164777985,
           0.021028346340694455,
           -0.007669682509971998,
           -0.006322047402417767,
           -0.028878284956785516,
           -0.021595672163374147,
           0.044620510313883324,
           -0.018812434483539142,
           -0.003966316919881672,
           -0.012455574179555997,
           -0.02026043994855562,
           0.0033822961363326465,
           0.04865343232197664,
           0.01962574022603239,
           -0.02002821760443381,
           -0.0017608026065100116,
           0.0005441444997292199,
           -0.02393083323677154,
           -0.016977067153781715,
           -0.02545018825692973,
           -0.017922614415047222,
           -0.04150982152914484,
           0.05503206204127585
          ],
          [
           0.11516390242053541,
           0.04325101201172388,
           -0.11092846464684003,
           1,
           -0.09491928481956083,
           -0.11308905510599913,
           -0.009986581063579344,
           0.025780572032455328,
           -0.04268852758466478,
           0.04515469513701134,
           0.0604193487093435,
           0.1358927995834968,
           0.019336251231442662,
           -0.028057474496052105,
           -0.049484380196695044,
           -0.008727482973167625,
           0.0009067068089200388,
           0.039205196586721176,
           0.0914212025366459,
           0.00988916887679918,
           -0.037632534023198355,
           0.007132545772450816,
           -0.010460025636197832,
           0.00968915356380507,
           -0.0304060150275364,
           0.032056472322623535,
           -0.013175705387869116,
           0.030038902357152338,
           0.061140319561632926,
           -0.06973664183112381,
           0.050392310857608036,
           -0.008252491516782269,
           0.0270921437194218,
           0.010159581891502931,
           -0.01133068355717619,
           -0.08682412882213748,
           0.039753137953762466,
           0.04383248924752288,
           -0.0980725729359988,
           0.08186054116239823,
           0.057041035367071204,
           0.04784084138447565,
           0.031039806322748567,
           0.02811065196117866,
           0.07335818622594595,
           -0.08545634421066671
          ],
          [
           -0.1641961631459192,
           -0.0943498425165418,
           0.009550681940153911,
           -0.09491928481956083,
           1,
           0.07225203654438052,
           -0.022643973467700185,
           0.038491805954390564,
           0.006257232215304214,
           0.06413786069971442,
           -0.00022141860669882022,
           -0.20028974086506554,
           -0.1393887346288276,
           0.06354734733852985,
           0.1941149553569676,
           0.006599855123703844,
           -0.06382403618250697,
           -0.07769684520372443,
           -0.1687853875911903,
           -0.01955454632295774,
           0.08012852325020164,
           -0.12426109049220249,
           0.00477214568031162,
           -0.059712137749211226,
           0.0096864617540861,
           0.03685661157028105,
           -0.04590356987358823,
           -0.18683206710785613,
           -0.08494248597482267,
           0.2556489342796202,
           0.03148468396742866,
           -0.23577237211403607,
           -0.05962465862034044,
           -0.07919799388576447,
           -0.09003941653654157,
           -0.029805746837006788,
           -0.07313305524615005,
           -0.0759483215677389,
           0.43260502469662204,
           -0.00021921749349250734,
           -0.09202629998219465,
           -0.08689268061698036,
           0.08516674866575011,
           0.009830479488261922,
           -0.13447717252380603,
           0.024082156440090575
          ],
          [
           -0.026356917376324753,
           -0.052565676124948335,
           0.07478604495434865,
           -0.11308905510599913,
           0.07225203654438052,
           1,
           0.019135999321950956,
           0.0014761710934770975,
           0.033888814447992015,
           -0.03078800509653768,
           -0.020087467784551415,
           -0.10724005513690088,
           -0.02894235034824121,
           0.0490978813347229,
           0.056856531036864305,
           0.0382979090383549,
           -0.028972775044186078,
           -0.05268334298638476,
           -0.04567387224926854,
           0.004113125734377761,
           0.032109293209764245,
           -0.07138470532119913,
           0.00950061784701694,
           -0.039883480072862826,
           0.028408397079804488,
           0.04469151420709065,
           -0.06714016570503059,
           0.0006525623102942377,
           -0.016393596449503254,
           0.009171649409343001,
           -0.040163931839272804,
           -0.06420821576258118,
           -0.029520527340748892,
           -0.012067258894366108,
           0.003324580593277537,
           0.16324919971432514,
           -0.014896960039461444,
           -0.04110485455449542,
           0.002778246269487659,
           0.017719679157117283,
           -0.03235685435100913,
           -0.04619601065395019,
           0.007458454793014616,
           -0.019288673246026906,
           -0.08209754720782142,
           0.059234591547944755
          ],
          [
           0.00039599931358720933,
           0.008988809163138562,
           0.018723764602356276,
           -0.009986581063579344,
           -0.022643973467700185,
           0.019135999321950956,
           1,
           -0.01669497716919676,
           0.14216905887475062,
           -0.07875683355579623,
           -0.059738788262662185,
           -0.05687802148028594,
           0.003868421438764028,
           -0.010679972285372213,
           -0.019876137357088753,
           -0.005463129785117244,
           0.01091980438195913,
           0.0030254622293409586,
           -0.005225935930360409,
           0.0015646879478905804,
           0.002787197088433483,
           -0.010711546215930656,
           0.031050423688559887,
           -0.0013798381473927768,
           0.0036258701909126882,
           0.001760273031154901,
           -0.004371420538053528,
           -0.006511189970762926,
           0.01364675053382602,
           -0.0011048843662685038,
           0.11054667845472042,
           -0.0017579188049136744,
           -0.011650829300837126,
           -0.2362222128181818,
           0.22513576041976235,
           0.1308973204543035,
           -0.18203213562944542,
           -0.04430307499420366,
           -0.0145804030278174,
           0.05647074623746425,
           0.07217907902762571,
           -0.06874389539333725,
           -0.07117471965490017,
           -0.008806331153088065,
           -0.04436641795742859,
           0.08544194506641996
          ],
          [
           -0.00600740903274056,
           -0.01686927403361189,
           -0.008162447871715443,
           0.025780572032455328,
           0.038491805954390564,
           0.0014761710934770975,
           -0.01669497716919676,
           1,
           -0.04257600004035579,
           -0.03305284893724015,
           -0.034233184361358436,
           0.45781769360301033,
           0.004617838243784235,
           -0.02358540147906707,
           0.03225309593885239,
           0.0005941392600343175,
           -0.010009300604183308,
           -0.02430873829153393,
           0.006051842183890917,
           0.014512674624484953,
           0.013910557006086734,
           -0.017973670998983157,
           -0.007488083089230274,
           0.02764059088919826,
           0.02342508762732541,
           -0.03774687585533383,
           0.024041627756432617,
           0.022005949440884534,
           -0.022244135060744217,
           -0.010664694199961466,
           0.027398294881275626,
           -0.024372157290365015,
           0.007100333528135067,
           -0.02523090092312883,
           -0.010271705003825998,
           0.05620293223008869,
           -0.0030610677644766337,
           -0.034640423480848614,
           0.007982994264364818,
           -0.015655113104131792,
           -0.01254136543014743,
           -0.012077211473883546,
           -0.03947554484603559,
           -0.009497450494607498,
           -0.02597129254434458,
           0.050570696828781535
          ],
          [
           -0.001142939300713116,
           -0.012280029002901215,
           0.0334041897789569,
           -0.04268852758466478,
           0.006257232215304214,
           0.033888814447992015,
           0.14216905887475062,
           -0.04257600004035579,
           1,
           -0.10521397303098566,
           -0.05231162335512055,
           -0.1307069361093318,
           -0.04831286166336229,
           -0.01883445483474595,
           0.0024302142744517087,
           0.011167717825831138,
           0.008831940258475337,
           0.018159103240345788,
           -0.03718936490640249,
           0.0062991854716798025,
           0.009144919974393094,
           -0.023709709548520315,
           0.022405576794788676,
           -0.02372790707816498,
           -0.00965318784229002,
           0.05541459510413409,
           -0.052334523280718526,
           -0.06857289903680089,
           0.056649854851806326,
           0.040869733903314186,
           -0.07579061997888839,
           0.14942506087193658,
           -0.014967418524483505,
           -0.03902615862737059,
           -0.053519370964899955,
           0.11816270154415474,
           0.04676267213529732,
           -0.03057363920511558,
           -0.04434775392071583,
           -0.07730670894273345,
           -0.07151852095759122,
           -0.04867201040102265,
           -0.08228237419890475,
           -0.024854320655611262,
           -0.09425952012979257,
           0.13484230294349264
          ],
          [
           0.006106815597944845,
           0.024123183521948633,
           -0.03732251547596151,
           0.04515469513701134,
           0.06413786069971442,
           -0.03078800509653768,
           -0.07875683355579623,
           -0.03305284893724015,
           -0.10521397303098566,
           1,
           0.5137082145015672,
           0.14791690905586677,
           -0.01488767569291484,
           0.04629267403148942,
           -0.024269395055896047,
           -0.026802346110530364,
           -0.023625257119507918,
           0.010867867239725486,
           0.007287465255442837,
           -0.012057466578022548,
           -0.00242697585448329,
           0.025137105104841854,
           -0.017992817887431824,
           0.005832563933757348,
           -0.013342965062728295,
           -0.020002591385796197,
           0.030482696130094335,
           0.20800641611828893,
           0.0041204217973056225,
           -0.23008004941943927,
           0.08070889438474185,
           -0.06685932259008691,
           0.045581206984055204,
           0.05445002213388722,
           0.01539912752288028,
           -0.10834734362486857,
           -0.09355143928447521,
           0.02419197279751432,
           0.028677634548037897,
           -0.007350016076037305,
           0.07983293223846816,
           0.11090698039237705,
           0.6087193145248583,
           0.3380488824249435,
           0.3262145474583717,
           -0.82403133930182
          ],
          [
           0.025382584845660416,
           0.025368368883975374,
           -0.03660506967025244,
           0.0604193487093435,
           -0.00022141860669882022,
           -0.020087467784551415,
           -0.059738788262662185,
           -0.034233184361358436,
           -0.05231162335512055,
           0.5137082145015672,
           1,
           0.1411017375660217,
           0.0017495933367105386,
           0.030985429695162426,
           -0.03129858732424632,
           -0.019715946691492906,
           -0.02140876313238305,
           0.013373982603958957,
           0.01796311061033329,
           0.0009042291579942287,
           -0.01990948096658234,
           0.03742058192074511,
           -0.007059133493293199,
           -0.0009868131325806038,
           -0.02580729637075855,
           -0.0022914518130265175,
           0.020216937941715772,
           0.15281553537393294,
           0.02166889341864315,
           -0.18027366483439694,
           0.017112444368686478,
           -0.03391913739257857,
           0.06239672531876075,
           0.06480589388188354,
           0.030679997371661827,
           -0.08513500565369722,
           -0.05006749210833057,
           0.025225206846038756,
           -0.025077254776184825,
           0.019722232222373553,
           0.055076815353319646,
           0.09979544954818413,
           0.3478002100780384,
           0.3188876713801625,
           0.32897826482389897,
           -0.628345901448031
          ],
          [
           0.024357221650049325,
           0.09825260709197181,
           -0.03887155550655371,
           0.1358927995834968,
           -0.20028974086506554,
           -0.10724005513690088,
           -0.05687802148028594,
           0.45781769360301033,
           -0.1307069361093318,
           0.14791690905586677,
           0.1411017375660217,
           1,
           0.13364058864652154,
           -0.0019267704513989117,
           -0.09584545056212414,
           -0.03270602164461473,
           -0.0225717655366677,
           0.029566300698721786,
           0.10009035232794423,
           -0.005194461459843584,
           -0.04043274675420033,
           0.10556256697554034,
           -0.011190347873192499,
           0.039195518947526445,
           0.004807619117726586,
           -0.09424578107782572,
           0.0970051201252203,
           0.22394444543236658,
           0.0070641505479551725,
           -0.24929416477397748,
           0.09288849731065311,
           -0.018224773785438676,
           0.08504147891387104,
           0.0447276445318382,
           -0.025847344631418443,
           -0.04277936170528139,
           -0.008532753060735154,
           0.13534838539959332,
           -0.1682031300674784,
           -0.02775394635309489,
           0.1305994948840934,
           0.12523904851347725,
           0.02112446905897739,
           0.03931869994415358,
           0.2884909754116557,
           -0.22830042314545057
          ],
          [
           -0.008358618363919922,
           -0.057120186722109396,
           0.0012580666216613792,
           0.019336251231442662,
           -0.1393887346288276,
           -0.02894235034824121,
           0.003868421438764028,
           0.004617838243784235,
           -0.04831286166336229,
           -0.01488767569291484,
           0.0017495933367105386,
           0.13364058864652154,
           1,
           -0.015133303352156596,
           -0.041650490105689206,
           -0.04783480068640395,
           0.0011923298637661062,
           -0.0832203793577557,
           0.1972516650860105,
           0.004472541951874264,
           -0.019107554281025483,
           0.24045067611369217,
           -0.059370176922093634,
           -0.006033227167207383,
           -0.047370418129529995,
           -0.188493249200343,
           0.23326774988378424,
           0.015858953147653603,
           0.06716447772009038,
           -0.05785398838419104,
           0.0017021546494894691,
           -0.0633052967305285,
           0.04963137043341828,
           0.04212753716778184,
           0.033629676286382915,
           0.01298855174207559,
           0.0021749590666490593,
           0.04932861823551244,
           -0.039955246117769794,
           -0.052553464004576694,
           0.06364770433154796,
           0.045263336007741906,
           -0.04718426794659071,
           0.011126297546426954,
           0.0645227994469584,
           -0.014778492202417018
          ],
          [
           -0.05750219804963418,
           -0.055817060852600506,
           -0.022420688471173407,
           -0.028057474496052105,
           0.06354734733852985,
           0.0490978813347229,
           -0.010679972285372213,
           -0.02358540147906707,
           -0.01883445483474595,
           0.04629267403148942,
           0.030985429695162426,
           -0.0019267704513989117,
           -0.015133303352156596,
           1,
           -0.1750084552200551,
           -0.06559994853765005,
           -0.05997671832746945,
           -0.20444356206632955,
           -0.0993782709834611,
           -0.07187414651560861,
           -0.1149637869267289,
           -0.06847440186170253,
           -0.16495247610952604,
           -0.06912287014613447,
           0.024272275166000064,
           -0.0465673938333707,
           0.032846747389274455,
           0.009370682763538645,
           -0.01157042180616845,
           -0.0032759679830125605,
           0.01058555020939229,
           -0.0593184090526463,
           -0.004625187152358881,
           0.005392972195412694,
           -0.0005756239727821451,
           0.012264878932918609,
           -0.0010893471225527866,
           0.0035334334451482974,
           0.027695770042158178,
           -0.008095142941541539,
           0.00620815267122356,
           0.006847415744588508,
           0.03876217292240617,
           0.008043750186533324,
           0.004627640162229428,
           -0.03500742416563458
          ],
          [
           -0.06591674011255204,
           -0.37179635912360226,
           0.02298891114612107,
           -0.049484380196695044,
           0.1941149553569676,
           0.056856531036864305,
           -0.019876137357088753,
           0.03225309593885239,
           0.0024302142744517087,
           -0.024269395055896047,
           -0.03129858732424632,
           -0.09584545056212414,
           -0.041650490105689206,
           -0.1750084552200551,
           1,
           -0.08162612677953046,
           -0.07462913193001072,
           -0.25438946963361236,
           -0.12365655045858544,
           -0.08943312192213734,
           -0.14304963427448797,
           -0.08520281390629367,
           -0.2052506446675936,
           -0.08600970408803103,
           -0.05753774390639598,
           0.1094238169232243,
           -0.07683669549879586,
           -0.13720698764164455,
           -0.014832985602347889,
           0.1590729980546592,
           0.014651109764768131,
           -0.10562962121467911,
           -0.0260445323329386,
           -0.05741296422113413,
           -0.03108191547883849,
           0.004780802318228302,
           0.03276555986075338,
           -0.055254888343659415,
           0.17096865539362216,
           -0.025623619775785107,
           -0.0517918861076187,
           -0.04533257993785871,
           -0.015957039632333952,
           0.003622215772486921,
           -0.07449371830825,
           0.059758290449781544
          ],
          [
           0.028389607760862308,
           0.024219204348912258,
           0.023263982047784806,
           -0.008727482973167625,
           0.006599855123703844,
           0.0382979090383549,
           -0.005463129785117244,
           0.0005941392600343175,
           0.011167717825831138,
           -0.026802346110530364,
           -0.019715946691492906,
           -0.03270602164461473,
           -0.04783480068640395,
           -0.06559994853765005,
           -0.08162612677953046,
           1,
           -0.027973889649288052,
           -0.09535502782137975,
           -0.04635126535016112,
           -0.03352299857899254,
           -0.05362054441847729,
           -0.031937315259927886,
           -0.07693589267206252,
           -0.03223976895755595,
           0.009191177463507666,
           0.04979381108032868,
           -0.059332976766650294,
           -0.023678778334349514,
           0.010319427231831874,
           0.019685898548191264,
           -0.01834988282404471,
           -0.02902206679038408,
           -0.010752554964284972,
           -0.00011182171557075024,
           -0.011573198238972533,
           0.03844614679739463,
           0.02658570548817727,
           -0.01940257098967371,
           -0.01822653528677848,
           0.0455348028409706,
           -0.019363141192114804,
           -0.008032407412815438,
           0.0020065714156446398,
           -0.022674357892707588,
           -0.03415471147222022,
           0.032628844321352254
          ],
          [
           0.09266135818748922,
           -0.14424238087221275,
           0.019272754212362256,
           0.0009067068089200388,
           -0.06382403618250697,
           -0.028972775044186078,
           0.01091980438195913,
           -0.010009300604183308,
           0.008831940258475337,
           -0.023625257119507918,
           -0.02140876313238305,
           -0.0225717655366677,
           0.0011923298637661062,
           -0.05997671832746945,
           -0.07462913193001072,
           -0.027973889649288052,
           1,
           -0.08718119102591215,
           -0.04237803303203607,
           -0.03064940580114097,
           -0.04902418920811808,
           -0.029199647319554115,
           -0.07034094487766804,
           -0.02947617467413475,
           0.021064264149021503,
           0.04414276061363682,
           -0.06149690880155808,
           -0.023516237835716356,
           0.037257743883104835,
           0.003263707091613705,
           -0.013171306440289878,
           0.019303136848842065,
           -0.0021216705908129337,
           -0.014115403054254488,
           0.007421469349824489,
           0.021264055189240953,
           0.04977661778839645,
           0.00456934034471726,
           -0.05398168551916736,
           -0.00582985065948508,
           0.01292306189434548,
           -0.007499064555841563,
           -0.015544843784983603,
           -0.008927595808436077,
           -0.005594201423931102,
           0.0193502906456101
          ],
          [
           -0.03616345292941302,
           0.5187352566367364,
           -0.00005499860054468263,
           0.039205196586721176,
           -0.07769684520372443,
           -0.05268334298638476,
           0.0030254622293409586,
           -0.02430873829153393,
           0.018159103240345788,
           0.010867867239725486,
           0.013373982603958957,
           0.029566300698721786,
           -0.0832203793577557,
           -0.20444356206632955,
           -0.25438946963361236,
           -0.09535502782137975,
           -0.08718119102591215,
           1,
           -0.1444546528726288,
           -0.10447510087146303,
           -0.16710950763258095,
           -0.09953328684133872,
           -0.23977226048587363,
           -0.10047588988725047,
           -0.014419888479051166,
           -0.003931203802519074,
           0.014117875522909292,
           0.10524052122516313,
           -0.037554011546485765,
           -0.09250569294462846,
           0.001587938051104602,
           0.10045029903387859,
           0.0017119124646890122,
           0.013434343710643929,
           -0.014923782031933404,
           -0.022275830877086338,
           -0.026359707899609782,
           0.036883829860533304,
           -0.09543426356551904,
           0.030268719482090686,
           0.010855557666884777,
           0.03787987765161138,
           0.004470572219487383,
           0.010844595106576017,
           0.0359951502960619,
           -0.03272496782296445
          ],
          [
           0.545524174137316,
           -0.14880043416561967,
           -0.01852437723939424,
           0.0914212025366459,
           -0.1687853875911903,
           -0.04567387224926854,
           -0.005225935930360409,
           0.006051842183890917,
           -0.03718936490640249,
           0.007287465255442837,
           0.01796311061033329,
           0.10009035232794423,
           0.1972516650860105,
           -0.0993782709834611,
           -0.12365655045858544,
           -0.04635126535016112,
           -0.04237803303203607,
           -0.1444546528726288,
           1,
           -0.050784455037328,
           -0.08123050569836689,
           -0.04838228140626885,
           -0.11655124982195025,
           -0.04884047270356213,
           0.08817931924205592,
           0.09275307780897887,
           -0.1594721793541423,
           -0.026588453359673695,
           0.1513522356553905,
           -0.06217601313751563,
           0.0007901178336793515,
           0.01874400632127592,
           0.049799594021051885,
           0.03361417250100789,
           0.029876335883742715,
           -0.023056678796915156,
           -0.010806473670037656,
           0.04608488982849154,
           -0.0900530517640009,
           -0.016737373187938002,
           0.07148305259791092,
           0.06294518878082847,
           -0.011204554490674616,
           -0.0029263358338451426,
           0.07000563871596191,
           -0.03750143075154077
          ],
          [
           -0.0279468248645555,
           0.09100071507944721,
           0.00892390316525449,
           0.00988916887679918,
           -0.01955454632295774,
           0.004113125734377761,
           0.0015646879478905804,
           0.014512674624484953,
           0.0062991854716798025,
           -0.012057466578022548,
           0.0009042291579942287,
           -0.005194461459843584,
           0.004472541951874264,
           -0.07187414651560861,
           -0.08943312192213734,
           -0.03352299857899254,
           -0.03064940580114097,
           -0.10447510087146303,
           -0.050784455037328,
           1,
           -0.058748992212523325,
           -0.034991906662697705,
           -0.08429429817383557,
           -0.03532328804122187,
           -0.014516151671138658,
           -0.006988660821747856,
           0.017438601916915892,
           -0.009572323638427197,
           0.001260286560027345,
           0.009713816097826634,
           0.0031092619214403744,
           0.007677466111431988,
           -0.0016526908098721117,
           -0.00024826902141344786,
           -0.003984894762919387,
           -0.006530339833542679,
           0.00495505644478779,
           0.002134975489992398,
           -0.01798198000393722,
           0.02680983276763752,
           0.009363935601773924,
           -0.019142867856926243,
           -0.009059338075616057,
           0.004925746317957108,
           -0.0008815625732956606,
           0.004704861155726407
          ],
          [
           -0.07726642847799159,
           -0.10384569768521804,
           -0.020168200800424654,
           -0.037632534023198355,
           0.08012852325020164,
           0.032109293209764245,
           0.002787197088433483,
           0.013910557006086734,
           0.009144919974393094,
           -0.00242697585448329,
           -0.01990948096658234,
           -0.04043274675420033,
           -0.019107554281025483,
           -0.1149637869267289,
           -0.14304963427448797,
           -0.05362054441847729,
           -0.04902418920811808,
           -0.16710950763258095,
           -0.08123050569836689,
           -0.058748992212523325,
           1,
           -0.055970085166253146,
           -0.13483000778715973,
           -0.056500134704773726,
           0.017501987523071087,
           -0.02130837367620578,
           0.010624429756454853,
           -0.02408446187232969,
           -0.02253727499490039,
           0.03994303584192548,
           -0.0106697003398537,
           -0.06877024133082901,
           -0.007354263201769413,
           -0.02198673725608543,
           0.015347646756348785,
           0.03985526023703579,
           0.012643784867343593,
           -0.012502941387073837,
           0.06627093802766762,
           -0.019849284053000984,
           -0.031119611295303915,
           -0.02349057091168221,
           -0.0036843929964222467,
           -0.01545380468007501,
           -0.02810879838368516,
           0.029125248741362283
          ],
          [
           -0.23143607056404655,
           -0.00949438949337957,
           -0.019190214278969577,
           0.007132545772450816,
           -0.12426109049220249,
           -0.07138470532119913,
           -0.010711546215930656,
           -0.017973670998983157,
           -0.023709709548520315,
           0.025137105104841854,
           0.03742058192074511,
           0.10556256697554034,
           0.24045067611369217,
           -0.06847440186170253,
           -0.08520281390629367,
           -0.031937315259927886,
           -0.029199647319554115,
           -0.09953328684133872,
           -0.04838228140626885,
           -0.034991906662697705,
           -0.055970085166253146,
           1,
           -0.08030706349399144,
           -0.033652448587838696,
           -0.06280200537343886,
           -0.1913746058007452,
           0.24696507772319826,
           0.052483456310349744,
           0.0219162593510738,
           -0.07064201148376652,
           0.014733683461010819,
           -0.0027389368345394445,
           0.029323959881615125,
           0.02878349413566777,
           -0.0009332195652183969,
           -0.017328971277053268,
           -0.017264902870982316,
           0.0235149671227642,
           -0.03250893552338244,
           -0.004540688787671723,
           0.031885294564193825,
           0.027500278100064106,
           -0.006768947560700758,
           0.040725499822316644,
           0.06061888600465202,
           -0.055834825651200085
          ],
          [
           -0.07459564316575988,
           0.04796604991930464,
           0.0044187174247164165,
           -0.010460025636197832,
           0.00477214568031162,
           0.00950061784701694,
           0.031050423688559887,
           -0.007488083089230274,
           0.022405576794788676,
           -0.017992817887431824,
           -0.007059133493293199,
           -0.011190347873192499,
           -0.059370176922093634,
           -0.16495247610952604,
           -0.2052506446675936,
           -0.07693589267206252,
           -0.07034094487766804,
           -0.23977226048587363,
           -0.11655124982195025,
           -0.08429429817383557,
           -0.13483000778715973,
           -0.08030706349399144,
           1,
           -0.08106758979689882,
           0.0010134012259681584,
           -0.0522162607552031,
           0.054881847831599585,
           0.04096320648708098,
           -0.04685803253099899,
           -0.016564572258389566,
           -0.011286880392266586,
           0.10266878434508295,
           -0.011459143883680446,
           -0.0020263091895745718,
           0.003517983497156684,
           -0.022308043741873014,
           -0.03094980947257963,
           -0.016708925597144812,
           -0.009936268019131446,
           -0.008487913352313393,
           -0.0034538619052622093,
           -0.024728626454941963,
           0.0053548288402294544,
           -0.0113113458577539,
           -0.01861348496225943,
           0.014195841854569256
          ],
          [
           0.0012629505039062072,
           -0.031813466986374044,
           0.011119817164777985,
           0.00968915356380507,
           -0.059712137749211226,
           -0.039883480072862826,
           -0.0013798381473927768,
           0.02764059088919826,
           -0.02372790707816498,
           0.005832563933757348,
           -0.0009868131325806038,
           0.039195518947526445,
           -0.006033227167207383,
           -0.06912287014613447,
           -0.08600970408803103,
           -0.03223976895755595,
           -0.02947617467413475,
           -0.10047588988725047,
           -0.04884047270356213,
           -0.03532328804122187,
           -0.056500134704773726,
           -0.033652448587838696,
           -0.08106758979689882,
           1,
           0.010953853585976994,
           -0.016538233316389858,
           0.010057818083494305,
           0.020685913567856224,
           -0.0016102620253763639,
           -0.021662982536076836,
           -0.004589017859688124,
           -0.02502762983470459,
           0.01130460954548782,
           0.05804490727995493,
           0.03974967832539239,
           0.003854621065888823,
           -0.0040431619992781645,
           0.004450964780092761,
           -0.03672745241040333,
           0.009096394537852657,
           -0.003120816807912011,
           0.0029402934405440666,
           -0.009655167883266142,
           -0.012523900054916487,
           0.030416198532916307,
           -0.007315500237846703
          ],
          [
           0.1853118263751846,
           -0.03342541559685288,
           0.021028346340694455,
           -0.0304060150275364,
           0.0096864617540861,
           0.028408397079804488,
           0.0036258701909126882,
           0.02342508762732541,
           -0.00965318784229002,
           -0.013342965062728295,
           -0.02580729637075855,
           0.004807619117726586,
           -0.047370418129529995,
           0.024272275166000064,
           -0.05753774390639598,
           0.009191177463507666,
           0.021064264149021503,
           -0.014419888479051166,
           0.08817931924205592,
           -0.014516151671138658,
           0.017501987523071087,
           -0.06280200537343886,
           0.0010134012259681584,
           0.010953853585976994,
           1,
           -0.41427335154742945,
           -0.24790989933911153,
           -0.015334858719985828,
           -0.017456214898988645,
           0.027305460791415243,
           -0.027723499193386358,
           -0.0119484822015071,
           -0.009149926104921956,
           -0.018819357265593386,
           -0.0002755140363992371,
           0.02117017901925423,
           0.013260211943928001,
           0.004881791715297817,
           0.00928094438243537,
           0.01172944452593631,
           -0.0017571667976956108,
           -0.010147735117769006,
           -0.024843638047166793,
           -0.008729892757189703,
           -0.020205764553925396,
           0.03577139034399428
          ],
          [
           0.3166812889342329,
           -0.13351365235910326,
           -0.007669682509971998,
           0.032056472322623535,
           0.03685661157028105,
           0.04469151420709065,
           0.001760273031154901,
           -0.03774687585533383,
           0.05541459510413409,
           -0.020002591385796197,
           -0.0022914518130265175,
           -0.09424578107782572,
           -0.188493249200343,
           -0.0465673938333707,
           0.1094238169232243,
           0.04979381108032868,
           0.04414276061363682,
           -0.003931203802519074,
           0.09275307780897887,
           -0.006988660821747856,
           -0.02130837367620578,
           -0.1913746058007452,
           -0.0522162607552031,
           -0.016538233316389858,
           -0.41427335154742945,
           1,
           -0.7790378984346251,
           -0.05739869433385589,
           0.06230612144864344,
           0.02523236021497141,
           -0.007573669557942018,
           0.04800688305161822,
           0.0050235000413627095,
           -0.019527604807661653,
           -0.023309305004952874,
           0.024736090680404128,
           0.0029566986847331233,
           -0.030391620327119544,
           -0.03193541059860661,
           0.03355848614966477,
           -0.013898042202073677,
           -0.019805139232188344,
           0.01136408984126043,
           -0.03003807525168892,
           -0.008540847384458244,
           0.012295566671327746
          ],
          [
           -0.4647371697736057,
           0.16514015936930368,
           -0.006322047402417767,
           -0.013175705387869116,
           -0.04590356987358823,
           -0.06714016570503059,
           -0.004371420538053528,
           0.024041627756432617,
           -0.052334523280718526,
           0.030482696130094335,
           0.020216937941715772,
           0.0970051201252203,
           0.23326774988378424,
           0.032846747389274455,
           -0.07683669549879586,
           -0.059332976766650294,
           -0.06149690880155808,
           0.014117875522909292,
           -0.1594721793541423,
           0.017438601916915892,
           0.010624429756454853,
           0.24696507772319826,
           0.054881847831599585,
           0.010057818083494305,
           -0.24790989933911153,
           -0.7790378984346251,
           1,
           0.07165995278747693,
           -0.054294718936292084,
           -0.04566770400060788,
           0.027159442592737313,
           -0.04286845852443547,
           0.0009560044061932173,
           0.03374963442765863,
           0.02500064691448747,
           -0.040913053495730906,
           -0.01228172785531277,
           0.02898648013043557,
           0.0275992742582713,
           -0.04380033414854283,
           0.01600379172175893,
           0.028071426099315937,
           0.0050178925187350405,
           0.037986842472780474,
           0.023010181988018512,
           -0.037729468300322845
          ],
          [
           -0.07406162587855551,
           0.17269652592826298,
           -0.028878284956785516,
           0.030038902357152338,
           -0.18683206710785613,
           0.0006525623102942377,
           -0.006511189970762926,
           0.022005949440884534,
           -0.06857289903680089,
           0.20800641611828893,
           0.15281553537393294,
           0.22394444543236658,
           0.015858953147653603,
           0.009370682763538645,
           -0.13720698764164455,
           -0.023678778334349514,
           -0.023516237835716356,
           0.10524052122516313,
           -0.026588453359673695,
           -0.009572323638427197,
           -0.02408446187232969,
           0.052483456310349744,
           0.04096320648708098,
           0.020685913567856224,
           -0.015334858719985828,
           -0.05739869433385589,
           0.07165995278747693,
           1,
           -0.4250102370062479,
           -0.8378850005984578,
           0.14443666634852084,
           0.20959583037304486,
           0.020724542427098227,
           0.10708595015721654,
           0.06823272710874005,
           0.11876129259032549,
           -0.3193829635156559,
           0.0644025332875475,
           -0.33743807550492916,
           0.10812703312302852,
           0.03271703797267435,
           0.05345202683057496,
           0.1663359949258958,
           0.09150598967158742,
           0.14841955101719995,
           -0.26455865072402124
          ],
          [
           0.1944549937585613,
           -0.08076703148954596,
           -0.021595672163374147,
           0.061140319561632926,
           -0.08494248597482267,
           -0.016393596449503254,
           0.01364675053382602,
           -0.022244135060744217,
           0.056649854851806326,
           0.0041204217973056225,
           0.02166889341864315,
           0.0070641505479551725,
           0.06716447772009038,
           -0.01157042180616845,
           -0.014832985602347889,
           0.010319427231831874,
           0.037257743883104835,
           -0.037554011546485765,
           0.1513522356553905,
           0.001260286560027345,
           -0.02253727499490039,
           0.0219162593510738,
           -0.04685803253099899,
           -0.0016102620253763639,
           -0.017456214898988645,
           0.06230612144864344,
           -0.054294718936292084,
           -0.4250102370062479,
           1,
           -0.13798456418872518,
           -0.009173057180572554,
           -0.050738001558964664,
           0.041564010581487516,
           0.035448289692091454,
           0.03006285730698337,
           0.08670761402781009,
           -0.06442744765197192,
           0.006603914248502156,
           -0.07691551560668858,
           0.02995933016677558,
           0.06949619226196772,
           0.02401713872718375,
           -0.005817395860722301,
           0.014166535535796016,
           0.0002537093520180461,
           -0.002933760554553345
          ],
          [
           -0.036223895322225134,
           -0.14025602956664357,
           0.044620510313883324,
           -0.06973664183112381,
           0.2556489342796202,
           0.009171649409343001,
           -0.0011048843662685038,
           -0.010664694199961466,
           0.040869733903314186,
           -0.23008004941943927,
           -0.18027366483439694,
           -0.24929416477397748,
           -0.05785398838419104,
           -0.0032759679830125605,
           0.1590729980546592,
           0.019685898548191264,
           0.003263707091613705,
           -0.09250569294462846,
           -0.06217601313751563,
           0.009713816097826634,
           0.03994303584192548,
           -0.07064201148376652,
           -0.016564572258389566,
           -0.021662982536076836,
           0.027305460791415243,
           0.02523236021497141,
           -0.04566770400060788,
           -0.8378850005984578,
           -0.13798456418872518,
           1,
           -0.1525074054352161,
           -0.1987384196854779,
           -0.0477401992068344,
           -0.13854676238046532,
           -0.09278702624909461,
           -0.18223202424790705,
           0.38831178976779496,
           -0.07444991328265199,
           0.4155977908148235,
           -0.13637593661213457,
           -0.07770574836861033,
           -0.07296866910296974,
           -0.17849262704970464,
           -0.10866624075402398,
           -0.16254990574411074,
           0.2912424918489746
          ],
          [
           -0.02620762965312558,
           0.015455774316864988,
           -0.018812434483539142,
           0.050392310857608036,
           0.03148468396742866,
           -0.040163931839272804,
           0.11054667845472042,
           0.027398294881275626,
           -0.07579061997888839,
           0.08070889438474185,
           0.017112444368686478,
           0.09288849731065311,
           0.0017021546494894691,
           0.01058555020939229,
           0.014651109764768131,
           -0.01834988282404471,
           -0.013171306440289878,
           0.001587938051104602,
           0.0007901178336793515,
           0.0031092619214403744,
           -0.0106697003398537,
           0.014733683461010819,
           -0.011286880392266586,
           -0.004589017859688124,
           -0.027723499193386358,
           -0.007573669557942018,
           0.027159442592737313,
           0.14443666634852084,
           -0.009173057180572554,
           -0.1525074054352161,
           1,
           -0.1192198939785425,
           -0.02883122801953765,
           -0.08217386241546887,
           -0.05401008028607184,
           -0.12086075188717986,
           -0.10476621232544096,
           -0.046359814509886806,
           -0.1768483574556899,
           -0.08651770051416147,
           -0.055393296190178756,
           -0.05031459798065285,
           0.06792580433137765,
           0.04145828235173787,
           -0.0007674700367088695,
           -0.06882331926373866
          ],
          [
           0.060980020458446985,
           0.10221783494096641,
           -0.003966316919881672,
           -0.008252491516782269,
           -0.23577237211403607,
           -0.06420821576258118,
           -0.0017579188049136744,
           -0.024372157290365015,
           0.14942506087193658,
           -0.06685932259008691,
           -0.03391913739257857,
           -0.018224773785438676,
           -0.0633052967305285,
           -0.0593184090526463,
           -0.10562962121467911,
           -0.02902206679038408,
           0.019303136848842065,
           0.10045029903387859,
           0.01874400632127592,
           0.007677466111431988,
           -0.06877024133082901,
           -0.0027389368345394445,
           0.10266878434508295,
           -0.02502762983470459,
           -0.0119484822015071,
           0.04800688305161822,
           -0.04286845852443547,
           0.20959583037304486,
           -0.050738001558964664,
           -0.1987384196854779,
           -0.1192198939785425,
           1,
           -0.03841029989816649,
           -0.10947583283757376,
           -0.07195473532748181,
           -0.1610163022802455,
           -0.13957440979927377,
           -0.061762696245246246,
           -0.23560558855724398,
           -0.11526289553108147,
           -0.07379751974390122,
           -0.06703144230911516,
           -0.06260006225097026,
           -0.04044412956874822,
           0.007390012602135588,
           0.06003733324355173
          ],
          [
           0.031150686498491887,
           0.004171378976827755,
           -0.012455574179555997,
           0.0270921437194218,
           -0.05962465862034044,
           -0.029520527340748892,
           -0.011650829300837126,
           0.007100333528135067,
           -0.014967418524483505,
           0.045581206984055204,
           0.06239672531876075,
           0.08504147891387104,
           0.04963137043341828,
           -0.004625187152358881,
           -0.0260445323329386,
           -0.010752554964284972,
           -0.0021216705908129337,
           0.0017119124646890122,
           0.049799594021051885,
           -0.0016526908098721117,
           -0.007354263201769413,
           0.029323959881615125,
           -0.011459143883680446,
           0.01130460954548782,
           -0.009149926104921956,
           0.0050235000413627095,
           0.0009560044061932173,
           0.020724542427098227,
           0.041564010581487516,
           -0.0477401992068344,
           -0.02883122801953765,
           -0.03841029989816649,
           1,
           -0.026474798742372022,
           -0.017400983276209408,
           -0.038938951973401296,
           -0.03375360856586121,
           -0.01493621843740783,
           -0.056977054916638056,
           -0.027874297756436694,
           -0.017846628175962612,
           -0.01621037171900504,
           0.0026307141496422592,
           0.03686060409353312,
           0.06870550744490715,
           -0.06614520255804411
          ],
          [
           0.014728929982769624,
           0.036743443034557004,
           -0.02026043994855562,
           0.010159581891502931,
           -0.07919799388576447,
           -0.012067258894366108,
           -0.2362222128181818,
           -0.02523090092312883,
           -0.03902615862737059,
           0.05445002213388722,
           0.06480589388188354,
           0.0447276445318382,
           0.04212753716778184,
           0.005392972195412694,
           -0.05741296422113413,
           -0.00011182171557075024,
           -0.014115403054254488,
           0.013434343710643929,
           0.03361417250100789,
           -0.00024826902141344786,
           -0.02198673725608543,
           0.02878349413566777,
           -0.0020263091895745718,
           0.05804490727995493,
           -0.018819357265593386,
           -0.019527604807661653,
           0.03374963442765863,
           0.10708595015721654,
           0.035448289692091454,
           -0.13854676238046532,
           -0.08217386241546887,
           -0.10947583283757376,
           -0.026474798742372022,
           1,
           -0.049595737117549374,
           -0.110982580412341,
           -0.0962034771615376,
           -0.04257074162956984,
           -0.16239421603497653,
           -0.07944644977359491,
           -0.05086590024253581,
           -0.04620229337572666,
           0.06097031727530421,
           0.038670529267950934,
           0.035523789685934365,
           -0.08681310880396056
          ],
          [
           0.017476519501441103,
           -0.002329638035878621,
           0.0033822961363326465,
           -0.01133068355717619,
           -0.09003941653654157,
           0.003324580593277537,
           0.22513576041976235,
           -0.010271705003825998,
           -0.053519370964899955,
           0.01539912752288028,
           0.030679997371661827,
           -0.025847344631418443,
           0.033629676286382915,
           -0.0005756239727821451,
           -0.03108191547883849,
           -0.011573198238972533,
           0.007421469349824489,
           -0.014923782031933404,
           0.029876335883742715,
           -0.003984894762919387,
           0.015347646756348785,
           -0.0009332195652183969,
           0.003517983497156684,
           0.03974967832539239,
           -0.0002755140363992371,
           -0.023309305004952874,
           0.02500064691448747,
           0.06823272710874005,
           0.03006285730698337,
           -0.09278702624909461,
           -0.05401008028607184,
           -0.07195473532748181,
           -0.017400983276209408,
           -0.049595737117549374,
           1,
           -0.07294506917685784,
           -0.06323126810108211,
           -0.0279802981832075,
           -0.10673618579223251,
           -0.05221744487341394,
           -0.033432423342017674,
           -0.030367193427114646,
           0.007225620738159778,
           0.05533190743200214,
           0.013933393322189028,
           -0.04174412559328074
          ],
          [
           -0.0036619540005770465,
           -0.04983178671276043,
           0.04865343232197664,
           -0.08682412882213748,
           -0.029805746837006788,
           0.16324919971432514,
           0.1308973204543035,
           0.05620293223008869,
           0.11816270154415474,
           -0.10834734362486857,
           -0.08513500565369722,
           -0.04277936170528139,
           0.01298855174207559,
           0.012264878932918609,
           0.004780802318228302,
           0.03844614679739463,
           0.021264055189240953,
           -0.022275830877086338,
           -0.023056678796915156,
           -0.006530339833542679,
           0.03985526023703579,
           -0.017328971277053268,
           -0.022308043741873014,
           0.003854621065888823,
           0.02117017901925423,
           0.024736090680404128,
           -0.040913053495730906,
           0.11876129259032549,
           0.08670761402781009,
           -0.18223202424790705,
           -0.12086075188717986,
           -0.1610163022802455,
           -0.038938951973401296,
           -0.110982580412341,
           -0.07294506917685784,
           1,
           -0.14149541280069844,
           -0.06261275411068111,
           -0.23884829646782835,
           -0.1168492921247456,
           -0.074813216368589,
           -0.0679540154516483,
           -0.10357045019581736,
           -0.05553036028342168,
           -0.06713952567298241,
           0.14704370393361887
          ],
          [
           0.009769320364374322,
           -0.036502506095028524,
           0.01962574022603239,
           0.039753137953762466,
           -0.07313305524615005,
           -0.014896960039461444,
           -0.18203213562944542,
           -0.0030610677644766337,
           0.04676267213529732,
           -0.09355143928447521,
           -0.05006749210833057,
           -0.008532753060735154,
           0.0021749590666490593,
           -0.0010893471225527866,
           0.03276555986075338,
           0.02658570548817727,
           0.04977661778839645,
           -0.026359707899609782,
           -0.010806473670037656,
           0.00495505644478779,
           0.012643784867343593,
           -0.017264902870982316,
           -0.03094980947257963,
           -0.0040431619992781645,
           0.013260211943928001,
           0.0029566986847331233,
           -0.01228172785531277,
           -0.3193829635156559,
           -0.06442744765197192,
           0.38831178976779496,
           -0.10476621232544096,
           -0.13957440979927377,
           -0.03375360856586121,
           -0.0962034771615376,
           -0.06323126810108211,
           -0.14149541280069844,
           1,
           -0.05427486581883502,
           -0.20704183078950955,
           -0.10128894250340217,
           -0.06485064165525951,
           -0.05890485289897351,
           -0.07425025379024311,
           -0.03657787679628273,
           -0.02096702064316747,
           0.0855838551845724
          ],
          [
           0.02478477160800905,
           0.052196000016137306,
           -0.02002821760443381,
           0.04383248924752288,
           -0.0759483215677389,
           -0.04110485455449542,
           -0.04430307499420366,
           -0.034640423480848614,
           -0.03057363920511558,
           0.02419197279751432,
           0.025225206846038756,
           0.13534838539959332,
           0.04932861823551244,
           0.0035334334451482974,
           -0.055254888343659415,
           -0.01940257098967371,
           0.00456934034471726,
           0.036883829860533304,
           0.04608488982849154,
           0.002134975489992398,
           -0.012502941387073837,
           0.0235149671227642,
           -0.016708925597144812,
           0.004450964780092761,
           0.004881791715297817,
           -0.030391620327119544,
           0.02898648013043557,
           0.0644025332875475,
           0.006603914248502156,
           -0.07444991328265199,
           -0.046359814509886806,
           -0.061762696245246246,
           -0.01493621843740783,
           -0.04257074162956984,
           -0.0279802981832075,
           -0.06261275411068111,
           -0.05427486581883502,
           1,
           -0.09161752303665278,
           -0.044821097204256206,
           -0.028696882814144134,
           -0.026065827841953985,
           -0.000021323475172205198,
           0.02677636429956246,
           0.044549500908051945,
           -0.04305636381979034
          ],
          [
           -0.11965570288879157,
           -0.10415689897010383,
           -0.0017608026065100116,
           -0.0980725729359988,
           0.43260502469662204,
           0.002778246269487659,
           -0.0145804030278174,
           0.007982994264364818,
           -0.04434775392071583,
           0.028677634548037897,
           -0.025077254776184825,
           -0.1682031300674784,
           -0.039955246117769794,
           0.027695770042158178,
           0.17096865539362216,
           -0.01822653528677848,
           -0.05398168551916736,
           -0.09543426356551904,
           -0.0900530517640009,
           -0.01798198000393722,
           0.06627093802766762,
           -0.03250893552338244,
           -0.009936268019131446,
           -0.03672745241040333,
           0.00928094438243537,
           -0.03193541059860661,
           0.0275992742582713,
           -0.33743807550492916,
           -0.07691551560668858,
           0.4155977908148235,
           -0.1768483574556899,
           -0.23560558855724398,
           -0.056977054916638056,
           -0.16239421603497653,
           -0.10673618579223251,
           -0.23884829646782835,
           -0.20704183078950955,
           -0.09161752303665278,
           1,
           -0.1709786267208651,
           -0.10946973458441153,
           -0.09943307341295159,
           0.03453836023914342,
           -0.012275069662156026,
           -0.09910688070173723,
           0.047688320961351026
          ],
          [
           0.026875079206442345,
           0.028703542978000606,
           0.0005441444997292199,
           0.08186054116239823,
           -0.00021921749349250734,
           0.017719679157117283,
           0.05647074623746425,
           -0.015655113104131792,
           -0.07730670894273345,
           -0.007350016076037305,
           0.019722232222373553,
           -0.02775394635309489,
           -0.052553464004576694,
           -0.008095142941541539,
           -0.025623619775785107,
           0.0455348028409706,
           -0.00582985065948508,
           0.030268719482090686,
           -0.016737373187938002,
           0.02680983276763752,
           -0.019849284053000984,
           -0.004540688787671723,
           -0.008487913352313393,
           0.009096394537852657,
           0.01172944452593631,
           0.03355848614966477,
           -0.04380033414854283,
           0.10812703312302852,
           0.02995933016677558,
           -0.13637593661213457,
           -0.08651770051416147,
           -0.11526289553108147,
           -0.027874297756436694,
           -0.07944644977359491,
           -0.05221744487341394,
           -0.1168492921247456,
           -0.10128894250340217,
           -0.044821097204256206,
           -0.1709786267208651,
           1,
           -0.05355475079553383,
           -0.048644618420614384,
           0.06334168342134423,
           0.005001212882125764,
           0.015353276008555706,
           -0.05843926166312556
          ],
          [
           0.056998007001057,
           0.027616985259571986,
           -0.02393083323677154,
           0.057041035367071204,
           -0.09202629998219465,
           -0.03235685435100913,
           0.07217907902762571,
           -0.01254136543014743,
           -0.07151852095759122,
           0.07983293223846816,
           0.055076815353319646,
           0.1305994948840934,
           0.06364770433154796,
           0.00620815267122356,
           -0.0517918861076187,
           -0.019363141192114804,
           0.01292306189434548,
           0.010855557666884777,
           0.07148305259791092,
           0.009363935601773924,
           -0.031119611295303915,
           0.031885294564193825,
           -0.0034538619052622093,
           -0.003120816807912011,
           -0.0017571667976956108,
           -0.013898042202073677,
           0.01600379172175893,
           0.03271703797267435,
           0.06949619226196772,
           -0.07770574836861033,
           -0.055393296190178756,
           -0.07379751974390122,
           -0.017846628175962612,
           -0.05086590024253581,
           -0.033432423342017674,
           -0.074813216368589,
           -0.06485064165525951,
           -0.028696882814144134,
           -0.10946973458441153,
           -0.05355475079553383,
           1,
           -0.03114490722959352,
           0.04462430681588624,
           0.010524292950866621,
           0.1113857955850485,
           -0.11215394144942346
          ],
          [
           0.036352065249775425,
           0.03084609253181214,
           -0.016977067153781715,
           0.04784084138447565,
           -0.08689268061698036,
           -0.04619601065395019,
           -0.06874389539333725,
           -0.012077211473883546,
           -0.04867201040102265,
           0.11090698039237705,
           0.09979544954818413,
           0.12523904851347725,
           0.045263336007741906,
           0.006847415744588508,
           -0.04533257993785871,
           -0.008032407412815438,
           -0.007499064555841563,
           0.03787987765161138,
           0.06294518878082847,
           -0.019142867856926243,
           -0.02349057091168221,
           0.027500278100064106,
           -0.024728626454941963,
           0.0029402934405440666,
           -0.010147735117769006,
           -0.019805139232188344,
           0.028071426099315937,
           0.05345202683057496,
           0.02401713872718375,
           -0.07296866910296974,
           -0.05031459798065285,
           -0.06703144230911516,
           -0.01621037171900504,
           -0.04620229337572666,
           -0.030367193427114646,
           -0.0679540154516483,
           -0.05890485289897351,
           -0.026065827841953985,
           -0.09943307341295159,
           -0.048644618420614384,
           -0.03114490722959352,
           1,
           0.029982556706384344,
           0.050485974391201144,
           0.13507232681456144,
           -0.13713240325092865
          ],
          [
           0.001993686249719973,
           0.01984521555119435,
           -0.02545018825692973,
           0.031039806322748567,
           0.08516674866575011,
           0.007458454793014616,
           -0.07117471965490017,
           -0.03947554484603559,
           -0.08228237419890475,
           0.6087193145248583,
           0.3478002100780384,
           0.02112446905897739,
           -0.04718426794659071,
           0.03876217292240617,
           -0.015957039632333952,
           0.0020065714156446398,
           -0.015544843784983603,
           0.004470572219487383,
           -0.011204554490674616,
           -0.009059338075616057,
           -0.0036843929964222467,
           -0.006768947560700758,
           0.0053548288402294544,
           -0.009655167883266142,
           -0.024843638047166793,
           0.01136408984126043,
           0.0050178925187350405,
           0.1663359949258958,
           -0.005817395860722301,
           -0.17849262704970464,
           0.06792580433137765,
           -0.06260006225097026,
           0.0026307141496422592,
           0.06097031727530421,
           0.007225620738159778,
           -0.10357045019581736,
           -0.07425025379024311,
           -0.000021323475172205198,
           0.03453836023914342,
           0.06334168342134423,
           0.04462430681588624,
           0.029982556706384344,
           1,
           -0.07849387704687144,
           -0.11277406033284715,
           -0.6067363402175524
          ],
          [
           -0.02094247550888412,
           0.01510330857037633,
           -0.017922614415047222,
           0.02811065196117866,
           0.009830479488261922,
           -0.019288673246026906,
           -0.008806331153088065,
           -0.009497450494607498,
           -0.024854320655611262,
           0.3380488824249435,
           0.3188876713801625,
           0.03931869994415358,
           0.011126297546426954,
           0.008043750186533324,
           0.003622215772486921,
           -0.022674357892707588,
           -0.008927595808436077,
           0.010844595106576017,
           -0.0029263358338451426,
           0.004925746317957108,
           -0.01545380468007501,
           0.040725499822316644,
           -0.0113113458577539,
           -0.012523900054916487,
           -0.008729892757189703,
           -0.03003807525168892,
           0.037986842472780474,
           0.09150598967158742,
           0.014166535535796016,
           -0.10866624075402398,
           0.04145828235173787,
           -0.04044412956874822,
           0.03686060409353312,
           0.038670529267950934,
           0.05533190743200214,
           -0.05553036028342168,
           -0.03657787679628273,
           0.02677636429956246,
           -0.012275069662156026,
           0.005001212882125764,
           0.010524292950866621,
           0.050485974391201144,
           -0.07849387704687144,
           1,
           -0.07180635774543107,
           -0.38632577894444464
          ],
          [
           0.06000890966347141,
           0.07048885498377068,
           -0.04150982152914484,
           0.07335818622594595,
           -0.13447717252380603,
           -0.08209754720782142,
           -0.04436641795742859,
           -0.02597129254434458,
           -0.09425952012979257,
           0.3262145474583717,
           0.32897826482389897,
           0.2884909754116557,
           0.0645227994469584,
           0.004627640162229428,
           -0.07449371830825,
           -0.03415471147222022,
           -0.005594201423931102,
           0.0359951502960619,
           0.07000563871596191,
           -0.0008815625732956606,
           -0.02810879838368516,
           0.06061888600465202,
           -0.01861348496225943,
           0.030416198532916307,
           -0.020205764553925396,
           -0.008540847384458244,
           0.023010181988018512,
           0.14841955101719995,
           0.0002537093520180461,
           -0.16254990574411074,
           -0.0007674700367088695,
           0.007390012602135588,
           0.06870550744490715,
           0.035523789685934365,
           0.013933393322189028,
           -0.06713952567298241,
           -0.02096702064316747,
           0.044549500908051945,
           -0.09910688070173723,
           0.015353276008555706,
           0.1113857955850485,
           0.13507232681456144,
           -0.11277406033284715,
           -0.07180635774543107,
           1,
           -0.5550436332352285
          ],
          [
           -0.031455100217259224,
           -0.0690690439179032,
           0.05503206204127585,
           -0.08545634421066671,
           0.024082156440090575,
           0.059234591547944755,
           0.08544194506641996,
           0.050570696828781535,
           0.13484230294349264,
           -0.82403133930182,
           -0.628345901448031,
           -0.22830042314545057,
           -0.014778492202417018,
           -0.03500742416563458,
           0.059758290449781544,
           0.032628844321352254,
           0.0193502906456101,
           -0.03272496782296445,
           -0.03750143075154077,
           0.004704861155726407,
           0.029125248741362283,
           -0.055834825651200085,
           0.014195841854569256,
           -0.007315500237846703,
           0.03577139034399428,
           0.012295566671327746,
           -0.037729468300322845,
           -0.26455865072402124,
           -0.002933760554553345,
           0.2912424918489746,
           -0.06882331926373866,
           0.06003733324355173,
           -0.06614520255804411,
           -0.08681310880396056,
           -0.04174412559328074,
           0.14704370393361887,
           0.0855838551845724,
           -0.04305636381979034,
           0.047688320961351026,
           -0.05843926166312556,
           -0.11215394144942346,
           -0.13713240325092865,
           -0.6067363402175524,
           -0.38632577894444464,
           -0.5550436332352285,
           1
          ]
         ]
        }
       ],
       "layout": {
        "coloraxis": {
         "colorscale": [
          [
           0,
           "#0d0887"
          ],
          [
           0.1111111111111111,
           "#46039f"
          ],
          [
           0.2222222222222222,
           "#7201a8"
          ],
          [
           0.3333333333333333,
           "#9c179e"
          ],
          [
           0.4444444444444444,
           "#bd3786"
          ],
          [
           0.5555555555555556,
           "#d8576b"
          ],
          [
           0.6666666666666666,
           "#ed7953"
          ],
          [
           0.7777777777777778,
           "#fb9f3a"
          ],
          [
           0.8888888888888888,
           "#fdca26"
          ],
          [
           1,
           "#f0f921"
          ]
         ]
        },
        "height": 1200,
        "margin": {
         "t": 60
        },
        "template": {
         "data": {
          "bar": [
           {
            "error_x": {
             "color": "#2a3f5f"
            },
            "error_y": {
             "color": "#2a3f5f"
            },
            "marker": {
             "line": {
              "color": "#E5ECF6",
              "width": 0.5
             },
             "pattern": {
              "fillmode": "overlay",
              "size": 10,
              "solidity": 0.2
             }
            },
            "type": "bar"
           }
          ],
          "barpolar": [
           {
            "marker": {
             "line": {
              "color": "#E5ECF6",
              "width": 0.5
             },
             "pattern": {
              "fillmode": "overlay",
              "size": 10,
              "solidity": 0.2
             }
            },
            "type": "barpolar"
           }
          ],
          "carpet": [
           {
            "aaxis": {
             "endlinecolor": "#2a3f5f",
             "gridcolor": "white",
             "linecolor": "white",
             "minorgridcolor": "white",
             "startlinecolor": "#2a3f5f"
            },
            "baxis": {
             "endlinecolor": "#2a3f5f",
             "gridcolor": "white",
             "linecolor": "white",
             "minorgridcolor": "white",
             "startlinecolor": "#2a3f5f"
            },
            "type": "carpet"
           }
          ],
          "choropleth": [
           {
            "colorbar": {
             "outlinewidth": 0,
             "ticks": ""
            },
            "type": "choropleth"
           }
          ],
          "contour": [
           {
            "colorbar": {
             "outlinewidth": 0,
             "ticks": ""
            },
            "colorscale": [
             [
              0,
              "#0d0887"
             ],
             [
              0.1111111111111111,
              "#46039f"
             ],
             [
              0.2222222222222222,
              "#7201a8"
             ],
             [
              0.3333333333333333,
              "#9c179e"
             ],
             [
              0.4444444444444444,
              "#bd3786"
             ],
             [
              0.5555555555555556,
              "#d8576b"
             ],
             [
              0.6666666666666666,
              "#ed7953"
             ],
             [
              0.7777777777777778,
              "#fb9f3a"
             ],
             [
              0.8888888888888888,
              "#fdca26"
             ],
             [
              1,
              "#f0f921"
             ]
            ],
            "type": "contour"
           }
          ],
          "contourcarpet": [
           {
            "colorbar": {
             "outlinewidth": 0,
             "ticks": ""
            },
            "type": "contourcarpet"
           }
          ],
          "heatmap": [
           {
            "colorbar": {
             "outlinewidth": 0,
             "ticks": ""
            },
            "colorscale": [
             [
              0,
              "#0d0887"
             ],
             [
              0.1111111111111111,
              "#46039f"
             ],
             [
              0.2222222222222222,
              "#7201a8"
             ],
             [
              0.3333333333333333,
              "#9c179e"
             ],
             [
              0.4444444444444444,
              "#bd3786"
             ],
             [
              0.5555555555555556,
              "#d8576b"
             ],
             [
              0.6666666666666666,
              "#ed7953"
             ],
             [
              0.7777777777777778,
              "#fb9f3a"
             ],
             [
              0.8888888888888888,
              "#fdca26"
             ],
             [
              1,
              "#f0f921"
             ]
            ],
            "type": "heatmap"
           }
          ],
          "heatmapgl": [
           {
            "colorbar": {
             "outlinewidth": 0,
             "ticks": ""
            },
            "colorscale": [
             [
              0,
              "#0d0887"
             ],
             [
              0.1111111111111111,
              "#46039f"
             ],
             [
              0.2222222222222222,
              "#7201a8"
             ],
             [
              0.3333333333333333,
              "#9c179e"
             ],
             [
              0.4444444444444444,
              "#bd3786"
             ],
             [
              0.5555555555555556,
              "#d8576b"
             ],
             [
              0.6666666666666666,
              "#ed7953"
             ],
             [
              0.7777777777777778,
              "#fb9f3a"
             ],
             [
              0.8888888888888888,
              "#fdca26"
             ],
             [
              1,
              "#f0f921"
             ]
            ],
            "type": "heatmapgl"
           }
          ],
          "histogram": [
           {
            "marker": {
             "pattern": {
              "fillmode": "overlay",
              "size": 10,
              "solidity": 0.2
             }
            },
            "type": "histogram"
           }
          ],
          "histogram2d": [
           {
            "colorbar": {
             "outlinewidth": 0,
             "ticks": ""
            },
            "colorscale": [
             [
              0,
              "#0d0887"
             ],
             [
              0.1111111111111111,
              "#46039f"
             ],
             [
              0.2222222222222222,
              "#7201a8"
             ],
             [
              0.3333333333333333,
              "#9c179e"
             ],
             [
              0.4444444444444444,
              "#bd3786"
             ],
             [
              0.5555555555555556,
              "#d8576b"
             ],
             [
              0.6666666666666666,
              "#ed7953"
             ],
             [
              0.7777777777777778,
              "#fb9f3a"
             ],
             [
              0.8888888888888888,
              "#fdca26"
             ],
             [
              1,
              "#f0f921"
             ]
            ],
            "type": "histogram2d"
           }
          ],
          "histogram2dcontour": [
           {
            "colorbar": {
             "outlinewidth": 0,
             "ticks": ""
            },
            "colorscale": [
             [
              0,
              "#0d0887"
             ],
             [
              0.1111111111111111,
              "#46039f"
             ],
             [
              0.2222222222222222,
              "#7201a8"
             ],
             [
              0.3333333333333333,
              "#9c179e"
             ],
             [
              0.4444444444444444,
              "#bd3786"
             ],
             [
              0.5555555555555556,
              "#d8576b"
             ],
             [
              0.6666666666666666,
              "#ed7953"
             ],
             [
              0.7777777777777778,
              "#fb9f3a"
             ],
             [
              0.8888888888888888,
              "#fdca26"
             ],
             [
              1,
              "#f0f921"
             ]
            ],
            "type": "histogram2dcontour"
           }
          ],
          "mesh3d": [
           {
            "colorbar": {
             "outlinewidth": 0,
             "ticks": ""
            },
            "type": "mesh3d"
           }
          ],
          "parcoords": [
           {
            "line": {
             "colorbar": {
              "outlinewidth": 0,
              "ticks": ""
             }
            },
            "type": "parcoords"
           }
          ],
          "pie": [
           {
            "automargin": true,
            "type": "pie"
           }
          ],
          "scatter": [
           {
            "fillpattern": {
             "fillmode": "overlay",
             "size": 10,
             "solidity": 0.2
            },
            "type": "scatter"
           }
          ],
          "scatter3d": [
           {
            "line": {
             "colorbar": {
              "outlinewidth": 0,
              "ticks": ""
             }
            },
            "marker": {
             "colorbar": {
              "outlinewidth": 0,
              "ticks": ""
             }
            },
            "type": "scatter3d"
           }
          ],
          "scattercarpet": [
           {
            "marker": {
             "colorbar": {
              "outlinewidth": 0,
              "ticks": ""
             }
            },
            "type": "scattercarpet"
           }
          ],
          "scattergeo": [
           {
            "marker": {
             "colorbar": {
              "outlinewidth": 0,
              "ticks": ""
             }
            },
            "type": "scattergeo"
           }
          ],
          "scattergl": [
           {
            "marker": {
             "colorbar": {
              "outlinewidth": 0,
              "ticks": ""
             }
            },
            "type": "scattergl"
           }
          ],
          "scattermapbox": [
           {
            "marker": {
             "colorbar": {
              "outlinewidth": 0,
              "ticks": ""
             }
            },
            "type": "scattermapbox"
           }
          ],
          "scatterpolar": [
           {
            "marker": {
             "colorbar": {
              "outlinewidth": 0,
              "ticks": ""
             }
            },
            "type": "scatterpolar"
           }
          ],
          "scatterpolargl": [
           {
            "marker": {
             "colorbar": {
              "outlinewidth": 0,
              "ticks": ""
             }
            },
            "type": "scatterpolargl"
           }
          ],
          "scatterternary": [
           {
            "marker": {
             "colorbar": {
              "outlinewidth": 0,
              "ticks": ""
             }
            },
            "type": "scatterternary"
           }
          ],
          "surface": [
           {
            "colorbar": {
             "outlinewidth": 0,
             "ticks": ""
            },
            "colorscale": [
             [
              0,
              "#0d0887"
             ],
             [
              0.1111111111111111,
              "#46039f"
             ],
             [
              0.2222222222222222,
              "#7201a8"
             ],
             [
              0.3333333333333333,
              "#9c179e"
             ],
             [
              0.4444444444444444,
              "#bd3786"
             ],
             [
              0.5555555555555556,
              "#d8576b"
             ],
             [
              0.6666666666666666,
              "#ed7953"
             ],
             [
              0.7777777777777778,
              "#fb9f3a"
             ],
             [
              0.8888888888888888,
              "#fdca26"
             ],
             [
              1,
              "#f0f921"
             ]
            ],
            "type": "surface"
           }
          ],
          "table": [
           {
            "cells": {
             "fill": {
              "color": "#EBF0F8"
             },
             "line": {
              "color": "white"
             }
            },
            "header": {
             "fill": {
              "color": "#C8D4E3"
             },
             "line": {
              "color": "white"
             }
            },
            "type": "table"
           }
          ]
         },
         "layout": {
          "annotationdefaults": {
           "arrowcolor": "#2a3f5f",
           "arrowhead": 0,
           "arrowwidth": 1
          },
          "autotypenumbers": "strict",
          "coloraxis": {
           "colorbar": {
            "outlinewidth": 0,
            "ticks": ""
           }
          },
          "colorscale": {
           "diverging": [
            [
             0,
             "#8e0152"
            ],
            [
             0.1,
             "#c51b7d"
            ],
            [
             0.2,
             "#de77ae"
            ],
            [
             0.3,
             "#f1b6da"
            ],
            [
             0.4,
             "#fde0ef"
            ],
            [
             0.5,
             "#f7f7f7"
            ],
            [
             0.6,
             "#e6f5d0"
            ],
            [
             0.7,
             "#b8e186"
            ],
            [
             0.8,
             "#7fbc41"
            ],
            [
             0.9,
             "#4d9221"
            ],
            [
             1,
             "#276419"
            ]
           ],
           "sequential": [
            [
             0,
             "#0d0887"
            ],
            [
             0.1111111111111111,
             "#46039f"
            ],
            [
             0.2222222222222222,
             "#7201a8"
            ],
            [
             0.3333333333333333,
             "#9c179e"
            ],
            [
             0.4444444444444444,
             "#bd3786"
            ],
            [
             0.5555555555555556,
             "#d8576b"
            ],
            [
             0.6666666666666666,
             "#ed7953"
            ],
            [
             0.7777777777777778,
             "#fb9f3a"
            ],
            [
             0.8888888888888888,
             "#fdca26"
            ],
            [
             1,
             "#f0f921"
            ]
           ],
           "sequentialminus": [
            [
             0,
             "#0d0887"
            ],
            [
             0.1111111111111111,
             "#46039f"
            ],
            [
             0.2222222222222222,
             "#7201a8"
            ],
            [
             0.3333333333333333,
             "#9c179e"
            ],
            [
             0.4444444444444444,
             "#bd3786"
            ],
            [
             0.5555555555555556,
             "#d8576b"
            ],
            [
             0.6666666666666666,
             "#ed7953"
            ],
            [
             0.7777777777777778,
             "#fb9f3a"
            ],
            [
             0.8888888888888888,
             "#fdca26"
            ],
            [
             1,
             "#f0f921"
            ]
           ]
          },
          "colorway": [
           "#636efa",
           "#EF553B",
           "#00cc96",
           "#ab63fa",
           "#FFA15A",
           "#19d3f3",
           "#FF6692",
           "#B6E880",
           "#FF97FF",
           "#FECB52"
          ],
          "font": {
           "color": "#2a3f5f"
          },
          "geo": {
           "bgcolor": "white",
           "lakecolor": "white",
           "landcolor": "#E5ECF6",
           "showlakes": true,
           "showland": true,
           "subunitcolor": "white"
          },
          "hoverlabel": {
           "align": "left"
          },
          "hovermode": "closest",
          "mapbox": {
           "style": "light"
          },
          "paper_bgcolor": "white",
          "plot_bgcolor": "#E5ECF6",
          "polar": {
           "angularaxis": {
            "gridcolor": "white",
            "linecolor": "white",
            "ticks": ""
           },
           "bgcolor": "#E5ECF6",
           "radialaxis": {
            "gridcolor": "white",
            "linecolor": "white",
            "ticks": ""
           }
          },
          "scene": {
           "xaxis": {
            "backgroundcolor": "#E5ECF6",
            "gridcolor": "white",
            "gridwidth": 2,
            "linecolor": "white",
            "showbackground": true,
            "ticks": "",
            "zerolinecolor": "white"
           },
           "yaxis": {
            "backgroundcolor": "#E5ECF6",
            "gridcolor": "white",
            "gridwidth": 2,
            "linecolor": "white",
            "showbackground": true,
            "ticks": "",
            "zerolinecolor": "white"
           },
           "zaxis": {
            "backgroundcolor": "#E5ECF6",
            "gridcolor": "white",
            "gridwidth": 2,
            "linecolor": "white",
            "showbackground": true,
            "ticks": "",
            "zerolinecolor": "white"
           }
          },
          "shapedefaults": {
           "line": {
            "color": "#2a3f5f"
           }
          },
          "ternary": {
           "aaxis": {
            "gridcolor": "white",
            "linecolor": "white",
            "ticks": ""
           },
           "baxis": {
            "gridcolor": "white",
            "linecolor": "white",
            "ticks": ""
           },
           "bgcolor": "#E5ECF6",
           "caxis": {
            "gridcolor": "white",
            "linecolor": "white",
            "ticks": ""
           }
          },
          "title": {
           "x": 0.05
          },
          "xaxis": {
           "automargin": true,
           "gridcolor": "white",
           "linecolor": "white",
           "ticks": "",
           "title": {
            "standoff": 15
           },
           "zerolinecolor": "white",
           "zerolinewidth": 2
          },
          "yaxis": {
           "automargin": true,
           "gridcolor": "white",
           "linecolor": "white",
           "ticks": "",
           "title": {
            "standoff": 15
           },
           "zerolinecolor": "white",
           "zerolinewidth": 2
          }
         }
        },
        "width": 1200,
        "xaxis": {
         "anchor": "y",
         "constrain": "domain",
         "domain": [
          0,
          1
         ],
         "scaleanchor": "y"
        },
        "yaxis": {
         "anchor": "x",
         "autorange": "reversed",
         "constrain": "domain",
         "domain": [
          0,
          1
         ]
        }
       }
      }
     },
     "metadata": {},
     "output_type": "display_data"
    }
   ],
   "source": [
    "import plotly.express as px\n",
    "\n",
    "px.imshow(data.corr(),  height=1200, width=1200)"
   ]
  },
  {
   "attachments": {},
   "cell_type": "markdown",
   "id": "b5b4c1a5",
   "metadata": {},
   "source": [
    "### Задания 7 и 8"
   ]
  },
  {
   "cell_type": "code",
   "execution_count": 252,
   "id": "79f3e432",
   "metadata": {},
   "outputs": [],
   "source": [
    "X = data.drop(['deposit'], axis=1)\n",
    "y = data['deposit']\n",
    " \n",
    "X_train, X_test, y_train, y_test = train_test_split(X, y, stratify=y, random_state = 42, test_size = 0.33)"
   ]
  },
  {
   "cell_type": "code",
   "execution_count": 253,
   "id": "e3a097a4",
   "metadata": {},
   "outputs": [
    {
     "data": {
      "text/plain": [
       "(3335, 45)"
      ]
     },
     "execution_count": 253,
     "metadata": {},
     "output_type": "execute_result"
    }
   ],
   "source": [
    "# рассчитайте необходимые показатели\n",
    "X_test.shape"
   ]
  },
  {
   "cell_type": "code",
   "execution_count": 254,
   "id": "2c40216a",
   "metadata": {},
   "outputs": [
    {
     "data": {
      "text/plain": [
       "0.46326836581709147"
      ]
     },
     "execution_count": 254,
     "metadata": {},
     "output_type": "execute_result"
    }
   ],
   "source": [
    "y_test.mean()"
   ]
  },
  {
   "attachments": {},
   "cell_type": "markdown",
   "id": "2e381a4f",
   "metadata": {},
   "source": [
    "### Задание 9"
   ]
  },
  {
   "cell_type": "code",
   "execution_count": 222,
   "id": "0f6e03e0",
   "metadata": {},
   "outputs": [],
   "source": [
    "# с помощью SelectKBest отберите 15 наиболее подходящих признаков"
   ]
  },
  {
   "cell_type": "code",
   "execution_count": 258,
   "id": "f22eb390",
   "metadata": {},
   "outputs": [],
   "source": [
    "selector = SelectKBest(f_classif, k=15)\n",
    "selector.fit(X_train, y_train)\n",
    "selector.get_feature_names_out()\n",
    "X_train_sel = selector.transform(X_train)\n",
    "X_test_sel = selector.transform(X_test)"
   ]
  },
  {
   "attachments": {},
   "cell_type": "markdown",
   "id": "60132ef3",
   "metadata": {},
   "source": [
    "### Задание 10"
   ]
  },
  {
   "cell_type": "code",
   "execution_count": 259,
   "id": "e91b06f3",
   "metadata": {},
   "outputs": [
    {
     "name": "stdout",
     "output_type": "stream",
     "text": [
      "0.46823674223097866\n"
     ]
    }
   ],
   "source": [
    "# нормализуйте данные с помощью minmaxsxaler\n",
    "scaler = preprocessing.MinMaxScaler()\n",
    "scaler.fit(X_train_sel)                           # fit() только на train данных\n",
    "X_train_scaled = scaler.transform(X_train_sel)    # fransform() на train данных\n",
    "X_test_scaled = scaler.transform(X_test_sel)      # fransform() на test данных\n",
    "\n",
    "print(X_test_scaled[:, 0].mean())  # для признака balance, обратите внимание именно на столбец"
   ]
  },
  {
   "attachments": {},
   "cell_type": "markdown",
   "id": "0894c632",
   "metadata": {},
   "source": [
    "# Часть 4: Решение задачи классификации: логистическая регрессия и решающие деревья"
   ]
  },
  {
   "attachments": {},
   "cell_type": "markdown",
   "id": "41b8ff06",
   "metadata": {},
   "source": [
    "### Задание 1"
   ]
  },
  {
   "cell_type": "code",
   "execution_count": 261,
   "id": "8acc0166",
   "metadata": {},
   "outputs": [
    {
     "name": "stdout",
     "output_type": "stream",
     "text": [
      "              precision    recall  f1-score   support\n",
      "\n",
      "           0       0.79      0.87      0.83      1790\n",
      "           1       0.83      0.74      0.78      1545\n",
      "\n",
      "    accuracy                           0.81      3335\n",
      "   macro avg       0.81      0.80      0.81      3335\n",
      "weighted avg       0.81      0.81      0.81      3335\n",
      "\n"
     ]
    }
   ],
   "source": [
    "\n",
    "log_reg = linear_model.LogisticRegression(\n",
    "    solver='sag', \n",
    "    random_state=42, \n",
    "    max_iter=1000 )\n",
    "\n",
    "log_reg.fit(X_train_scaled, y_train)\n",
    "print(metrics.classification_report(y_test, log_reg.predict(X_test_scaled)))\n",
    "# обучите логистическую регрессию и рассчитайте метрики качества"
   ]
  },
  {
   "attachments": {},
   "cell_type": "markdown",
   "id": "29b7e0ba",
   "metadata": {},
   "source": [
    "### Задания 2,3,4"
   ]
  },
  {
   "cell_type": "code",
   "execution_count": 263,
   "id": "c91a588b",
   "metadata": {},
   "outputs": [
    {
     "name": "stdout",
     "output_type": "stream",
     "text": [
      "              precision    recall  f1-score   support\n",
      "\n",
      "           0       0.85      0.77      0.81      1790\n",
      "           1       0.76      0.84      0.80      1545\n",
      "\n",
      "    accuracy                           0.81      3335\n",
      "   macro avg       0.81      0.81      0.81      3335\n",
      "weighted avg       0.81      0.81      0.81      3335\n",
      "\n"
     ]
    }
   ],
   "source": [
    "# обучите решающие деревья, настройте максимальную глубину\n",
    "dt = tree.DecisionTreeClassifier(\n",
    "    criterion='entropy',\n",
    "    random_state=42,\n",
    "    max_depth = 6\n",
    ")\n",
    "\n",
    "dt.fit(X_train_scaled, y_train)\n",
    "print(metrics.classification_report(y_test, dt.predict(X_test_scaled)))"
   ]
  },
  {
   "attachments": {},
   "cell_type": "markdown",
   "id": "fe823c18",
   "metadata": {},
   "source": [
    "### Задание 5"
   ]
  },
  {
   "cell_type": "code",
   "execution_count": 267,
   "id": "63574943",
   "metadata": {},
   "outputs": [
    {
     "name": "stdout",
     "output_type": "stream",
     "text": [
      "{'max_depth': 7, 'min_samples_split': 10}\n",
      "DecisionTreeClassifier(max_depth=7, min_samples_split=10)\n",
      "0.7958677861339178\n"
     ]
    }
   ],
   "source": [
    "# подберите оптимальные параметры с помощью gridsearch\n",
    "from sklearn.model_selection import GridSearchCV\n",
    "\n",
    "parameters =  {'min_samples_split': [2, 5, 7, 10], 'max_depth':[3,5,7]}\n",
    "\n",
    "model_cv = GridSearchCV(tree.DecisionTreeClassifier(), \n",
    "                        parameters,\n",
    "                        cv=3, scoring=('f1'), \n",
    "                        return_train_score=True)\n",
    "\n",
    "model_cv.fit(X_train_scaled, y_train)\n",
    "print(model_cv.best_params_)\n",
    "print(model_cv.best_estimator_)\n",
    "print(model_cv.best_score_)"
   ]
  },
  {
   "attachments": {},
   "cell_type": "markdown",
   "id": "ed0fc831",
   "metadata": {},
   "source": [
    "# Часть 5: Решение задачи классификации: ансамбли моделей и построение прогноза"
   ]
  },
  {
   "attachments": {},
   "cell_type": "markdown",
   "id": "f9e36ff2",
   "metadata": {},
   "source": [
    "### Задание 1"
   ]
  },
  {
   "cell_type": "code",
   "execution_count": 274,
   "id": "e708e3fe",
   "metadata": {},
   "outputs": [
    {
     "name": "stdout",
     "output_type": "stream",
     "text": [
      "              precision    recall  f1-score   support\n",
      "\n",
      "           0       0.85      0.82      0.84      1790\n",
      "           1       0.80      0.83      0.82      1545\n",
      "\n",
      "    accuracy                           0.83      3335\n",
      "   macro avg       0.83      0.83      0.83      3335\n",
      "weighted avg       0.83      0.83      0.83      3335\n",
      "\n",
      "0.8330097087378641\n"
     ]
    }
   ],
   "source": [
    "# обучите на ваших данных случайный лес\n",
    "rf = ensemble.RandomForestClassifier(\n",
    "    n_estimators=100,\n",
    "    criterion='gini',\n",
    "    min_samples_leaf=5,\n",
    "    max_depth=10,\n",
    "    random_state=42\n",
    ")\n",
    "#Обучаем модель\n",
    "rf.fit(X_train_scaled, y_train)\n",
    "print(metrics.classification_report(y_test, rf.predict(X_test_scaled)))\n",
    "print(metrics.recall_score(y_test, rf.predict(X_test_scaled)))"
   ]
  },
  {
   "attachments": {},
   "cell_type": "markdown",
   "id": "71d7b13d",
   "metadata": {},
   "source": [
    "### Задания 2 и 3"
   ]
  },
  {
   "cell_type": "code",
   "execution_count": 273,
   "id": "99f12dfe",
   "metadata": {},
   "outputs": [
    {
     "name": "stdout",
     "output_type": "stream",
     "text": [
      "              precision    recall  f1-score   support\n",
      "\n",
      "           0       0.85      0.82      0.84      1790\n",
      "           1       0.80      0.83      0.82      1545\n",
      "\n",
      "    accuracy                           0.83      3335\n",
      "   macro avg       0.83      0.83      0.83      3335\n",
      "weighted avg       0.83      0.83      0.83      3335\n",
      "\n"
     ]
    }
   ],
   "source": [
    "# используйте для классификации градиентный бустинг и сравните качество со случайным лесом\n",
    "gb = ensemble.GradientBoostingClassifier(\n",
    "    learning_rate=0.05,\n",
    "    n_estimators=300,\n",
    "    min_samples_leaf=5,\n",
    "    max_depth=5,\n",
    "    random_state=42\n",
    ")\n",
    "gb.fit(X_train_scaled, y_train)\n",
    "\n",
    "print(metrics.classification_report(y_test, gb.predict(X_test_scaled)))"
   ]
  },
  {
   "attachments": {},
   "cell_type": "markdown",
   "id": "b08718ae",
   "metadata": {},
   "source": [
    "### Задание 4"
   ]
  },
  {
   "cell_type": "code",
   "execution_count": 275,
   "id": "0bd42fb0",
   "metadata": {},
   "outputs": [
    {
     "data": {
      "text/html": [
       "<style>#sk-container-id-5 {color: black;background-color: white;}#sk-container-id-5 pre{padding: 0;}#sk-container-id-5 div.sk-toggleable {background-color: white;}#sk-container-id-5 label.sk-toggleable__label {cursor: pointer;display: block;width: 100%;margin-bottom: 0;padding: 0.3em;box-sizing: border-box;text-align: center;}#sk-container-id-5 label.sk-toggleable__label-arrow:before {content: \"▸\";float: left;margin-right: 0.25em;color: #696969;}#sk-container-id-5 label.sk-toggleable__label-arrow:hover:before {color: black;}#sk-container-id-5 div.sk-estimator:hover label.sk-toggleable__label-arrow:before {color: black;}#sk-container-id-5 div.sk-toggleable__content {max-height: 0;max-width: 0;overflow: hidden;text-align: left;background-color: #f0f8ff;}#sk-container-id-5 div.sk-toggleable__content pre {margin: 0.2em;color: black;border-radius: 0.25em;background-color: #f0f8ff;}#sk-container-id-5 input.sk-toggleable__control:checked~div.sk-toggleable__content {max-height: 200px;max-width: 100%;overflow: auto;}#sk-container-id-5 input.sk-toggleable__control:checked~label.sk-toggleable__label-arrow:before {content: \"▾\";}#sk-container-id-5 div.sk-estimator input.sk-toggleable__control:checked~label.sk-toggleable__label {background-color: #d4ebff;}#sk-container-id-5 div.sk-label input.sk-toggleable__control:checked~label.sk-toggleable__label {background-color: #d4ebff;}#sk-container-id-5 input.sk-hidden--visually {border: 0;clip: rect(1px 1px 1px 1px);clip: rect(1px, 1px, 1px, 1px);height: 1px;margin: -1px;overflow: hidden;padding: 0;position: absolute;width: 1px;}#sk-container-id-5 div.sk-estimator {font-family: monospace;background-color: #f0f8ff;border: 1px dotted black;border-radius: 0.25em;box-sizing: border-box;margin-bottom: 0.5em;}#sk-container-id-5 div.sk-estimator:hover {background-color: #d4ebff;}#sk-container-id-5 div.sk-parallel-item::after {content: \"\";width: 100%;border-bottom: 1px solid gray;flex-grow: 1;}#sk-container-id-5 div.sk-label:hover label.sk-toggleable__label {background-color: #d4ebff;}#sk-container-id-5 div.sk-serial::before {content: \"\";position: absolute;border-left: 1px solid gray;box-sizing: border-box;top: 0;bottom: 0;left: 50%;z-index: 0;}#sk-container-id-5 div.sk-serial {display: flex;flex-direction: column;align-items: center;background-color: white;padding-right: 0.2em;padding-left: 0.2em;position: relative;}#sk-container-id-5 div.sk-item {position: relative;z-index: 1;}#sk-container-id-5 div.sk-parallel {display: flex;align-items: stretch;justify-content: center;background-color: white;position: relative;}#sk-container-id-5 div.sk-item::before, #sk-container-id-5 div.sk-parallel-item::before {content: \"\";position: absolute;border-left: 1px solid gray;box-sizing: border-box;top: 0;bottom: 0;left: 50%;z-index: -1;}#sk-container-id-5 div.sk-parallel-item {display: flex;flex-direction: column;z-index: 1;position: relative;background-color: white;}#sk-container-id-5 div.sk-parallel-item:first-child::after {align-self: flex-end;width: 50%;}#sk-container-id-5 div.sk-parallel-item:last-child::after {align-self: flex-start;width: 50%;}#sk-container-id-5 div.sk-parallel-item:only-child::after {width: 0;}#sk-container-id-5 div.sk-dashed-wrapped {border: 1px dashed gray;margin: 0 0.4em 0.5em 0.4em;box-sizing: border-box;padding-bottom: 0.4em;background-color: white;}#sk-container-id-5 div.sk-label label {font-family: monospace;font-weight: bold;display: inline-block;line-height: 1.2em;}#sk-container-id-5 div.sk-label-container {text-align: center;}#sk-container-id-5 div.sk-container {/* jupyter's `normalize.less` sets `[hidden] { display: none; }` but bootstrap.min.css set `[hidden] { display: none !important; }` so we also need the `!important` here to be able to override the default hidden behavior on the sphinx rendered scikit-learn.org. See: https://github.com/scikit-learn/scikit-learn/issues/21755 */display: inline-block !important;position: relative;}#sk-container-id-5 div.sk-text-repr-fallback {display: none;}</style><div id=\"sk-container-id-5\" class=\"sk-top-container\"><div class=\"sk-text-repr-fallback\"><pre>StackingClassifier(estimators=[(&#x27;dt&#x27;,\n",
       "                                DecisionTreeClassifier(criterion=&#x27;entropy&#x27;,\n",
       "                                                       max_depth=6,\n",
       "                                                       min_samples_leaf=5,\n",
       "                                                       random_state=42)),\n",
       "                               (&#x27;log_reg&#x27;,\n",
       "                                LogisticRegression(random_state=42,\n",
       "                                                   solver=&#x27;sag&#x27;)),\n",
       "                               (&#x27;gb&#x27;,\n",
       "                                GradientBoostingClassifier(learning_rate=0.05,\n",
       "                                                           max_depth=5,\n",
       "                                                           min_samples_leaf=5,\n",
       "                                                           n_estimators=300,\n",
       "                                                           random_state=42))],\n",
       "                   final_estimator=LogisticRegression(random_state=42))</pre><b>In a Jupyter environment, please rerun this cell to show the HTML representation or trust the notebook. <br />On GitHub, the HTML representation is unable to render, please try loading this page with nbviewer.org.</b></div><div class=\"sk-container\" hidden><div class=\"sk-item sk-dashed-wrapped\"><div class=\"sk-label-container\"><div class=\"sk-label sk-toggleable\"><input class=\"sk-toggleable__control sk-hidden--visually\" id=\"sk-estimator-id-7\" type=\"checkbox\" ><label for=\"sk-estimator-id-7\" class=\"sk-toggleable__label sk-toggleable__label-arrow\">StackingClassifier</label><div class=\"sk-toggleable__content\"><pre>StackingClassifier(estimators=[(&#x27;dt&#x27;,\n",
       "                                DecisionTreeClassifier(criterion=&#x27;entropy&#x27;,\n",
       "                                                       max_depth=6,\n",
       "                                                       min_samples_leaf=5,\n",
       "                                                       random_state=42)),\n",
       "                               (&#x27;log_reg&#x27;,\n",
       "                                LogisticRegression(random_state=42,\n",
       "                                                   solver=&#x27;sag&#x27;)),\n",
       "                               (&#x27;gb&#x27;,\n",
       "                                GradientBoostingClassifier(learning_rate=0.05,\n",
       "                                                           max_depth=5,\n",
       "                                                           min_samples_leaf=5,\n",
       "                                                           n_estimators=300,\n",
       "                                                           random_state=42))],\n",
       "                   final_estimator=LogisticRegression(random_state=42))</pre></div></div></div><div class=\"sk-serial\"><div class=\"sk-item\"><div class=\"sk-parallel\"><div class=\"sk-parallel-item\"><div class=\"sk-item\"><div class=\"sk-label-container\"><div class=\"sk-label sk-toggleable\"><label>dt</label></div></div><div class=\"sk-serial\"><div class=\"sk-item\"><div class=\"sk-estimator sk-toggleable\"><input class=\"sk-toggleable__control sk-hidden--visually\" id=\"sk-estimator-id-8\" type=\"checkbox\" ><label for=\"sk-estimator-id-8\" class=\"sk-toggleable__label sk-toggleable__label-arrow\">DecisionTreeClassifier</label><div class=\"sk-toggleable__content\"><pre>DecisionTreeClassifier(criterion=&#x27;entropy&#x27;, max_depth=6, min_samples_leaf=5,\n",
       "                       random_state=42)</pre></div></div></div></div></div></div><div class=\"sk-parallel-item\"><div class=\"sk-item\"><div class=\"sk-label-container\"><div class=\"sk-label sk-toggleable\"><label>log_reg</label></div></div><div class=\"sk-serial\"><div class=\"sk-item\"><div class=\"sk-estimator sk-toggleable\"><input class=\"sk-toggleable__control sk-hidden--visually\" id=\"sk-estimator-id-9\" type=\"checkbox\" ><label for=\"sk-estimator-id-9\" class=\"sk-toggleable__label sk-toggleable__label-arrow\">LogisticRegression</label><div class=\"sk-toggleable__content\"><pre>LogisticRegression(random_state=42, solver=&#x27;sag&#x27;)</pre></div></div></div></div></div></div><div class=\"sk-parallel-item\"><div class=\"sk-item\"><div class=\"sk-label-container\"><div class=\"sk-label sk-toggleable\"><label>gb</label></div></div><div class=\"sk-serial\"><div class=\"sk-item\"><div class=\"sk-estimator sk-toggleable\"><input class=\"sk-toggleable__control sk-hidden--visually\" id=\"sk-estimator-id-10\" type=\"checkbox\" ><label for=\"sk-estimator-id-10\" class=\"sk-toggleable__label sk-toggleable__label-arrow\">GradientBoostingClassifier</label><div class=\"sk-toggleable__content\"><pre>GradientBoostingClassifier(learning_rate=0.05, max_depth=5, min_samples_leaf=5,\n",
       "                           n_estimators=300, random_state=42)</pre></div></div></div></div></div></div></div></div><div class=\"sk-item\"><div class=\"sk-parallel\"><div class=\"sk-parallel-item\"><div class=\"sk-item\"><div class=\"sk-label-container\"><div class=\"sk-label sk-toggleable\"><label>final_estimator</label></div></div><div class=\"sk-serial\"><div class=\"sk-item\"><div class=\"sk-estimator sk-toggleable\"><input class=\"sk-toggleable__control sk-hidden--visually\" id=\"sk-estimator-id-11\" type=\"checkbox\" ><label for=\"sk-estimator-id-11\" class=\"sk-toggleable__label sk-toggleable__label-arrow\">LogisticRegression</label><div class=\"sk-toggleable__content\"><pre>LogisticRegression(random_state=42)</pre></div></div></div></div></div></div></div></div></div></div></div></div>"
      ],
      "text/plain": [
       "StackingClassifier(estimators=[('dt',\n",
       "                                DecisionTreeClassifier(criterion='entropy',\n",
       "                                                       max_depth=6,\n",
       "                                                       min_samples_leaf=5,\n",
       "                                                       random_state=42)),\n",
       "                               ('log_reg',\n",
       "                                LogisticRegression(random_state=42,\n",
       "                                                   solver='sag')),\n",
       "                               ('gb',\n",
       "                                GradientBoostingClassifier(learning_rate=0.05,\n",
       "                                                           max_depth=5,\n",
       "                                                           min_samples_leaf=5,\n",
       "                                                           n_estimators=300,\n",
       "                                                           random_state=42))],\n",
       "                   final_estimator=LogisticRegression(random_state=42))"
      ]
     },
     "execution_count": 275,
     "metadata": {},
     "output_type": "execute_result"
    }
   ],
   "source": [
    "# объедините уже известные вам алгоритмы с помощью стекинга \n",
    "estimators = [\n",
    "    ('dt', tree.DecisionTreeClassifier(\n",
    "        criterion='entropy',\n",
    "        min_samples_leaf=5,\n",
    "        max_depth=6,\n",
    "        random_state=42\n",
    "        )\n",
    "    ),\n",
    "    ('log_reg', linear_model.LogisticRegression(\n",
    "        solver='sag',\n",
    "        random_state=42 \n",
    "        )\n",
    "    ),\n",
    "    ('gb', ensemble.GradientBoostingClassifier(\n",
    "        learning_rate=0.05,\n",
    "        n_estimators=300,\n",
    "        min_samples_leaf=5,\n",
    "        max_depth=5,\n",
    "        random_state=42\n",
    "        )\n",
    "    )\n",
    "]\n",
    "\n",
    "stack = ensemble.StackingClassifier(\n",
    "    estimators,\n",
    "    final_estimator=linear_model.LogisticRegression(random_state=42)\n",
    ")\n",
    "stack.fit(X_train_scaled, y_train)"
   ]
  },
  {
   "cell_type": "code",
   "execution_count": 280,
   "id": "1a41660a",
   "metadata": {},
   "outputs": [
    {
     "name": "stdout",
     "output_type": "stream",
     "text": [
      "              precision    recall  f1-score   support\n",
      "\n",
      "           0       0.84      0.84      0.84      1790\n",
      "           1       0.81      0.81      0.81      1545\n",
      "\n",
      "    accuracy                           0.82      3335\n",
      "   macro avg       0.82      0.82      0.82      3335\n",
      "weighted avg       0.82      0.82      0.82      3335\n",
      "\n",
      "0.8099547511312217\n"
     ]
    }
   ],
   "source": [
    "y_pred = stack.predict(X_test_scaled)\n",
    "print(metrics.classification_report(y_test, y_pred))\n",
    "print(metrics.precision_score(y_test, y_pred))"
   ]
  },
  {
   "attachments": {},
   "cell_type": "markdown",
   "id": "6247a5fb",
   "metadata": {},
   "source": [
    "### Задание 5"
   ]
  },
  {
   "cell_type": "code",
   "execution_count": 230,
   "id": "35de769c",
   "metadata": {},
   "outputs": [],
   "source": [
    "# оцените, какие признаки демонстрируют наибольшую  важность в модели градиентного бустинга"
   ]
  },
  {
   "attachments": {},
   "cell_type": "markdown",
   "id": "96974dda",
   "metadata": {},
   "source": [
    "### Задания 6,7,8"
   ]
  },
  {
   "cell_type": "code",
   "execution_count": 283,
   "id": "c48e29e9",
   "metadata": {},
   "outputs": [],
   "source": [
    "# реализуйте оптимизацию гиперпараметров с помощью Optuna\n",
    "import optuna"
   ]
  },
  {
   "cell_type": "code",
   "execution_count": 284,
   "id": "4ff32500",
   "metadata": {},
   "outputs": [],
   "source": [
    "def optuna_rf(trial):\n",
    "  # задаем пространства поиска гиперпараметров\n",
    "  n_estimators = trial.suggest_int('n_estimators', 100, 200, 1)\n",
    "  max_depth = trial.suggest_int('max_depth', 10, 30, 1)\n",
    "  min_samples_leaf = trial.suggest_int('min_samples_leaf', 2, 10, 1)\n",
    "\n",
    "  # создаем модель\n",
    "  model = ensemble.RandomForestClassifier(n_estimators=n_estimators,\n",
    "                                          max_depth=max_depth,\n",
    "                                          min_samples_leaf=min_samples_leaf,\n",
    "                                          random_state=42)\n",
    "  # обучаем модель\n",
    "  model.fit(X_train_scaled, y_train)\n",
    "  score = metrics.f1_score(y_train, model.predict(X_train_scaled))\n",
    "\n",
    "  return score"
   ]
  },
  {
   "cell_type": "code",
   "execution_count": 285,
   "id": "a1cffbf0",
   "metadata": {},
   "outputs": [
    {
     "name": "stderr",
     "output_type": "stream",
     "text": [
      "\u001b[32m[I 2023-04-27 14:44:03,267]\u001b[0m A new study created in memory with name: RandomForestClassifier\u001b[0m\n",
      "\u001b[32m[I 2023-04-27 14:44:04,629]\u001b[0m Trial 0 finished with value: 0.8624024960998439 and parameters: {'n_estimators': 147, 'max_depth': 26, 'min_samples_leaf': 6}. Best is trial 0 with value: 0.8624024960998439.\u001b[0m\n",
      "\u001b[32m[I 2023-04-27 14:44:05,576]\u001b[0m Trial 1 finished with value: 0.8503986243551666 and parameters: {'n_estimators': 122, 'max_depth': 27, 'min_samples_leaf': 9}. Best is trial 0 with value: 0.8624024960998439.\u001b[0m\n",
      "\u001b[32m[I 2023-04-27 14:44:06,649]\u001b[0m Trial 2 finished with value: 0.8446052217678515 and parameters: {'n_estimators': 151, 'max_depth': 10, 'min_samples_leaf': 8}. Best is trial 0 with value: 0.8624024960998439.\u001b[0m\n",
      "\u001b[32m[I 2023-04-27 14:44:07,517]\u001b[0m Trial 3 finished with value: 0.8441435768261965 and parameters: {'n_estimators': 113, 'max_depth': 26, 'min_samples_leaf': 10}. Best is trial 0 with value: 0.8624024960998439.\u001b[0m\n",
      "\u001b[32m[I 2023-04-27 14:44:09,174]\u001b[0m Trial 4 finished with value: 0.8880900281337918 and parameters: {'n_estimators': 186, 'max_depth': 17, 'min_samples_leaf': 3}. Best is trial 4 with value: 0.8880900281337918.\u001b[0m\n",
      "\u001b[32m[I 2023-04-27 14:44:10,602]\u001b[0m Trial 5 finished with value: 0.8668537574056752 and parameters: {'n_estimators': 177, 'max_depth': 24, 'min_samples_leaf': 5}. Best is trial 4 with value: 0.8880900281337918.\u001b[0m\n",
      "\u001b[32m[I 2023-04-27 14:44:11,989]\u001b[0m Trial 6 finished with value: 0.8806764797995615 and parameters: {'n_estimators': 148, 'max_depth': 24, 'min_samples_leaf': 4}. Best is trial 4 with value: 0.8880900281337918.\u001b[0m\n",
      "\u001b[32m[I 2023-04-27 14:44:13,336]\u001b[0m Trial 7 finished with value: 0.8564310183743382 and parameters: {'n_estimators': 154, 'max_depth': 16, 'min_samples_leaf': 7}. Best is trial 4 with value: 0.8880900281337918.\u001b[0m\n",
      "\u001b[32m[I 2023-04-27 14:44:14,779]\u001b[0m Trial 8 finished with value: 0.8463349552660493 and parameters: {'n_estimators': 169, 'max_depth': 22, 'min_samples_leaf': 10}. Best is trial 4 with value: 0.8880900281337918.\u001b[0m\n",
      "\u001b[32m[I 2023-04-27 14:44:16,122]\u001b[0m Trial 9 finished with value: 0.902090209020902 and parameters: {'n_estimators': 132, 'max_depth': 16, 'min_samples_leaf': 2}. Best is trial 9 with value: 0.902090209020902.\u001b[0m\n",
      "\u001b[32m[I 2023-04-27 14:44:16,970]\u001b[0m Trial 10 finished with value: 0.8590773106597387 and parameters: {'n_estimators': 103, 'max_depth': 10, 'min_samples_leaf': 2}. Best is trial 9 with value: 0.902090209020902.\u001b[0m\n",
      "\u001b[32m[I 2023-04-27 14:44:19,144]\u001b[0m Trial 11 finished with value: 0.9092051523719762 and parameters: {'n_estimators': 198, 'max_depth': 17, 'min_samples_leaf': 2}. Best is trial 11 with value: 0.9092051523719762.\u001b[0m\n",
      "\u001b[32m[I 2023-04-27 14:44:21,480]\u001b[0m Trial 12 finished with value: 0.9041784480050268 and parameters: {'n_estimators': 196, 'max_depth': 16, 'min_samples_leaf': 2}. Best is trial 11 with value: 0.9092051523719762.\u001b[0m\n",
      "\u001b[32m[I 2023-04-27 14:44:23,287]\u001b[0m Trial 13 finished with value: 0.8773082942097027 and parameters: {'n_estimators': 200, 'max_depth': 19, 'min_samples_leaf': 4}. Best is trial 11 with value: 0.9092051523719762.\u001b[0m\n",
      "\u001b[32m[I 2023-04-27 14:44:25,124]\u001b[0m Trial 14 finished with value: 0.8835240633328107 and parameters: {'n_estimators': 196, 'max_depth': 13, 'min_samples_leaf': 2}. Best is trial 11 with value: 0.9092051523719762.\u001b[0m\n",
      "\u001b[32m[I 2023-04-27 14:44:26,949]\u001b[0m Trial 15 finished with value: 0.8796122576610381 and parameters: {'n_estimators': 169, 'max_depth': 30, 'min_samples_leaf': 4}. Best is trial 11 with value: 0.9092051523719762.\u001b[0m\n",
      "\u001b[32m[I 2023-04-27 14:44:28,611]\u001b[0m Trial 16 finished with value: 0.8709224285937256 and parameters: {'n_estimators': 186, 'max_depth': 13, 'min_samples_leaf': 3}. Best is trial 11 with value: 0.9092051523719762.\u001b[0m\n",
      "\u001b[32m[I 2023-04-27 14:44:30,490]\u001b[0m Trial 17 finished with value: 0.8611588317975949 and parameters: {'n_estimators': 188, 'max_depth': 19, 'min_samples_leaf': 6}. Best is trial 11 with value: 0.9092051523719762.\u001b[0m\n",
      "\u001b[32m[I 2023-04-27 14:44:32,201]\u001b[0m Trial 18 finished with value: 0.8722673329169269 and parameters: {'n_estimators': 169, 'max_depth': 13, 'min_samples_leaf': 3}. Best is trial 11 with value: 0.9092051523719762.\u001b[0m\n",
      "\u001b[32m[I 2023-04-27 14:44:34,038]\u001b[0m Trial 19 finished with value: 0.8665419395073276 and parameters: {'n_estimators': 196, 'max_depth': 20, 'min_samples_leaf': 5}. Best is trial 11 with value: 0.9092051523719762.\u001b[0m\n"
     ]
    },
    {
     "name": "stdout",
     "output_type": "stream",
     "text": [
      "CPU times: total: 30.2 s\n",
      "Wall time: 30.8 s\n"
     ]
    }
   ],
   "source": [
    "%%time\n",
    "# cоздаем объект исследования\n",
    "# можем напрямую указать, что нам необходимо максимизировать метрику direction=\"maximize\"\n",
    "study = optuna.create_study(study_name=\"RandomForestClassifier\", direction=\"maximize\")\n",
    "# ищем лучшую комбинацию гиперпараметров n_trials раз\n",
    "study.optimize(optuna_rf, n_trials=20)"
   ]
  },
  {
   "cell_type": "code",
   "execution_count": 286,
   "id": "1169599c",
   "metadata": {},
   "outputs": [
    {
     "name": "stdout",
     "output_type": "stream",
     "text": [
      "Наилучшие значения гиперпараметров {'n_estimators': 198, 'max_depth': 17, 'min_samples_leaf': 2}\n",
      "f1_score на обучающем наборе: 0.91\n"
     ]
    }
   ],
   "source": [
    "# выводим результаты на обучающей выборке\n",
    "print(\"Наилучшие значения гиперпараметров {}\".format(study.best_params))\n",
    "print(\"f1_score на обучающем наборе: {:.2f}\".format(study.best_value))"
   ]
  },
  {
   "cell_type": "code",
   "execution_count": 287,
   "id": "49a10faf",
   "metadata": {},
   "outputs": [
    {
     "name": "stdout",
     "output_type": "stream",
     "text": [
      "f1_score на тестовом наборе: 0.82\n"
     ]
    }
   ],
   "source": [
    "# рассчитаем точность для тестовой выборки\n",
    "model = ensemble.RandomForestClassifier(**study.best_params,random_state=42, )\n",
    "model.fit(X_train_scaled, y_train)\n",
    "\n",
    "y_test_pred = model.predict(X_test_scaled)\n",
    "print('f1_score на тестовом наборе: {:.2f}'.format(metrics.f1_score(y_test, y_test_pred)))"
   ]
  },
  {
   "cell_type": "code",
   "execution_count": 288,
   "id": "9f7d36c6",
   "metadata": {},
   "outputs": [
    {
     "name": "stdout",
     "output_type": "stream",
     "text": [
      "0.8275862068965517\n"
     ]
    }
   ],
   "source": [
    "print(metrics.accuracy_score(y_test, y_test_pred))"
   ]
  }
 ],
 "metadata": {
  "kernelspec": {
   "display_name": "Python 3 (ipykernel)",
   "language": "python",
   "name": "python3"
  },
  "language_info": {
   "codemirror_mode": {
    "name": "ipython",
    "version": 3
   },
   "file_extension": ".py",
   "mimetype": "text/x-python",
   "name": "python",
   "nbconvert_exporter": "python",
   "pygments_lexer": "ipython3",
   "version": "3.9.10"
  }
 },
 "nbformat": 4,
 "nbformat_minor": 5
}
