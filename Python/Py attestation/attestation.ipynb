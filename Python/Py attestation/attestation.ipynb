{
 "cells": [
  {
   "cell_type": "code",
   "execution_count": 54,
   "metadata": {},
   "outputs": [],
   "source": [
    "products = {'a':134, 'b':534, 'c':300}\n",
    "stocks = {'a':'21%', 'b':'54%', 'd':'70%'}"
   ]
  },
  {
   "cell_type": "code",
   "execution_count": 55,
   "metadata": {},
   "outputs": [],
   "source": [
    "def apply_discounts(products, stocks):\n",
    "    for stock in stocks:\n",
    "        stocks[stock] = int(stocks[stock].replace('%', ''))\n",
    "        print(stocks)\n",
    "    stocks_list = stocks.keys()\n",
    "    for product in products:\n",
    "        if product in stocks_list:\n",
    "            products[product] = round((products[product]*(100-stocks[product])/100), 2)\n",
    "    return products"
   ]
  },
  {
   "cell_type": "code",
   "execution_count": 56,
   "metadata": {},
   "outputs": [
    {
     "name": "stdout",
     "output_type": "stream",
     "text": [
      "{'a': 21, 'b': '54%', 'd': '70%'}\n",
      "{'a': 21, 'b': 54, 'd': '70%'}\n",
      "{'a': 21, 'b': 54, 'd': 70}\n",
      "{'a': 105.86, 'b': 245.64, 'c': 300}\n"
     ]
    }
   ],
   "source": [
    "a = apply_discounts(products, stocks)\n",
    "print(a)"
   ]
  },
  {
   "cell_type": "markdown",
   "metadata": {},
   "source": [
    "import pandas as pd\n",
    "\n",
    "bronze_data = pd.read_csv('bronze_top.csv')\n",
    "silver_data = pd.read_csv('silver_top.csv')\n",
    "\n",
    "merged = bronze_data.merge(silver_data, how='inner', on='Country', suffixes=['_bronze', '_silver'])"
   ]
  },
  {
   "cell_type": "code",
   "execution_count": null,
   "metadata": {},
   "outputs": [],
   "source": []
  }
 ],
 "metadata": {
  "kernelspec": {
   "display_name": "Python 3.9.10 64-bit",
   "language": "python",
   "name": "python3"
  },
  "language_info": {
   "codemirror_mode": {
    "name": "ipython",
    "version": 3
   },
   "file_extension": ".py",
   "mimetype": "text/x-python",
   "name": "python",
   "nbconvert_exporter": "python",
   "pygments_lexer": "ipython3",
   "version": "3.9.10"
  },
  "orig_nbformat": 4,
  "vscode": {
   "interpreter": {
    "hash": "4f240839814783c86679b97dc90219b8a3d3e14ea65e88be68ce87d6dbf01a50"
   }
  }
 },
 "nbformat": 4,
 "nbformat_minor": 2
}
