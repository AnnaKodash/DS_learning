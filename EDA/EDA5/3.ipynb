{
 "cells": [
  {
   "cell_type": "code",
   "execution_count": 1,
   "metadata": {},
   "outputs": [],
   "source": [
    "import pandas as pd\n",
    "import seaborn as sns\n",
    "import matplotlib.pyplot as plt"
   ]
  },
  {
   "cell_type": "code",
   "execution_count": 2,
   "metadata": {},
   "outputs": [
    {
     "data": {
      "text/html": [
       "<div>\n",
       "<style scoped>\n",
       "    .dataframe tbody tr th:only-of-type {\n",
       "        vertical-align: middle;\n",
       "    }\n",
       "\n",
       "    .dataframe tbody tr th {\n",
       "        vertical-align: top;\n",
       "    }\n",
       "\n",
       "    .dataframe thead th {\n",
       "        text-align: right;\n",
       "    }\n",
       "</style>\n",
       "<table border=\"1\" class=\"dataframe\">\n",
       "  <thead>\n",
       "    <tr style=\"text-align: right;\">\n",
       "      <th></th>\n",
       "      <th>time(A)</th>\n",
       "      <th>time(B)</th>\n",
       "    </tr>\n",
       "  </thead>\n",
       "  <tbody>\n",
       "    <tr>\n",
       "      <th>0</th>\n",
       "      <td>435.0</td>\n",
       "      <td>549.2</td>\n",
       "    </tr>\n",
       "    <tr>\n",
       "      <th>1</th>\n",
       "      <td>454.5</td>\n",
       "      <td>630.2</td>\n",
       "    </tr>\n",
       "    <tr>\n",
       "      <th>2</th>\n",
       "      <td>447.0</td>\n",
       "      <td>437.2</td>\n",
       "    </tr>\n",
       "    <tr>\n",
       "      <th>3</th>\n",
       "      <td>480.0</td>\n",
       "      <td>637.2</td>\n",
       "    </tr>\n",
       "    <tr>\n",
       "      <th>4</th>\n",
       "      <td>561.0</td>\n",
       "      <td>712.4</td>\n",
       "    </tr>\n",
       "  </tbody>\n",
       "</table>\n",
       "</div>"
      ],
      "text/plain": [
       "   time(A)  time(B)\n",
       "0    435.0    549.2\n",
       "1    454.5    630.2\n",
       "2    447.0    437.2\n",
       "3    480.0    637.2\n",
       "4    561.0    712.4"
      ]
     },
     "execution_count": 2,
     "metadata": {},
     "output_type": "execute_result"
    }
   ],
   "source": [
    "time_data = pd.read_excel('data/time_data.xlsx')\n",
    "time_data.head()"
   ]
  },
  {
   "cell_type": "code",
   "execution_count": 3,
   "metadata": {},
   "outputs": [
    {
     "data": {
      "text/plain": [
       "Text(0.5, 1.0, 'Распределеие времени в группе В')"
      ]
     },
     "execution_count": 3,
     "metadata": {},
     "output_type": "execute_result"
    },
    {
     "data": {
      "image/png": "[encoded data removed]",
      "text/plain": [
       "<Figure size 1200x400 with 2 Axes>"
      ]
     },
     "metadata": {},
     "output_type": "display_data"
    }
   ],
   "source": [
    "fig, axes = plt.subplots(1, 2, figsize=(12, 4))\n",
    "sns.histplot(data=time_data, x='time(A)', ax = axes[0])\n",
    "sns.histplot(data=time_data, x='time(B)', ax = axes[1])\n",
    "axes[0].set_title('Распределение времени в группе А')\n",
    "axes[1].set_title('Распределеие времени в группе В')\n"
   ]
  },
  {
   "cell_type": "code",
   "execution_count": 4,
   "metadata": {},
   "outputs": [
    {
     "name": "stdout",
     "output_type": "stream",
     "text": [
      "p-value группы А  0.43\n",
      "p-value группы В  0.12\n",
      "Принимаем нулевую гипотезу: Распределения нормальные\n"
     ]
    }
   ],
   "source": [
    "from scipy.stats import shapiro\n",
    "H0 = 'Распределения нормальные'\n",
    "H1 = 'Распределение в одной или обеих группах отлично от нормального'\n",
    "alpha = 0.05\n",
    "shapiro_a = shapiro(time_data['time(A)'])\n",
    "shapiro_b = shapiro(time_data['time(B)'])\n",
    "print('p-value группы А ', round(shapiro_a.pvalue, 2))\n",
    "print('p-value группы В ', round(shapiro_b.pvalue, 2))\n",
    "if shapiro_a.pvalue<alpha or shapiro_b.pvalue<alpha:\n",
    "    print('Отвергаем нулевую гипотезу. {}'.format(H1))\n",
    "else:\n",
    "    print('Принимаем нулевую гипотезу: {}'.format(H0))"
   ]
  },
  {
   "cell_type": "code",
   "execution_count": 5,
   "metadata": {},
   "outputs": [
    {
     "name": "stdout",
     "output_type": "stream",
     "text": [
      "p-value: 0.0\n",
      "Отвергаем нулевую гипотезу. Время в группе А меньше, чем в группе В\n"
     ]
    }
   ],
   "source": [
    "from scipy.stats import ttest_ind\n",
    "H0 = 'Время в группах одинаковое'\n",
    "H1 = 'Время в группе А меньше, чем в группе В'\n",
    "alpha = 0.05\n",
    "results = ttest_ind(a=time_data['time(A)'], b=time_data['time(B)'], alternative='less')\n",
    "print('p-value:', round(results.pvalue, 2))\n",
    "if results.pvalue<alpha:\n",
    "    print('Отвергаем нулевую гипотезу. {}'.format(H1))\n",
    "else:\n",
    "    print('Принимаем нулевую гипотезу: {}'.format(H0))"
   ]
  },
  {
   "cell_type": "code",
   "execution_count": 8,
   "metadata": {},
   "outputs": [
    {
     "name": "stdout",
     "output_type": "stream",
     "text": [
      "Доверительный интервал: (11.86, 12.84), z_crit: 1.6448536269514729, low: 11.856543911914558, up: 12.843456088085441\n"
     ]
    }
   ],
   "source": [
    "n = 64\n",
    "x_mean = 12.35\n",
    "sigma = 2.4\n",
    "gamma = 0.9\n",
    "alpha = 1-gamma\n",
    "\n",
    "from scipy.stats import norm\n",
    "z_crit = -norm.ppf(alpha/2)\n",
    "\n",
    "eps = z_crit*sigma/(n**0.5)\n",
    "lower_bound = x_mean-eps\n",
    "upper_bound = x_mean+eps\n",
    "conf_interval = (round(lower_bound, 2), round(upper_bound, 2))\n",
    "print('Доверительный интервал: {}, z_crit: {}, low: {}, up: {}'.format(conf_interval, z_crit, lower_bound, upper_bound))"
   ]
  },
  {
   "cell_type": "code",
   "execution_count": 12,
   "metadata": {},
   "outputs": [
    {
     "name": "stdout",
     "output_type": "stream",
     "text": [
      "Доверительный интервал: (3146, 3934), low 3146, up 3934\n"
     ]
    }
   ],
   "source": [
    "n = 25\n",
    "k= n-1\n",
    "x_mean = 3540\n",
    "x_std = 1150\n",
    "gamma = 0.9\n",
    "alpha = 1- gamma\n",
    "\n",
    "from scipy.stats import t\n",
    "t_crit = -t.ppf(alpha/2, k)\n",
    "\n",
    "eps = t_crit*x_std/(n**0.5)\n",
    "lower_bound = round(x_mean - eps)\n",
    "upper_bound = round(x_mean + eps)\n",
    "conf_interval = (round(lower_bound), round(upper_bound))\n",
    "print('Доверительный интервал: {}, low {}, up {}'.format(conf_interval, lower_bound, upper_bound))"
   ]
  },
  {
   "cell_type": "code",
   "execution_count": null,
   "metadata": {},
   "outputs": [],
   "source": []
  }
 ],
 "metadata": {
  "kernelspec": {
   "display_name": "Python 3",
   "language": "python",
   "name": "python3"
  },
  "language_info": {
   "codemirror_mode": {
    "name": "ipython",
    "version": 3
   },
   "file_extension": ".py",
   "mimetype": "text/x-python",
   "name": "python",
   "nbconvert_exporter": "python",
   "pygments_lexer": "ipython3",
   "version": "3.9.10"
  },
  "orig_nbformat": 4,
  "vscode": {
   "interpreter": {
    "hash": "4f240839814783c86679b97dc90219b8a3d3e14ea65e88be68ce87d6dbf01a50"
   }
  }
 },
 "nbformat": 4,
 "nbformat_minor": 2
}
