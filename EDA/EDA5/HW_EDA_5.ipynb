{
 "cells": [
  {
   "cell_type": "markdown",
   "id": "c8a6af25-08d3-487a-bd90-001772ac9161",
   "metadata": {},
   "source": [
    "## <center> **Анализ результатов A/B-тестирования**"
   ]
  },
  {
   "cell_type": "markdown",
   "id": "d7d45571-6545-4904-a86b-9b3b6b8163d3",
   "metadata": {},
   "source": [
    "Компания планирует запустить новую акцию, чтобы продать как можно больше туров. Команда разработала два варианта посадочной страницы официального сайта компании и провела A/B-тестирование. Собранные в результате проведения эксперимента данные вы можете найти здесь.\n",
    "\n",
    "Вам предстоит решить настоящую бизнес-задачу: проанализировать эффективность обоих вариантов посадочной страницы сразу по двум критериям: конверсии покупки и среднему чеку. На основе проведенного анализа вам будет необходимо сделать выводы и принять решение: какой из вариантов дизайна более предпочтительный.\n",
    "\n",
    "Итак, наша фирма предлагает следующие варианты туров и их соответствующие стоимости:\n",
    "* Таиланд — 100000 рублей;\n",
    "* Турция — 60000 рублей;\n",
    "* Мальдивы — 200000 рублей;\n",
    "* Санкт-Петербург — 10000 рублей;\n",
    "* Камчатка — 150000 рублей."
   ]
  },
  {
   "cell_type": "code",
   "execution_count": 1,
   "id": "a974b482-e192-4014-8520-8a5c0c946da6",
   "metadata": {},
   "outputs": [],
   "source": [
    "import pandas as pd\n",
    "import matplotlib.pyplot as plt\n",
    "import seaborn as sns\n",
    "import plotly.express as px\n",
    "from scipy.stats import norm\n",
    "from scipy.stats import t\n",
    "from scipy.stats import ttest_ind, shapiro, f_oneway, mannwhitneyu\n",
    "from statsmodels.stats.proportion import proportions_ztest"
   ]
  },
  {
   "cell_type": "markdown",
   "id": "55c84550-4162-4325-acc2-7d3c0aafe6f0",
   "metadata": {},
   "source": [
    "Прочитаем наши данные и посмотрим на столбцы таблицы:"
   ]
  },
  {
   "cell_type": "code",
   "execution_count": 2,
   "id": "b0d18245-b9da-44bd-8aea-d272ea74b63a",
   "metadata": {},
   "outputs": [
    {
     "data": {
      "text/html": [
       "<div>\n",
       "<style scoped>\n",
       "    .dataframe tbody tr th:only-of-type {\n",
       "        vertical-align: middle;\n",
       "    }\n",
       "\n",
       "    .dataframe tbody tr th {\n",
       "        vertical-align: top;\n",
       "    }\n",
       "\n",
       "    .dataframe thead th {\n",
       "        text-align: right;\n",
       "    }\n",
       "</style>\n",
       "<table border=\"1\" class=\"dataframe\">\n",
       "  <thead>\n",
       "    <tr style=\"text-align: right;\">\n",
       "      <th></th>\n",
       "      <th>user_id</th>\n",
       "      <th>date</th>\n",
       "      <th>group</th>\n",
       "      <th>purchase</th>\n",
       "      <th>price</th>\n",
       "    </tr>\n",
       "  </thead>\n",
       "  <tbody>\n",
       "    <tr>\n",
       "      <th>0</th>\n",
       "      <td>851104</td>\n",
       "      <td>2021-01-21</td>\n",
       "      <td>A</td>\n",
       "      <td>0</td>\n",
       "      <td>0</td>\n",
       "    </tr>\n",
       "    <tr>\n",
       "      <th>1</th>\n",
       "      <td>804228</td>\n",
       "      <td>2021-01-12</td>\n",
       "      <td>A</td>\n",
       "      <td>0</td>\n",
       "      <td>0</td>\n",
       "    </tr>\n",
       "    <tr>\n",
       "      <th>2</th>\n",
       "      <td>661590</td>\n",
       "      <td>2021-01-11</td>\n",
       "      <td>B</td>\n",
       "      <td>0</td>\n",
       "      <td>0</td>\n",
       "    </tr>\n",
       "    <tr>\n",
       "      <th>3</th>\n",
       "      <td>853541</td>\n",
       "      <td>2021-01-08</td>\n",
       "      <td>B</td>\n",
       "      <td>0</td>\n",
       "      <td>0</td>\n",
       "    </tr>\n",
       "    <tr>\n",
       "      <th>4</th>\n",
       "      <td>864975</td>\n",
       "      <td>2021-01-21</td>\n",
       "      <td>A</td>\n",
       "      <td>1</td>\n",
       "      <td>150000</td>\n",
       "    </tr>\n",
       "  </tbody>\n",
       "</table>\n",
       "</div>"
      ],
      "text/plain": [
       "   user_id        date group  purchase   price\n",
       "0   851104  2021-01-21     A         0       0\n",
       "1   804228  2021-01-12     A         0       0\n",
       "2   661590  2021-01-11     B         0       0\n",
       "3   853541  2021-01-08     B         0       0\n",
       "4   864975  2021-01-21     A         1  150000"
      ]
     },
     "execution_count": 2,
     "metadata": {},
     "output_type": "execute_result"
    }
   ],
   "source": [
    "data = pd.read_csv('data/ab_data_tourist.csv')\n",
    "data.head()"
   ]
  },
  {
   "cell_type": "markdown",
   "id": "2fc48225-26ac-49c4-b99d-8b2a03dd74a1",
   "metadata": {
    "tags": []
   },
   "source": [
    "## **Задание 7.1.**\n",
    "\n",
    "Начнем с исследования структуры наших данных. С помощью метода info() выведите информацию о типах данных и количестве непустых значений. Какой тип данных имеет столбец date?"
   ]
  },
  {
   "cell_type": "code",
   "execution_count": 3,
   "id": "23496521-4878-46e2-ab02-1a98be14884a",
   "metadata": {},
   "outputs": [
    {
     "name": "stdout",
     "output_type": "stream",
     "text": [
      "<class 'pandas.core.frame.DataFrame'>\n",
      "RangeIndex: 294478 entries, 0 to 294477\n",
      "Data columns (total 5 columns):\n",
      " #   Column    Non-Null Count   Dtype \n",
      "---  ------    --------------   ----- \n",
      " 0   user_id   294478 non-null  int64 \n",
      " 1   date      294478 non-null  object\n",
      " 2   group     294478 non-null  object\n",
      " 3   purchase  294478 non-null  int64 \n",
      " 4   price     294478 non-null  int64 \n",
      "dtypes: int64(3), object(2)\n",
      "memory usage: 11.2+ MB\n"
     ]
    }
   ],
   "source": [
    "# ваш код здесь\n",
    "data.info()"
   ]
  },
  {
   "attachments": {},
   "cell_type": "markdown",
   "id": "ff78502a",
   "metadata": {},
   "source": [
    "Столбец date тип object"
   ]
  },
  {
   "cell_type": "markdown",
   "id": "946d017d-b4fe-4a17-b91d-0ce369d1ab2e",
   "metadata": {
    "tags": []
   },
   "source": [
    "## **Задание 7.2.**\n",
    "\n",
    "Приведите столбец date к типу данных datetime. Убедитесь в равной длительности проведения тестирования для каждой из группы. Для этого сгруппируйте данные по признаку группы и определите первую и последнюю дату наблюдения для каждой из групп. \n",
    "\n",
    "В какой промежуток времени проводился A/B-тест?\n"
   ]
  },
  {
   "cell_type": "code",
   "execution_count": 4,
   "id": "604c619d-6338-45c8-8248-ac098a2366bb",
   "metadata": {},
   "outputs": [
    {
     "data": {
      "text/html": [
       "<div>\n",
       "<style scoped>\n",
       "    .dataframe tbody tr th:only-of-type {\n",
       "        vertical-align: middle;\n",
       "    }\n",
       "\n",
       "    .dataframe tbody tr th {\n",
       "        vertical-align: top;\n",
       "    }\n",
       "\n",
       "    .dataframe thead th {\n",
       "        text-align: right;\n",
       "    }\n",
       "</style>\n",
       "<table border=\"1\" class=\"dataframe\">\n",
       "  <thead>\n",
       "    <tr style=\"text-align: right;\">\n",
       "      <th></th>\n",
       "      <th>min</th>\n",
       "      <th>max</th>\n",
       "    </tr>\n",
       "    <tr>\n",
       "      <th>group</th>\n",
       "      <th></th>\n",
       "      <th></th>\n",
       "    </tr>\n",
       "  </thead>\n",
       "  <tbody>\n",
       "    <tr>\n",
       "      <th>A</th>\n",
       "      <td>2021-01-02</td>\n",
       "      <td>2021-01-24</td>\n",
       "    </tr>\n",
       "    <tr>\n",
       "      <th>B</th>\n",
       "      <td>2021-01-02</td>\n",
       "      <td>2021-01-24</td>\n",
       "    </tr>\n",
       "  </tbody>\n",
       "</table>\n",
       "</div>"
      ],
      "text/plain": [
       "             min        max\n",
       "group                      \n",
       "A     2021-01-02 2021-01-24\n",
       "B     2021-01-02 2021-01-24"
      ]
     },
     "execution_count": 4,
     "metadata": {},
     "output_type": "execute_result"
    }
   ],
   "source": [
    "# ваш код здесь\n",
    "data['date'] = pd.to_datetime(data['date'])\n",
    "\n",
    "data.groupby(['group'])['date'].agg(['min', 'max'])"
   ]
  },
  {
   "attachments": {},
   "cell_type": "markdown",
   "id": "9b8fc819",
   "metadata": {},
   "source": [
    "A/B тест проводился со 2 по 24 января 2021 года"
   ]
  },
  {
   "cell_type": "markdown",
   "id": "e04eb341-52ae-48b3-9dc2-0578ca91641a",
   "metadata": {},
   "source": [
    "## **Задание 7.3.**\n",
    "\n",
    "* Чему равно количество посещений сайта в группах А и B?\n",
    "\n",
    "* Чему равно суммарное количество покупок в группах А и B?\n",
    "\n",
    "* Чему равна сумма всех покупок в группах А и B? Ответ приведите в миллионах рублей. Например, 185.52 млн. руб."
   ]
  },
  {
   "cell_type": "code",
   "execution_count": 5,
   "id": "02bf0148-488e-4f34-95bf-37794b2fa98b",
   "metadata": {},
   "outputs": [
    {
     "data": {
      "text/html": [
       "<div>\n",
       "<style scoped>\n",
       "    .dataframe tbody tr th:only-of-type {\n",
       "        vertical-align: middle;\n",
       "    }\n",
       "\n",
       "    .dataframe tbody tr th {\n",
       "        vertical-align: top;\n",
       "    }\n",
       "\n",
       "    .dataframe thead th {\n",
       "        text-align: right;\n",
       "    }\n",
       "</style>\n",
       "<table border=\"1\" class=\"dataframe\">\n",
       "  <thead>\n",
       "    <tr style=\"text-align: right;\">\n",
       "      <th></th>\n",
       "      <th>user_id</th>\n",
       "      <th>purchase</th>\n",
       "      <th>price</th>\n",
       "    </tr>\n",
       "    <tr>\n",
       "      <th>group</th>\n",
       "      <th></th>\n",
       "      <th></th>\n",
       "      <th></th>\n",
       "    </tr>\n",
       "  </thead>\n",
       "  <tbody>\n",
       "    <tr>\n",
       "      <th>A</th>\n",
       "      <td>147202</td>\n",
       "      <td>17723</td>\n",
       "      <td>1436260000</td>\n",
       "    </tr>\n",
       "    <tr>\n",
       "      <th>B</th>\n",
       "      <td>147276</td>\n",
       "      <td>17514</td>\n",
       "      <td>1554100000</td>\n",
       "    </tr>\n",
       "  </tbody>\n",
       "</table>\n",
       "</div>"
      ],
      "text/plain": [
       "       user_id  purchase       price\n",
       "group                               \n",
       "A       147202     17723  1436260000\n",
       "B       147276     17514  1554100000"
      ]
     },
     "execution_count": 5,
     "metadata": {},
     "output_type": "execute_result"
    }
   ],
   "source": [
    "# ваш код здесь\n",
    "data.groupby(['group']).agg({'user_id':'count', 'purchase':'sum', 'price':'sum'})"
   ]
  },
  {
   "cell_type": "markdown",
   "id": "2434db1b-17e6-4977-8e54-1df875c6f221",
   "metadata": {
    "tags": []
   },
   "source": [
    "## **Задание 7.4.**\n",
    "\n",
    "Проверьте, есть ли пользователи, которые в процессе A/B-теста попали в обе тестовые группы? Если да, то сколько таких уникальных пользователей, если нет - введите в поле для ответа 0?\n",
    "\n",
    "**Подсказка:**\n",
    "\n",
    "*Создайте множество пользователей группы А и множество пользователей группы B. Пересеките два этих множества (операция intersection) и вычислите количество элементов в полученном множестве.*\n"
   ]
  },
  {
   "cell_type": "code",
   "execution_count": 6,
   "id": "57a2d711-057d-4f8b-9f56-df0f772d41c8",
   "metadata": {},
   "outputs": [
    {
     "data": {
      "text/plain": [
       "1895"
      ]
     },
     "execution_count": 6,
     "metadata": {},
     "output_type": "execute_result"
    }
   ],
   "source": [
    "# ваш код здесь\n",
    "users_a = set()\n",
    "for i in data[data['group']=='A']['user_id']:\n",
    "    users_a.add(i)\n",
    "users_b = set()\n",
    "for i in data[data['group']=='B']['user_id']:\n",
    "    users_b.add(i)\n",
    "user_intersection = users_a.intersection(users_b)\n",
    "len(user_intersection)"
   ]
  },
  {
   "cell_type": "markdown",
   "id": "118b1904-7d7a-4935-825e-535da45c611b",
   "metadata": {
    "tags": []
   },
   "source": [
    "## **Исключите пользователей, оказавшихся в обеих группах**\n",
    "\n",
    "Так как мы не можем определить, какая из версий сайта повлияла на принятие решения, исключим этих пользователей. Далее мы будем работать только с очищенными от пересечений данными.\n",
    "\n",
    "Возможный вариант исключения пользователей:"
   ]
  },
  {
   "cell_type": "code",
   "execution_count": 7,
   "id": "f618b34b-35a3-4bf1-8d6d-38b3401930b7",
   "metadata": {},
   "outputs": [],
   "source": [
    "updated_data = data[data['user_id'].apply(lambda x: x not in user_intersection)]"
   ]
  },
  {
   "cell_type": "markdown",
   "id": "2bce6c9a-6580-4250-b280-204d40d20da2",
   "metadata": {},
   "source": [
    "Где user_intersection - множество пересечений пользователей групп А и B."
   ]
  },
  {
   "attachments": {
    "95f235d2-6323-4799-bf69-697fc57f727b.png": {
     "image/png": "[encoded data removed]"
    }
   },
   "cell_type": "markdown",
   "id": "2ddf6b2c-7987-41f3-82b1-8992630ae97b",
   "metadata": {
    "tags": []
   },
   "source": [
    "## **Задание 7.5.**\n",
    "\n",
    "Для первичного анализа результатов A/B-тестирования нам понадобится таблица следующего вида:\n",
    "\n",
    "![image.png](attachment:95f235d2-6323-4799-bf69-697fc57f727b.png)\n",
    " \n",
    " \n",
    "Для того, чтобы получить такую таблицу, сгруппируйте данные по признаку группы. В каждой группе рассчитайте следующие показатели:\n",
    "* количество посещений (количество пользователей)\n",
    "* количество совершенных покупок\n",
    "* сумма всех покупок в группе\n",
    "\n",
    "В полученной сгруппированной таблице переименуйте столбцы на **count_visits, count_purchases и sum_price**.\n",
    "\n",
    "**Подсказка:**\n",
    "\n",
    "*Для переименования столбцов можно использовать метод rename() с параметром columns, в который передается словарь. Ключи этого словаря - старые имена столбцов, а значения - новые.*\n",
    "\n",
    "Чему на этот раз равно количество посещений сайта в группах А и B?\n"
   ]
  },
  {
   "cell_type": "code",
   "execution_count": 8,
   "id": "5c0c018e-a250-48e9-b72a-e3c7be586ebd",
   "metadata": {},
   "outputs": [
    {
     "data": {
      "text/html": [
       "<div>\n",
       "<style scoped>\n",
       "    .dataframe tbody tr th:only-of-type {\n",
       "        vertical-align: middle;\n",
       "    }\n",
       "\n",
       "    .dataframe tbody tr th {\n",
       "        vertical-align: top;\n",
       "    }\n",
       "\n",
       "    .dataframe thead th {\n",
       "        text-align: right;\n",
       "    }\n",
       "</style>\n",
       "<table border=\"1\" class=\"dataframe\">\n",
       "  <thead>\n",
       "    <tr style=\"text-align: right;\">\n",
       "      <th></th>\n",
       "      <th>count_visits</th>\n",
       "      <th>count_purchase</th>\n",
       "      <th>sum_price</th>\n",
       "    </tr>\n",
       "    <tr>\n",
       "      <th>group</th>\n",
       "      <th></th>\n",
       "      <th></th>\n",
       "      <th></th>\n",
       "    </tr>\n",
       "  </thead>\n",
       "  <tbody>\n",
       "    <tr>\n",
       "      <th>A</th>\n",
       "      <td>145307</td>\n",
       "      <td>17487</td>\n",
       "      <td>1417780000</td>\n",
       "    </tr>\n",
       "    <tr>\n",
       "      <th>B</th>\n",
       "      <td>145381</td>\n",
       "      <td>17290</td>\n",
       "      <td>1533010000</td>\n",
       "    </tr>\n",
       "  </tbody>\n",
       "</table>\n",
       "</div>"
      ],
      "text/plain": [
       "       count_visits  count_purchase   sum_price\n",
       "group                                          \n",
       "A            145307           17487  1417780000\n",
       "B            145381           17290  1533010000"
      ]
     },
     "execution_count": 8,
     "metadata": {},
     "output_type": "execute_result"
    }
   ],
   "source": [
    "# ваш код здесь\n",
    "new_data = updated_data.groupby(['group']).agg({'user_id':'count', 'purchase':'sum', 'price':'sum'})\\\n",
    "    .rename(columns={'user_id':'count_visits', 'purchase':'count_purchase', 'price':'sum_price'})\n",
    "new_data"
   ]
  },
  {
   "cell_type": "markdown",
   "id": "b71e1390-9846-4a8e-b357-f82b847d1952",
   "metadata": {},
   "source": [
    "Приведите промежуточные выводы по построенной таблице. Сопоставимо ли количество посещений обоих вариантов посадочной странице, можно ли говорить о сбалансированности выборок?"
   ]
  },
  {
   "attachments": {},
   "cell_type": "markdown",
   "id": "4ea1b65b-475e-4bff-9460-fac0acdb9620",
   "metadata": {},
   "source": [
    "Выводы: по построенной таблице можно сказать, что данные вполне сопоставимые и представлены адекватными величинами. Выборка достаточно сбалансированная - различия между показателями в группах настолько малые, что трудно навскидку сделать вывод об эффективности продукта В. Следовательно продолжение исследования оправдано. Таблица очищена от пересечений межу группами и готова к дальнейшему анализу."
   ]
  },
  {
   "cell_type": "markdown",
   "id": "afb2ee0a-31d1-45a5-be42-a2bf168b9448",
   "metadata": {
    "tags": []
   },
   "source": [
    "## **Задание 7.6.**\n",
    "\n",
    "Добавьте в сгруппированную таблицу столбцы conversion - конверсия покупки (отношение количества покупок к количеству посещений сайта в каждой группе, выраженное в процентах) и mean_check - средний чек (отношение суммы покупок к количеству покупок в каждой группе).\n",
    "\n",
    "* Чему равна конверсия в группах? Ответ приведите в процентах и округлите до сотых. Например, 75.12 %\n",
    "* Чему равен средний чек в группах? Ответ приведите в рублях и округлите до целых. Например, 120519 рублей."
   ]
  },
  {
   "cell_type": "code",
   "execution_count": 9,
   "id": "bd9c3b3e-5956-41a8-bae0-43693f6de1f2",
   "metadata": {},
   "outputs": [
    {
     "data": {
      "text/html": [
       "<div>\n",
       "<style scoped>\n",
       "    .dataframe tbody tr th:only-of-type {\n",
       "        vertical-align: middle;\n",
       "    }\n",
       "\n",
       "    .dataframe tbody tr th {\n",
       "        vertical-align: top;\n",
       "    }\n",
       "\n",
       "    .dataframe thead th {\n",
       "        text-align: right;\n",
       "    }\n",
       "</style>\n",
       "<table border=\"1\" class=\"dataframe\">\n",
       "  <thead>\n",
       "    <tr style=\"text-align: right;\">\n",
       "      <th></th>\n",
       "      <th>count_visits</th>\n",
       "      <th>count_purchase</th>\n",
       "      <th>sum_price</th>\n",
       "      <th>conversion</th>\n",
       "      <th>mean_check</th>\n",
       "    </tr>\n",
       "    <tr>\n",
       "      <th>group</th>\n",
       "      <th></th>\n",
       "      <th></th>\n",
       "      <th></th>\n",
       "      <th></th>\n",
       "      <th></th>\n",
       "    </tr>\n",
       "  </thead>\n",
       "  <tbody>\n",
       "    <tr>\n",
       "      <th>A</th>\n",
       "      <td>145307</td>\n",
       "      <td>17487</td>\n",
       "      <td>1417780000</td>\n",
       "      <td>12.03</td>\n",
       "      <td>81076.0</td>\n",
       "    </tr>\n",
       "    <tr>\n",
       "      <th>B</th>\n",
       "      <td>145381</td>\n",
       "      <td>17290</td>\n",
       "      <td>1533010000</td>\n",
       "      <td>11.89</td>\n",
       "      <td>88665.0</td>\n",
       "    </tr>\n",
       "  </tbody>\n",
       "</table>\n",
       "</div>"
      ],
      "text/plain": [
       "       count_visits  count_purchase   sum_price  conversion  mean_check\n",
       "group                                                                  \n",
       "A            145307           17487  1417780000       12.03     81076.0\n",
       "B            145381           17290  1533010000       11.89     88665.0"
      ]
     },
     "execution_count": 9,
     "metadata": {},
     "output_type": "execute_result"
    }
   ],
   "source": [
    "# ваш код здесь\n",
    "new_data['conversion'] = round(new_data['count_purchase']/new_data['count_visits']*100, 2)\n",
    "new_data['mean_check'] = round(new_data['sum_price']/new_data['count_purchase'])\n",
    "new_data"
   ]
  },
  {
   "cell_type": "markdown",
   "id": "1eb6e140-c702-43e0-b301-9914a7f49448",
   "metadata": {},
   "source": [
    "Приведите промежуточные выводы по таблице. По какому(им) показателю(ям) вариант А эффективнее варианта B и наоборот?"
   ]
  },
  {
   "attachments": {},
   "cell_type": "markdown",
   "id": "9e88c883-84f9-44ec-accd-04d5d459b261",
   "metadata": {},
   "source": [
    "Вывод: по данной таблице видно, что показатель конверсии в группе А выше, чем в группе В. В то же время по размеру среднего чека вариант В представляется более эффективным."
   ]
  },
  {
   "cell_type": "markdown",
   "id": "7f9f1ae0-f12f-49b3-8b57-1c299c208c49",
   "metadata": {
    "tags": []
   },
   "source": [
    "## **Задание 7.7.**\n",
    "\n",
    "Теперь давайте сравним варианты по покупательской способности туров. Для этого постройте сводную таблицу, которая покажет зависимость количества продаж от группы и цены тура. "
   ]
  },
  {
   "cell_type": "code",
   "execution_count": 10,
   "id": "78d46a02-cc30-4783-9b18-9fc9c6a08012",
   "metadata": {},
   "outputs": [
    {
     "data": {
      "text/html": [
       "<div>\n",
       "<style scoped>\n",
       "    .dataframe tbody tr th:only-of-type {\n",
       "        vertical-align: middle;\n",
       "    }\n",
       "\n",
       "    .dataframe tbody tr th {\n",
       "        vertical-align: top;\n",
       "    }\n",
       "\n",
       "    .dataframe thead th {\n",
       "        text-align: right;\n",
       "    }\n",
       "</style>\n",
       "<table border=\"1\" class=\"dataframe\">\n",
       "  <thead>\n",
       "    <tr style=\"text-align: right;\">\n",
       "      <th>group</th>\n",
       "      <th>A</th>\n",
       "      <th>B</th>\n",
       "    </tr>\n",
       "    <tr>\n",
       "      <th>price</th>\n",
       "      <th></th>\n",
       "      <th></th>\n",
       "    </tr>\n",
       "  </thead>\n",
       "  <tbody>\n",
       "    <tr>\n",
       "      <th>0</th>\n",
       "      <td>0</td>\n",
       "      <td>0</td>\n",
       "    </tr>\n",
       "    <tr>\n",
       "      <th>10000</th>\n",
       "      <td>5182</td>\n",
       "      <td>5201</td>\n",
       "    </tr>\n",
       "    <tr>\n",
       "      <th>60000</th>\n",
       "      <td>5271</td>\n",
       "      <td>1730</td>\n",
       "    </tr>\n",
       "    <tr>\n",
       "      <th>100000</th>\n",
       "      <td>1832</td>\n",
       "      <td>5227</td>\n",
       "    </tr>\n",
       "    <tr>\n",
       "      <th>150000</th>\n",
       "      <td>3478</td>\n",
       "      <td>3438</td>\n",
       "    </tr>\n",
       "    <tr>\n",
       "      <th>200000</th>\n",
       "      <td>1724</td>\n",
       "      <td>1694</td>\n",
       "    </tr>\n",
       "  </tbody>\n",
       "</table>\n",
       "</div>"
      ],
      "text/plain": [
       "group      A     B\n",
       "price             \n",
       "0          0     0\n",
       "10000   5182  5201\n",
       "60000   5271  1730\n",
       "100000  1832  5227\n",
       "150000  3478  3438\n",
       "200000  1724  1694"
      ]
     },
     "execution_count": 10,
     "metadata": {},
     "output_type": "execute_result"
    }
   ],
   "source": [
    "# ваш код здесь\n",
    "piv_purchase = updated_data.pivot_table(values='purchase', index='price', columns='group', aggfunc='sum', fill_value=0)\n",
    "piv_purchase"
   ]
  },
  {
   "cell_type": "markdown",
   "id": "977423ed-8f8d-475c-b773-621edd95338d",
   "metadata": {},
   "source": [
    "Визуализируйте полученную сводную таблицу с помощью тепловой карты с аннотацией. \n",
    "Чему равно количество проданных туров за 60000 рублей в группах?"
   ]
  },
  {
   "cell_type": "code",
   "execution_count": 11,
   "id": "f634fa8d-585c-42e3-b7d5-78e8d9eaa8c5",
   "metadata": {},
   "outputs": [
    {
     "data": {
      "application/vnd.plotly.v1+json": {
       "config": {
        "plotlyServerURL": "https://plot.ly"
       },
       "data": [
        {
         "coloraxis": "coloraxis",
         "hovertemplate": "group: %{x}<br>price: %{y}<br>color: %{z}<extra></extra>",
         "name": "0",
         "texttemplate": "%{z}",
         "type": "heatmap",
         "x": [
          "A",
          "B"
         ],
         "xaxis": "x",
         "y": [
          0,
          10000,
          60000,
          100000,
          150000,
          200000
         ],
         "yaxis": "y",
         "z": [
          [
           0,
           0
          ],
          [
           5182,
           5201
          ],
          [
           5271,
           1730
          ],
          [
           1832,
           5227
          ],
          [
           3478,
           3438
          ],
          [
           1724,
           1694
          ]
         ]
        }
       ],
       "layout": {
        "coloraxis": {
         "colorscale": [
          [
           0,
           "#0d0887"
          ],
          [
           0.1111111111111111,
           "#46039f"
          ],
          [
           0.2222222222222222,
           "#7201a8"
          ],
          [
           0.3333333333333333,
           "#9c179e"
          ],
          [
           0.4444444444444444,
           "#bd3786"
          ],
          [
           0.5555555555555556,
           "#d8576b"
          ],
          [
           0.6666666666666666,
           "#ed7953"
          ],
          [
           0.7777777777777778,
           "#fb9f3a"
          ],
          [
           0.8888888888888888,
           "#fdca26"
          ],
          [
           1,
           "#f0f921"
          ]
         ]
        },
        "template": {
         "data": {
          "bar": [
           {
            "error_x": {
             "color": "#2a3f5f"
            },
            "error_y": {
             "color": "#2a3f5f"
            },
            "marker": {
             "line": {
              "color": "#E5ECF6",
              "width": 0.5
             },
             "pattern": {
              "fillmode": "overlay",
              "size": 10,
              "solidity": 0.2
             }
            },
            "type": "bar"
           }
          ],
          "barpolar": [
           {
            "marker": {
             "line": {
              "color": "#E5ECF6",
              "width": 0.5
             },
             "pattern": {
              "fillmode": "overlay",
              "size": 10,
              "solidity": 0.2
             }
            },
            "type": "barpolar"
           }
          ],
          "carpet": [
           {
            "aaxis": {
             "endlinecolor": "#2a3f5f",
             "gridcolor": "white",
             "linecolor": "white",
             "minorgridcolor": "white",
             "startlinecolor": "#2a3f5f"
            },
            "baxis": {
             "endlinecolor": "#2a3f5f",
             "gridcolor": "white",
             "linecolor": "white",
             "minorgridcolor": "white",
             "startlinecolor": "#2a3f5f"
            },
            "type": "carpet"
           }
          ],
          "choropleth": [
           {
            "colorbar": {
             "outlinewidth": 0,
             "ticks": ""
            },
            "type": "choropleth"
           }
          ],
          "contour": [
           {
            "colorbar": {
             "outlinewidth": 0,
             "ticks": ""
            },
            "colorscale": [
             [
              0,
              "#0d0887"
             ],
             [
              0.1111111111111111,
              "#46039f"
             ],
             [
              0.2222222222222222,
              "#7201a8"
             ],
             [
              0.3333333333333333,
              "#9c179e"
             ],
             [
              0.4444444444444444,
              "#bd3786"
             ],
             [
              0.5555555555555556,
              "#d8576b"
             ],
             [
              0.6666666666666666,
              "#ed7953"
             ],
             [
              0.7777777777777778,
              "#fb9f3a"
             ],
             [
              0.8888888888888888,
              "#fdca26"
             ],
             [
              1,
              "#f0f921"
             ]
            ],
            "type": "contour"
           }
          ],
          "contourcarpet": [
           {
            "colorbar": {
             "outlinewidth": 0,
             "ticks": ""
            },
            "type": "contourcarpet"
           }
          ],
          "heatmap": [
           {
            "colorbar": {
             "outlinewidth": 0,
             "ticks": ""
            },
            "colorscale": [
             [
              0,
              "#0d0887"
             ],
             [
              0.1111111111111111,
              "#46039f"
             ],
             [
              0.2222222222222222,
              "#7201a8"
             ],
             [
              0.3333333333333333,
              "#9c179e"
             ],
             [
              0.4444444444444444,
              "#bd3786"
             ],
             [
              0.5555555555555556,
              "#d8576b"
             ],
             [
              0.6666666666666666,
              "#ed7953"
             ],
             [
              0.7777777777777778,
              "#fb9f3a"
             ],
             [
              0.8888888888888888,
              "#fdca26"
             ],
             [
              1,
              "#f0f921"
             ]
            ],
            "type": "heatmap"
           }
          ],
          "heatmapgl": [
           {
            "colorbar": {
             "outlinewidth": 0,
             "ticks": ""
            },
            "colorscale": [
             [
              0,
              "#0d0887"
             ],
             [
              0.1111111111111111,
              "#46039f"
             ],
             [
              0.2222222222222222,
              "#7201a8"
             ],
             [
              0.3333333333333333,
              "#9c179e"
             ],
             [
              0.4444444444444444,
              "#bd3786"
             ],
             [
              0.5555555555555556,
              "#d8576b"
             ],
             [
              0.6666666666666666,
              "#ed7953"
             ],
             [
              0.7777777777777778,
              "#fb9f3a"
             ],
             [
              0.8888888888888888,
              "#fdca26"
             ],
             [
              1,
              "#f0f921"
             ]
            ],
            "type": "heatmapgl"
           }
          ],
          "histogram": [
           {
            "marker": {
             "pattern": {
              "fillmode": "overlay",
              "size": 10,
              "solidity": 0.2
             }
            },
            "type": "histogram"
           }
          ],
          "histogram2d": [
           {
            "colorbar": {
             "outlinewidth": 0,
             "ticks": ""
            },
            "colorscale": [
             [
              0,
              "#0d0887"
             ],
             [
              0.1111111111111111,
              "#46039f"
             ],
             [
              0.2222222222222222,
              "#7201a8"
             ],
             [
              0.3333333333333333,
              "#9c179e"
             ],
             [
              0.4444444444444444,
              "#bd3786"
             ],
             [
              0.5555555555555556,
              "#d8576b"
             ],
             [
              0.6666666666666666,
              "#ed7953"
             ],
             [
              0.7777777777777778,
              "#fb9f3a"
             ],
             [
              0.8888888888888888,
              "#fdca26"
             ],
             [
              1,
              "#f0f921"
             ]
            ],
            "type": "histogram2d"
           }
          ],
          "histogram2dcontour": [
           {
            "colorbar": {
             "outlinewidth": 0,
             "ticks": ""
            },
            "colorscale": [
             [
              0,
              "#0d0887"
             ],
             [
              0.1111111111111111,
              "#46039f"
             ],
             [
              0.2222222222222222,
              "#7201a8"
             ],
             [
              0.3333333333333333,
              "#9c179e"
             ],
             [
              0.4444444444444444,
              "#bd3786"
             ],
             [
              0.5555555555555556,
              "#d8576b"
             ],
             [
              0.6666666666666666,
              "#ed7953"
             ],
             [
              0.7777777777777778,
              "#fb9f3a"
             ],
             [
              0.8888888888888888,
              "#fdca26"
             ],
             [
              1,
              "#f0f921"
             ]
            ],
            "type": "histogram2dcontour"
           }
          ],
          "mesh3d": [
           {
            "colorbar": {
             "outlinewidth": 0,
             "ticks": ""
            },
            "type": "mesh3d"
           }
          ],
          "parcoords": [
           {
            "line": {
             "colorbar": {
              "outlinewidth": 0,
              "ticks": ""
             }
            },
            "type": "parcoords"
           }
          ],
          "pie": [
           {
            "automargin": true,
            "type": "pie"
           }
          ],
          "scatter": [
           {
            "fillpattern": {
             "fillmode": "overlay",
             "size": 10,
             "solidity": 0.2
            },
            "type": "scatter"
           }
          ],
          "scatter3d": [
           {
            "line": {
             "colorbar": {
              "outlinewidth": 0,
              "ticks": ""
             }
            },
            "marker": {
             "colorbar": {
              "outlinewidth": 0,
              "ticks": ""
             }
            },
            "type": "scatter3d"
           }
          ],
          "scattercarpet": [
           {
            "marker": {
             "colorbar": {
              "outlinewidth": 0,
              "ticks": ""
             }
            },
            "type": "scattercarpet"
           }
          ],
          "scattergeo": [
           {
            "marker": {
             "colorbar": {
              "outlinewidth": 0,
              "ticks": ""
             }
            },
            "type": "scattergeo"
           }
          ],
          "scattergl": [
           {
            "marker": {
             "colorbar": {
              "outlinewidth": 0,
              "ticks": ""
             }
            },
            "type": "scattergl"
           }
          ],
          "scattermapbox": [
           {
            "marker": {
             "colorbar": {
              "outlinewidth": 0,
              "ticks": ""
             }
            },
            "type": "scattermapbox"
           }
          ],
          "scatterpolar": [
           {
            "marker": {
             "colorbar": {
              "outlinewidth": 0,
              "ticks": ""
             }
            },
            "type": "scatterpolar"
           }
          ],
          "scatterpolargl": [
           {
            "marker": {
             "colorbar": {
              "outlinewidth": 0,
              "ticks": ""
             }
            },
            "type": "scatterpolargl"
           }
          ],
          "scatterternary": [
           {
            "marker": {
             "colorbar": {
              "outlinewidth": 0,
              "ticks": ""
             }
            },
            "type": "scatterternary"
           }
          ],
          "surface": [
           {
            "colorbar": {
             "outlinewidth": 0,
             "ticks": ""
            },
            "colorscale": [
             [
              0,
              "#0d0887"
             ],
             [
              0.1111111111111111,
              "#46039f"
             ],
             [
              0.2222222222222222,
              "#7201a8"
             ],
             [
              0.3333333333333333,
              "#9c179e"
             ],
             [
              0.4444444444444444,
              "#bd3786"
             ],
             [
              0.5555555555555556,
              "#d8576b"
             ],
             [
              0.6666666666666666,
              "#ed7953"
             ],
             [
              0.7777777777777778,
              "#fb9f3a"
             ],
             [
              0.8888888888888888,
              "#fdca26"
             ],
             [
              1,
              "#f0f921"
             ]
            ],
            "type": "surface"
           }
          ],
          "table": [
           {
            "cells": {
             "fill": {
              "color": "#EBF0F8"
             },
             "line": {
              "color": "white"
             }
            },
            "header": {
             "fill": {
              "color": "#C8D4E3"
             },
             "line": {
              "color": "white"
             }
            },
            "type": "table"
           }
          ]
         },
         "layout": {
          "annotationdefaults": {
           "arrowcolor": "#2a3f5f",
           "arrowhead": 0,
           "arrowwidth": 1
          },
          "autotypenumbers": "strict",
          "coloraxis": {
           "colorbar": {
            "outlinewidth": 0,
            "ticks": ""
           }
          },
          "colorscale": {
           "diverging": [
            [
             0,
             "#8e0152"
            ],
            [
             0.1,
             "#c51b7d"
            ],
            [
             0.2,
             "#de77ae"
            ],
            [
             0.3,
             "#f1b6da"
            ],
            [
             0.4,
             "#fde0ef"
            ],
            [
             0.5,
             "#f7f7f7"
            ],
            [
             0.6,
             "#e6f5d0"
            ],
            [
             0.7,
             "#b8e186"
            ],
            [
             0.8,
             "#7fbc41"
            ],
            [
             0.9,
             "#4d9221"
            ],
            [
             1,
             "#276419"
            ]
           ],
           "sequential": [
            [
             0,
             "#0d0887"
            ],
            [
             0.1111111111111111,
             "#46039f"
            ],
            [
             0.2222222222222222,
             "#7201a8"
            ],
            [
             0.3333333333333333,
             "#9c179e"
            ],
            [
             0.4444444444444444,
             "#bd3786"
            ],
            [
             0.5555555555555556,
             "#d8576b"
            ],
            [
             0.6666666666666666,
             "#ed7953"
            ],
            [
             0.7777777777777778,
             "#fb9f3a"
            ],
            [
             0.8888888888888888,
             "#fdca26"
            ],
            [
             1,
             "#f0f921"
            ]
           ],
           "sequentialminus": [
            [
             0,
             "#0d0887"
            ],
            [
             0.1111111111111111,
             "#46039f"
            ],
            [
             0.2222222222222222,
             "#7201a8"
            ],
            [
             0.3333333333333333,
             "#9c179e"
            ],
            [
             0.4444444444444444,
             "#bd3786"
            ],
            [
             0.5555555555555556,
             "#d8576b"
            ],
            [
             0.6666666666666666,
             "#ed7953"
            ],
            [
             0.7777777777777778,
             "#fb9f3a"
            ],
            [
             0.8888888888888888,
             "#fdca26"
            ],
            [
             1,
             "#f0f921"
            ]
           ]
          },
          "colorway": [
           "#636efa",
           "#EF553B",
           "#00cc96",
           "#ab63fa",
           "#FFA15A",
           "#19d3f3",
           "#FF6692",
           "#B6E880",
           "#FF97FF",
           "#FECB52"
          ],
          "font": {
           "color": "#2a3f5f"
          },
          "geo": {
           "bgcolor": "white",
           "lakecolor": "white",
           "landcolor": "#E5ECF6",
           "showlakes": true,
           "showland": true,
           "subunitcolor": "white"
          },
          "hoverlabel": {
           "align": "left"
          },
          "hovermode": "closest",
          "mapbox": {
           "style": "light"
          },
          "paper_bgcolor": "white",
          "plot_bgcolor": "#E5ECF6",
          "polar": {
           "angularaxis": {
            "gridcolor": "white",
            "linecolor": "white",
            "ticks": ""
           },
           "bgcolor": "#E5ECF6",
           "radialaxis": {
            "gridcolor": "white",
            "linecolor": "white",
            "ticks": ""
           }
          },
          "scene": {
           "xaxis": {
            "backgroundcolor": "#E5ECF6",
            "gridcolor": "white",
            "gridwidth": 2,
            "linecolor": "white",
            "showbackground": true,
            "ticks": "",
            "zerolinecolor": "white"
           },
           "yaxis": {
            "backgroundcolor": "#E5ECF6",
            "gridcolor": "white",
            "gridwidth": 2,
            "linecolor": "white",
            "showbackground": true,
            "ticks": "",
            "zerolinecolor": "white"
           },
           "zaxis": {
            "backgroundcolor": "#E5ECF6",
            "gridcolor": "white",
            "gridwidth": 2,
            "linecolor": "white",
            "showbackground": true,
            "ticks": "",
            "zerolinecolor": "white"
           }
          },
          "shapedefaults": {
           "line": {
            "color": "#2a3f5f"
           }
          },
          "ternary": {
           "aaxis": {
            "gridcolor": "white",
            "linecolor": "white",
            "ticks": ""
           },
           "baxis": {
            "gridcolor": "white",
            "linecolor": "white",
            "ticks": ""
           },
           "bgcolor": "#E5ECF6",
           "caxis": {
            "gridcolor": "white",
            "linecolor": "white",
            "ticks": ""
           }
          },
          "title": {
           "x": 0.05
          },
          "xaxis": {
           "automargin": true,
           "gridcolor": "white",
           "linecolor": "white",
           "ticks": "",
           "title": {
            "standoff": 15
           },
           "zerolinecolor": "white",
           "zerolinewidth": 2
          },
          "yaxis": {
           "automargin": true,
           "gridcolor": "white",
           "linecolor": "white",
           "ticks": "",
           "title": {
            "standoff": 15
           },
           "zerolinecolor": "white",
           "zerolinewidth": 2
          }
         }
        },
        "title": {
         "text": "Количество продаж в зависимости от стоимости тура по группам А/В"
        },
        "xaxis": {
         "anchor": "y",
         "constrain": "domain",
         "domain": [
          0,
          1
         ],
         "scaleanchor": "y",
         "title": {
          "text": "group"
         }
        },
        "yaxis": {
         "anchor": "x",
         "autorange": "reversed",
         "constrain": "domain",
         "domain": [
          0,
          1
         ],
         "title": {
          "text": "price"
         }
        }
       }
      }
     },
     "metadata": {},
     "output_type": "display_data"
    }
   ],
   "source": [
    "# ваш код здесь\n",
    "heatmap = px.imshow(piv_purchase, text_auto=True, title='Количество продаж в зависимости от стоимости тура по группам А/В')\n",
    "heatmap"
   ]
  },
  {
   "cell_type": "markdown",
   "id": "9caa92ca-e261-4b8f-a16c-2abc322c9ffb",
   "metadata": {},
   "source": [
    "Сделайте выводы по построенной таблице. По каким турам покупательская способность участников группы А выше, чем участников группы B и наоборот?"
   ]
  },
  {
   "attachments": {},
   "cell_type": "markdown",
   "id": "6d13fd45-e3df-468f-9d32-1fc45d38b10c",
   "metadata": {},
   "source": [
    "Вывод: в группе А наибольшее количество продаж приходится на туры стоимостью 10000 и 60000 рублей. Покупательская способность участников группы В выше: помимо самых дешевых туров, количество приобретенных туров стоимостью 100000 значительно превалирует над количеством аналогичных туров, купленных участниками группы А. Количество самых дорогих туров примерно одинаковое между группами."
   ]
  },
  {
   "cell_type": "markdown",
   "id": "8f021fb4-d0f6-4e43-b518-1a96c07a4531",
   "metadata": {
    "tags": []
   },
   "source": [
    "## **Задание 7.8.**\n",
    "\n",
    "Настало время поговорить о стабилизации кумулятивных метрик во времени. Но прежде, чем перейти к кумулятивным метрикам, нам необходимо построить таблицу с ежедневными данными результатов проведения A/B-тестирования.\n",
    "\n",
    "Сгруппируйте данные по дате и группе тестирования. В каждой группе вычислите количество посещений страницы, количество покупок и сумму покупок. \n",
    "\n",
    "Добавьте в таблицу информацию о ежедневной конверсии (ежедневное количество покупок / ежедневное количество посещений) в группе и ежедневном среднем чеке (ежедневная сумма покупок / ежедневное количество покупок)\n",
    "* Чему равна конверсия 3 января 2021 года? Ответ приведите в процентах и округлите до сотых.\n",
    "\n",
    "* Чему равен средний чек 3 января 2021 года? Ответ приведите в рублях и округлите до целого."
   ]
  },
  {
   "cell_type": "code",
   "execution_count": 12,
   "id": "4503b528-412e-433a-bc03-da7da52fa1a3",
   "metadata": {},
   "outputs": [
    {
     "data": {
      "text/html": [
       "<div>\n",
       "<style scoped>\n",
       "    .dataframe tbody tr th:only-of-type {\n",
       "        vertical-align: middle;\n",
       "    }\n",
       "\n",
       "    .dataframe tbody tr th {\n",
       "        vertical-align: top;\n",
       "    }\n",
       "\n",
       "    .dataframe thead th {\n",
       "        text-align: right;\n",
       "    }\n",
       "</style>\n",
       "<table border=\"1\" class=\"dataframe\">\n",
       "  <thead>\n",
       "    <tr style=\"text-align: right;\">\n",
       "      <th></th>\n",
       "      <th></th>\n",
       "      <th>user_id</th>\n",
       "      <th>purchase</th>\n",
       "      <th>price</th>\n",
       "      <th>conversion</th>\n",
       "      <th>mean_check</th>\n",
       "    </tr>\n",
       "    <tr>\n",
       "      <th>date</th>\n",
       "      <th>group</th>\n",
       "      <th></th>\n",
       "      <th></th>\n",
       "      <th></th>\n",
       "      <th></th>\n",
       "      <th></th>\n",
       "    </tr>\n",
       "  </thead>\n",
       "  <tbody>\n",
       "    <tr>\n",
       "      <th rowspan=\"2\" valign=\"top\">2021-01-02</th>\n",
       "      <th>A</th>\n",
       "      <td>2854</td>\n",
       "      <td>359</td>\n",
       "      <td>29410000</td>\n",
       "      <td>12.58</td>\n",
       "      <td>81922.0</td>\n",
       "    </tr>\n",
       "    <tr>\n",
       "      <th>B</th>\n",
       "      <td>2861</td>\n",
       "      <td>345</td>\n",
       "      <td>29660000</td>\n",
       "      <td>12.06</td>\n",
       "      <td>85971.0</td>\n",
       "    </tr>\n",
       "    <tr>\n",
       "      <th rowspan=\"2\" valign=\"top\">2021-01-03</th>\n",
       "      <th>A</th>\n",
       "      <td>6596</td>\n",
       "      <td>748</td>\n",
       "      <td>62000000</td>\n",
       "      <td>11.34</td>\n",
       "      <td>82888.0</td>\n",
       "    </tr>\n",
       "    <tr>\n",
       "      <th>B</th>\n",
       "      <td>6619</td>\n",
       "      <td>754</td>\n",
       "      <td>65960000</td>\n",
       "      <td>11.39</td>\n",
       "      <td>87480.0</td>\n",
       "    </tr>\n",
       "    <tr>\n",
       "      <th rowspan=\"2\" valign=\"top\">2021-01-04</th>\n",
       "      <th>A</th>\n",
       "      <td>6566</td>\n",
       "      <td>799</td>\n",
       "      <td>64250000</td>\n",
       "      <td>12.17</td>\n",
       "      <td>80413.0</td>\n",
       "    </tr>\n",
       "    <tr>\n",
       "      <th>B</th>\n",
       "      <td>6536</td>\n",
       "      <td>764</td>\n",
       "      <td>68030000</td>\n",
       "      <td>11.69</td>\n",
       "      <td>89045.0</td>\n",
       "    </tr>\n",
       "    <tr>\n",
       "      <th rowspan=\"2\" valign=\"top\">2021-01-05</th>\n",
       "      <th>A</th>\n",
       "      <td>6433</td>\n",
       "      <td>790</td>\n",
       "      <td>64550000</td>\n",
       "      <td>12.28</td>\n",
       "      <td>81709.0</td>\n",
       "    </tr>\n",
       "    <tr>\n",
       "      <th>B</th>\n",
       "      <td>6511</td>\n",
       "      <td>749</td>\n",
       "      <td>63550000</td>\n",
       "      <td>11.50</td>\n",
       "      <td>84846.0</td>\n",
       "    </tr>\n",
       "    <tr>\n",
       "      <th rowspan=\"2\" valign=\"top\">2021-01-06</th>\n",
       "      <th>A</th>\n",
       "      <td>6606</td>\n",
       "      <td>764</td>\n",
       "      <td>63410000</td>\n",
       "      <td>11.57</td>\n",
       "      <td>82997.0</td>\n",
       "    </tr>\n",
       "    <tr>\n",
       "      <th>B</th>\n",
       "      <td>6751</td>\n",
       "      <td>838</td>\n",
       "      <td>75020000</td>\n",
       "      <td>12.41</td>\n",
       "      <td>89523.0</td>\n",
       "    </tr>\n",
       "    <tr>\n",
       "      <th rowspan=\"2\" valign=\"top\">2021-01-07</th>\n",
       "      <th>A</th>\n",
       "      <td>6579</td>\n",
       "      <td>795</td>\n",
       "      <td>67290000</td>\n",
       "      <td>12.08</td>\n",
       "      <td>84642.0</td>\n",
       "    </tr>\n",
       "    <tr>\n",
       "      <th>B</th>\n",
       "      <td>6616</td>\n",
       "      <td>767</td>\n",
       "      <td>67170000</td>\n",
       "      <td>11.59</td>\n",
       "      <td>87575.0</td>\n",
       "    </tr>\n",
       "    <tr>\n",
       "      <th rowspan=\"2\" valign=\"top\">2021-01-08</th>\n",
       "      <th>A</th>\n",
       "      <td>6687</td>\n",
       "      <td>798</td>\n",
       "      <td>65380000</td>\n",
       "      <td>11.93</td>\n",
       "      <td>81930.0</td>\n",
       "    </tr>\n",
       "    <tr>\n",
       "      <th>B</th>\n",
       "      <td>6714</td>\n",
       "      <td>812</td>\n",
       "      <td>71270000</td>\n",
       "      <td>12.09</td>\n",
       "      <td>87771.0</td>\n",
       "    </tr>\n",
       "    <tr>\n",
       "      <th rowspan=\"2\" valign=\"top\">2021-01-09</th>\n",
       "      <th>A</th>\n",
       "      <td>6633</td>\n",
       "      <td>794</td>\n",
       "      <td>65610000</td>\n",
       "      <td>11.97</td>\n",
       "      <td>82632.0</td>\n",
       "    </tr>\n",
       "    <tr>\n",
       "      <th>B</th>\n",
       "      <td>6628</td>\n",
       "      <td>784</td>\n",
       "      <td>71410000</td>\n",
       "      <td>11.83</td>\n",
       "      <td>91084.0</td>\n",
       "    </tr>\n",
       "    <tr>\n",
       "      <th rowspan=\"2\" valign=\"top\">2021-01-10</th>\n",
       "      <th>A</th>\n",
       "      <td>6659</td>\n",
       "      <td>759</td>\n",
       "      <td>58950000</td>\n",
       "      <td>11.40</td>\n",
       "      <td>77668.0</td>\n",
       "    </tr>\n",
       "    <tr>\n",
       "      <th>B</th>\n",
       "      <td>6701</td>\n",
       "      <td>846</td>\n",
       "      <td>78080000</td>\n",
       "      <td>12.62</td>\n",
       "      <td>92293.0</td>\n",
       "    </tr>\n",
       "    <tr>\n",
       "      <th rowspan=\"2\" valign=\"top\">2021-01-11</th>\n",
       "      <th>A</th>\n",
       "      <td>6699</td>\n",
       "      <td>797</td>\n",
       "      <td>58760000</td>\n",
       "      <td>11.90</td>\n",
       "      <td>73726.0</td>\n",
       "    </tr>\n",
       "    <tr>\n",
       "      <th>B</th>\n",
       "      <td>6679</td>\n",
       "      <td>770</td>\n",
       "      <td>66960000</td>\n",
       "      <td>11.53</td>\n",
       "      <td>86961.0</td>\n",
       "    </tr>\n",
       "    <tr>\n",
       "      <th rowspan=\"2\" valign=\"top\">2021-01-12</th>\n",
       "      <th>A</th>\n",
       "      <td>6540</td>\n",
       "      <td>795</td>\n",
       "      <td>68460000</td>\n",
       "      <td>12.16</td>\n",
       "      <td>86113.0</td>\n",
       "    </tr>\n",
       "    <tr>\n",
       "      <th>B</th>\n",
       "      <td>6635</td>\n",
       "      <td>807</td>\n",
       "      <td>70560000</td>\n",
       "      <td>12.16</td>\n",
       "      <td>87435.0</td>\n",
       "    </tr>\n",
       "    <tr>\n",
       "      <th rowspan=\"2\" valign=\"top\">2021-01-13</th>\n",
       "      <th>A</th>\n",
       "      <td>6564</td>\n",
       "      <td>764</td>\n",
       "      <td>63590000</td>\n",
       "      <td>11.64</td>\n",
       "      <td>83233.0</td>\n",
       "    </tr>\n",
       "    <tr>\n",
       "      <th>B</th>\n",
       "      <td>6495</td>\n",
       "      <td>720</td>\n",
       "      <td>65910000</td>\n",
       "      <td>11.09</td>\n",
       "      <td>91542.0</td>\n",
       "    </tr>\n",
       "    <tr>\n",
       "      <th rowspan=\"2\" valign=\"top\">2021-01-14</th>\n",
       "      <th>A</th>\n",
       "      <td>6543</td>\n",
       "      <td>825</td>\n",
       "      <td>65890000</td>\n",
       "      <td>12.61</td>\n",
       "      <td>79867.0</td>\n",
       "    </tr>\n",
       "    <tr>\n",
       "      <th>B</th>\n",
       "      <td>6608</td>\n",
       "      <td>792</td>\n",
       "      <td>68990000</td>\n",
       "      <td>11.99</td>\n",
       "      <td>87109.0</td>\n",
       "    </tr>\n",
       "    <tr>\n",
       "      <th rowspan=\"2\" valign=\"top\">2021-01-15</th>\n",
       "      <th>A</th>\n",
       "      <td>6701</td>\n",
       "      <td>806</td>\n",
       "      <td>67570000</td>\n",
       "      <td>12.03</td>\n",
       "      <td>83834.0</td>\n",
       "    </tr>\n",
       "    <tr>\n",
       "      <th>B</th>\n",
       "      <td>6563</td>\n",
       "      <td>747</td>\n",
       "      <td>69160000</td>\n",
       "      <td>11.38</td>\n",
       "      <td>92584.0</td>\n",
       "    </tr>\n",
       "    <tr>\n",
       "      <th rowspan=\"2\" valign=\"top\">2021-01-16</th>\n",
       "      <th>A</th>\n",
       "      <td>6601</td>\n",
       "      <td>808</td>\n",
       "      <td>66210000</td>\n",
       "      <td>12.24</td>\n",
       "      <td>81943.0</td>\n",
       "    </tr>\n",
       "    <tr>\n",
       "      <th>B</th>\n",
       "      <td>6544</td>\n",
       "      <td>786</td>\n",
       "      <td>70560000</td>\n",
       "      <td>12.01</td>\n",
       "      <td>89771.0</td>\n",
       "    </tr>\n",
       "    <tr>\n",
       "      <th rowspan=\"2\" valign=\"top\">2021-01-17</th>\n",
       "      <th>A</th>\n",
       "      <td>6619</td>\n",
       "      <td>809</td>\n",
       "      <td>63020000</td>\n",
       "      <td>12.22</td>\n",
       "      <td>77899.0</td>\n",
       "    </tr>\n",
       "    <tr>\n",
       "      <th>B</th>\n",
       "      <td>6546</td>\n",
       "      <td>831</td>\n",
       "      <td>75300000</td>\n",
       "      <td>12.69</td>\n",
       "      <td>90614.0</td>\n",
       "    </tr>\n",
       "    <tr>\n",
       "      <th rowspan=\"2\" valign=\"top\">2021-01-18</th>\n",
       "      <th>A</th>\n",
       "      <td>6511</td>\n",
       "      <td>812</td>\n",
       "      <td>62850000</td>\n",
       "      <td>12.47</td>\n",
       "      <td>77401.0</td>\n",
       "    </tr>\n",
       "    <tr>\n",
       "      <th>B</th>\n",
       "      <td>6603</td>\n",
       "      <td>822</td>\n",
       "      <td>72240000</td>\n",
       "      <td>12.45</td>\n",
       "      <td>87883.0</td>\n",
       "    </tr>\n",
       "    <tr>\n",
       "      <th rowspan=\"2\" valign=\"top\">2021-01-19</th>\n",
       "      <th>A</th>\n",
       "      <td>6582</td>\n",
       "      <td>790</td>\n",
       "      <td>63680000</td>\n",
       "      <td>12.00</td>\n",
       "      <td>80608.0</td>\n",
       "    </tr>\n",
       "    <tr>\n",
       "      <th>B</th>\n",
       "      <td>6562</td>\n",
       "      <td>772</td>\n",
       "      <td>67820000</td>\n",
       "      <td>11.76</td>\n",
       "      <td>87850.0</td>\n",
       "    </tr>\n",
       "    <tr>\n",
       "      <th rowspan=\"2\" valign=\"top\">2021-01-20</th>\n",
       "      <th>A</th>\n",
       "      <td>6533</td>\n",
       "      <td>749</td>\n",
       "      <td>58710000</td>\n",
       "      <td>11.46</td>\n",
       "      <td>78385.0</td>\n",
       "    </tr>\n",
       "    <tr>\n",
       "      <th>B</th>\n",
       "      <td>6685</td>\n",
       "      <td>790</td>\n",
       "      <td>69250000</td>\n",
       "      <td>11.82</td>\n",
       "      <td>87658.0</td>\n",
       "    </tr>\n",
       "    <tr>\n",
       "      <th rowspan=\"2\" valign=\"top\">2021-01-21</th>\n",
       "      <th>A</th>\n",
       "      <td>6750</td>\n",
       "      <td>851</td>\n",
       "      <td>70300000</td>\n",
       "      <td>12.61</td>\n",
       "      <td>82609.0</td>\n",
       "    </tr>\n",
       "    <tr>\n",
       "      <th>B</th>\n",
       "      <td>6555</td>\n",
       "      <td>760</td>\n",
       "      <td>69870000</td>\n",
       "      <td>11.59</td>\n",
       "      <td>91934.0</td>\n",
       "    </tr>\n",
       "    <tr>\n",
       "      <th rowspan=\"2\" valign=\"top\">2021-01-22</th>\n",
       "      <th>A</th>\n",
       "      <td>6587</td>\n",
       "      <td>788</td>\n",
       "      <td>63690000</td>\n",
       "      <td>11.96</td>\n",
       "      <td>80825.0</td>\n",
       "    </tr>\n",
       "    <tr>\n",
       "      <th>B</th>\n",
       "      <td>6659</td>\n",
       "      <td>787</td>\n",
       "      <td>68660000</td>\n",
       "      <td>11.82</td>\n",
       "      <td>87243.0</td>\n",
       "    </tr>\n",
       "    <tr>\n",
       "      <th rowspan=\"2\" valign=\"top\">2021-01-23</th>\n",
       "      <th>A</th>\n",
       "      <td>6698</td>\n",
       "      <td>843</td>\n",
       "      <td>70950000</td>\n",
       "      <td>12.59</td>\n",
       "      <td>84164.0</td>\n",
       "    </tr>\n",
       "    <tr>\n",
       "      <th>B</th>\n",
       "      <td>6633</td>\n",
       "      <td>805</td>\n",
       "      <td>68930000</td>\n",
       "      <td>12.14</td>\n",
       "      <td>85627.0</td>\n",
       "    </tr>\n",
       "    <tr>\n",
       "      <th rowspan=\"2\" valign=\"top\">2021-01-24</th>\n",
       "      <th>A</th>\n",
       "      <td>3766</td>\n",
       "      <td>444</td>\n",
       "      <td>33250000</td>\n",
       "      <td>11.79</td>\n",
       "      <td>74887.0</td>\n",
       "    </tr>\n",
       "    <tr>\n",
       "      <th>B</th>\n",
       "      <td>3677</td>\n",
       "      <td>442</td>\n",
       "      <td>38650000</td>\n",
       "      <td>12.02</td>\n",
       "      <td>87443.0</td>\n",
       "    </tr>\n",
       "  </tbody>\n",
       "</table>\n",
       "</div>"
      ],
      "text/plain": [
       "                  user_id  purchase     price  conversion  mean_check\n",
       "date       group                                                     \n",
       "2021-01-02 A         2854       359  29410000       12.58     81922.0\n",
       "           B         2861       345  29660000       12.06     85971.0\n",
       "2021-01-03 A         6596       748  62000000       11.34     82888.0\n",
       "           B         6619       754  65960000       11.39     87480.0\n",
       "2021-01-04 A         6566       799  64250000       12.17     80413.0\n",
       "           B         6536       764  68030000       11.69     89045.0\n",
       "2021-01-05 A         6433       790  64550000       12.28     81709.0\n",
       "           B         6511       749  63550000       11.50     84846.0\n",
       "2021-01-06 A         6606       764  63410000       11.57     82997.0\n",
       "           B         6751       838  75020000       12.41     89523.0\n",
       "2021-01-07 A         6579       795  67290000       12.08     84642.0\n",
       "           B         6616       767  67170000       11.59     87575.0\n",
       "2021-01-08 A         6687       798  65380000       11.93     81930.0\n",
       "           B         6714       812  71270000       12.09     87771.0\n",
       "2021-01-09 A         6633       794  65610000       11.97     82632.0\n",
       "           B         6628       784  71410000       11.83     91084.0\n",
       "2021-01-10 A         6659       759  58950000       11.40     77668.0\n",
       "           B         6701       846  78080000       12.62     92293.0\n",
       "2021-01-11 A         6699       797  58760000       11.90     73726.0\n",
       "           B         6679       770  66960000       11.53     86961.0\n",
       "2021-01-12 A         6540       795  68460000       12.16     86113.0\n",
       "           B         6635       807  70560000       12.16     87435.0\n",
       "2021-01-13 A         6564       764  63590000       11.64     83233.0\n",
       "           B         6495       720  65910000       11.09     91542.0\n",
       "2021-01-14 A         6543       825  65890000       12.61     79867.0\n",
       "           B         6608       792  68990000       11.99     87109.0\n",
       "2021-01-15 A         6701       806  67570000       12.03     83834.0\n",
       "           B         6563       747  69160000       11.38     92584.0\n",
       "2021-01-16 A         6601       808  66210000       12.24     81943.0\n",
       "           B         6544       786  70560000       12.01     89771.0\n",
       "2021-01-17 A         6619       809  63020000       12.22     77899.0\n",
       "           B         6546       831  75300000       12.69     90614.0\n",
       "2021-01-18 A         6511       812  62850000       12.47     77401.0\n",
       "           B         6603       822  72240000       12.45     87883.0\n",
       "2021-01-19 A         6582       790  63680000       12.00     80608.0\n",
       "           B         6562       772  67820000       11.76     87850.0\n",
       "2021-01-20 A         6533       749  58710000       11.46     78385.0\n",
       "           B         6685       790  69250000       11.82     87658.0\n",
       "2021-01-21 A         6750       851  70300000       12.61     82609.0\n",
       "           B         6555       760  69870000       11.59     91934.0\n",
       "2021-01-22 A         6587       788  63690000       11.96     80825.0\n",
       "           B         6659       787  68660000       11.82     87243.0\n",
       "2021-01-23 A         6698       843  70950000       12.59     84164.0\n",
       "           B         6633       805  68930000       12.14     85627.0\n",
       "2021-01-24 A         3766       444  33250000       11.79     74887.0\n",
       "           B         3677       442  38650000       12.02     87443.0"
      ]
     },
     "execution_count": 12,
     "metadata": {},
     "output_type": "execute_result"
    }
   ],
   "source": [
    "# ваш код здесь\n",
    "daily_data = updated_data.groupby(['date', 'group']).agg({'user_id':'count', 'purchase':'sum', 'price':'sum'})\n",
    "daily_data['conversion'] = round(daily_data['purchase']/daily_data['user_id']*100, 2)\n",
    "daily_data['mean_check'] = round(daily_data['price']/daily_data['purchase'])\n",
    "daily_data"
   ]
  },
  {
   "cell_type": "markdown",
   "id": "bc8e241b-1ef1-4f67-ab90-77251889b7f2",
   "metadata": {},
   "source": [
    "## **Задание 7.9.** \n",
    "\n",
    "Добавьте в таблицу с ежедневными показателями кумулятивные признаки:\n",
    "* кумулятивное количество посещений страницы\n",
    "* кумулятивное количество покупок\n",
    "* кумулятивную сумму покупок\n",
    "\n",
    "Не забудьте при расчете кумулятивной суммы сгруппировать данные по группам. \n",
    "\n",
    "Вычислите кумулятивную конверсию и кумулятивный средний чек на основе полученных кумулятивных показателей. \n",
    "\n",
    "* Какая **кумулятивная** конверсия была в группе B на 20 января? Ответ приведите в процентах, округлив до сотых.\n",
    "* Какой **кумулятивный** средний чек был в группе А на 12 января 2021 года? Ответ приведите в рублях, округлив до целых."
   ]
  },
  {
   "cell_type": "code",
   "execution_count": 13,
   "id": "afe59f9a-8d39-45c1-a14f-9f62091d81a1",
   "metadata": {},
   "outputs": [
    {
     "data": {
      "text/html": [
       "<div>\n",
       "<style scoped>\n",
       "    .dataframe tbody tr th:only-of-type {\n",
       "        vertical-align: middle;\n",
       "    }\n",
       "\n",
       "    .dataframe tbody tr th {\n",
       "        vertical-align: top;\n",
       "    }\n",
       "\n",
       "    .dataframe thead th {\n",
       "        text-align: right;\n",
       "    }\n",
       "</style>\n",
       "<table border=\"1\" class=\"dataframe\">\n",
       "  <thead>\n",
       "    <tr style=\"text-align: right;\">\n",
       "      <th></th>\n",
       "      <th></th>\n",
       "      <th>user_id</th>\n",
       "      <th>purchase</th>\n",
       "      <th>price</th>\n",
       "      <th>conversion</th>\n",
       "      <th>mean_check</th>\n",
       "      <th>cum_visits</th>\n",
       "      <th>cum_purchase</th>\n",
       "      <th>cum_price</th>\n",
       "      <th>cum_conversion</th>\n",
       "      <th>cum_check</th>\n",
       "    </tr>\n",
       "    <tr>\n",
       "      <th>date</th>\n",
       "      <th>group</th>\n",
       "      <th></th>\n",
       "      <th></th>\n",
       "      <th></th>\n",
       "      <th></th>\n",
       "      <th></th>\n",
       "      <th></th>\n",
       "      <th></th>\n",
       "      <th></th>\n",
       "      <th></th>\n",
       "      <th></th>\n",
       "    </tr>\n",
       "  </thead>\n",
       "  <tbody>\n",
       "    <tr>\n",
       "      <th rowspan=\"2\" valign=\"top\">2021-01-02</th>\n",
       "      <th>A</th>\n",
       "      <td>2854</td>\n",
       "      <td>359</td>\n",
       "      <td>29410000</td>\n",
       "      <td>12.58</td>\n",
       "      <td>81922.0</td>\n",
       "      <td>2854</td>\n",
       "      <td>359</td>\n",
       "      <td>29410000</td>\n",
       "      <td>12.58</td>\n",
       "      <td>81922.0</td>\n",
       "    </tr>\n",
       "    <tr>\n",
       "      <th>B</th>\n",
       "      <td>2861</td>\n",
       "      <td>345</td>\n",
       "      <td>29660000</td>\n",
       "      <td>12.06</td>\n",
       "      <td>85971.0</td>\n",
       "      <td>2861</td>\n",
       "      <td>345</td>\n",
       "      <td>29660000</td>\n",
       "      <td>12.06</td>\n",
       "      <td>85971.0</td>\n",
       "    </tr>\n",
       "    <tr>\n",
       "      <th rowspan=\"2\" valign=\"top\">2021-01-03</th>\n",
       "      <th>A</th>\n",
       "      <td>6596</td>\n",
       "      <td>748</td>\n",
       "      <td>62000000</td>\n",
       "      <td>11.34</td>\n",
       "      <td>82888.0</td>\n",
       "      <td>9450</td>\n",
       "      <td>1107</td>\n",
       "      <td>91410000</td>\n",
       "      <td>11.71</td>\n",
       "      <td>82575.0</td>\n",
       "    </tr>\n",
       "    <tr>\n",
       "      <th>B</th>\n",
       "      <td>6619</td>\n",
       "      <td>754</td>\n",
       "      <td>65960000</td>\n",
       "      <td>11.39</td>\n",
       "      <td>87480.0</td>\n",
       "      <td>9480</td>\n",
       "      <td>1099</td>\n",
       "      <td>95620000</td>\n",
       "      <td>11.59</td>\n",
       "      <td>87006.0</td>\n",
       "    </tr>\n",
       "    <tr>\n",
       "      <th rowspan=\"2\" valign=\"top\">2021-01-04</th>\n",
       "      <th>A</th>\n",
       "      <td>6566</td>\n",
       "      <td>799</td>\n",
       "      <td>64250000</td>\n",
       "      <td>12.17</td>\n",
       "      <td>80413.0</td>\n",
       "      <td>16016</td>\n",
       "      <td>1906</td>\n",
       "      <td>155660000</td>\n",
       "      <td>11.90</td>\n",
       "      <td>81668.0</td>\n",
       "    </tr>\n",
       "    <tr>\n",
       "      <th>B</th>\n",
       "      <td>6536</td>\n",
       "      <td>764</td>\n",
       "      <td>68030000</td>\n",
       "      <td>11.69</td>\n",
       "      <td>89045.0</td>\n",
       "      <td>16016</td>\n",
       "      <td>1863</td>\n",
       "      <td>163650000</td>\n",
       "      <td>11.63</td>\n",
       "      <td>87842.0</td>\n",
       "    </tr>\n",
       "    <tr>\n",
       "      <th rowspan=\"2\" valign=\"top\">2021-01-05</th>\n",
       "      <th>A</th>\n",
       "      <td>6433</td>\n",
       "      <td>790</td>\n",
       "      <td>64550000</td>\n",
       "      <td>12.28</td>\n",
       "      <td>81709.0</td>\n",
       "      <td>22449</td>\n",
       "      <td>2696</td>\n",
       "      <td>220210000</td>\n",
       "      <td>12.01</td>\n",
       "      <td>81680.0</td>\n",
       "    </tr>\n",
       "    <tr>\n",
       "      <th>B</th>\n",
       "      <td>6511</td>\n",
       "      <td>749</td>\n",
       "      <td>63550000</td>\n",
       "      <td>11.50</td>\n",
       "      <td>84846.0</td>\n",
       "      <td>22527</td>\n",
       "      <td>2612</td>\n",
       "      <td>227200000</td>\n",
       "      <td>11.59</td>\n",
       "      <td>86983.0</td>\n",
       "    </tr>\n",
       "    <tr>\n",
       "      <th rowspan=\"2\" valign=\"top\">2021-01-06</th>\n",
       "      <th>A</th>\n",
       "      <td>6606</td>\n",
       "      <td>764</td>\n",
       "      <td>63410000</td>\n",
       "      <td>11.57</td>\n",
       "      <td>82997.0</td>\n",
       "      <td>29055</td>\n",
       "      <td>3460</td>\n",
       "      <td>283620000</td>\n",
       "      <td>11.91</td>\n",
       "      <td>81971.0</td>\n",
       "    </tr>\n",
       "    <tr>\n",
       "      <th>B</th>\n",
       "      <td>6751</td>\n",
       "      <td>838</td>\n",
       "      <td>75020000</td>\n",
       "      <td>12.41</td>\n",
       "      <td>89523.0</td>\n",
       "      <td>29278</td>\n",
       "      <td>3450</td>\n",
       "      <td>302220000</td>\n",
       "      <td>11.78</td>\n",
       "      <td>87600.0</td>\n",
       "    </tr>\n",
       "    <tr>\n",
       "      <th rowspan=\"2\" valign=\"top\">2021-01-07</th>\n",
       "      <th>A</th>\n",
       "      <td>6579</td>\n",
       "      <td>795</td>\n",
       "      <td>67290000</td>\n",
       "      <td>12.08</td>\n",
       "      <td>84642.0</td>\n",
       "      <td>35634</td>\n",
       "      <td>4255</td>\n",
       "      <td>350910000</td>\n",
       "      <td>11.94</td>\n",
       "      <td>82470.0</td>\n",
       "    </tr>\n",
       "    <tr>\n",
       "      <th>B</th>\n",
       "      <td>6616</td>\n",
       "      <td>767</td>\n",
       "      <td>67170000</td>\n",
       "      <td>11.59</td>\n",
       "      <td>87575.0</td>\n",
       "      <td>35894</td>\n",
       "      <td>4217</td>\n",
       "      <td>369390000</td>\n",
       "      <td>11.75</td>\n",
       "      <td>87595.0</td>\n",
       "    </tr>\n",
       "    <tr>\n",
       "      <th rowspan=\"2\" valign=\"top\">2021-01-08</th>\n",
       "      <th>A</th>\n",
       "      <td>6687</td>\n",
       "      <td>798</td>\n",
       "      <td>65380000</td>\n",
       "      <td>11.93</td>\n",
       "      <td>81930.0</td>\n",
       "      <td>42321</td>\n",
       "      <td>5053</td>\n",
       "      <td>416290000</td>\n",
       "      <td>11.94</td>\n",
       "      <td>82385.0</td>\n",
       "    </tr>\n",
       "    <tr>\n",
       "      <th>B</th>\n",
       "      <td>6714</td>\n",
       "      <td>812</td>\n",
       "      <td>71270000</td>\n",
       "      <td>12.09</td>\n",
       "      <td>87771.0</td>\n",
       "      <td>42608</td>\n",
       "      <td>5029</td>\n",
       "      <td>440660000</td>\n",
       "      <td>11.80</td>\n",
       "      <td>87624.0</td>\n",
       "    </tr>\n",
       "    <tr>\n",
       "      <th rowspan=\"2\" valign=\"top\">2021-01-09</th>\n",
       "      <th>A</th>\n",
       "      <td>6633</td>\n",
       "      <td>794</td>\n",
       "      <td>65610000</td>\n",
       "      <td>11.97</td>\n",
       "      <td>82632.0</td>\n",
       "      <td>48954</td>\n",
       "      <td>5847</td>\n",
       "      <td>481900000</td>\n",
       "      <td>11.94</td>\n",
       "      <td>82418.0</td>\n",
       "    </tr>\n",
       "    <tr>\n",
       "      <th>B</th>\n",
       "      <td>6628</td>\n",
       "      <td>784</td>\n",
       "      <td>71410000</td>\n",
       "      <td>11.83</td>\n",
       "      <td>91084.0</td>\n",
       "      <td>49236</td>\n",
       "      <td>5813</td>\n",
       "      <td>512070000</td>\n",
       "      <td>11.81</td>\n",
       "      <td>88090.0</td>\n",
       "    </tr>\n",
       "    <tr>\n",
       "      <th rowspan=\"2\" valign=\"top\">2021-01-10</th>\n",
       "      <th>A</th>\n",
       "      <td>6659</td>\n",
       "      <td>759</td>\n",
       "      <td>58950000</td>\n",
       "      <td>11.40</td>\n",
       "      <td>77668.0</td>\n",
       "      <td>55613</td>\n",
       "      <td>6606</td>\n",
       "      <td>540850000</td>\n",
       "      <td>11.88</td>\n",
       "      <td>81873.0</td>\n",
       "    </tr>\n",
       "    <tr>\n",
       "      <th>B</th>\n",
       "      <td>6701</td>\n",
       "      <td>846</td>\n",
       "      <td>78080000</td>\n",
       "      <td>12.62</td>\n",
       "      <td>92293.0</td>\n",
       "      <td>55937</td>\n",
       "      <td>6659</td>\n",
       "      <td>590150000</td>\n",
       "      <td>11.90</td>\n",
       "      <td>88624.0</td>\n",
       "    </tr>\n",
       "    <tr>\n",
       "      <th rowspan=\"2\" valign=\"top\">2021-01-11</th>\n",
       "      <th>A</th>\n",
       "      <td>6699</td>\n",
       "      <td>797</td>\n",
       "      <td>58760000</td>\n",
       "      <td>11.90</td>\n",
       "      <td>73726.0</td>\n",
       "      <td>62312</td>\n",
       "      <td>7403</td>\n",
       "      <td>599610000</td>\n",
       "      <td>11.88</td>\n",
       "      <td>80996.0</td>\n",
       "    </tr>\n",
       "    <tr>\n",
       "      <th>B</th>\n",
       "      <td>6679</td>\n",
       "      <td>770</td>\n",
       "      <td>66960000</td>\n",
       "      <td>11.53</td>\n",
       "      <td>86961.0</td>\n",
       "      <td>62616</td>\n",
       "      <td>7429</td>\n",
       "      <td>657110000</td>\n",
       "      <td>11.86</td>\n",
       "      <td>88452.0</td>\n",
       "    </tr>\n",
       "    <tr>\n",
       "      <th rowspan=\"2\" valign=\"top\">2021-01-12</th>\n",
       "      <th>A</th>\n",
       "      <td>6540</td>\n",
       "      <td>795</td>\n",
       "      <td>68460000</td>\n",
       "      <td>12.16</td>\n",
       "      <td>86113.0</td>\n",
       "      <td>68852</td>\n",
       "      <td>8198</td>\n",
       "      <td>668070000</td>\n",
       "      <td>11.91</td>\n",
       "      <td>81492.0</td>\n",
       "    </tr>\n",
       "    <tr>\n",
       "      <th>B</th>\n",
       "      <td>6635</td>\n",
       "      <td>807</td>\n",
       "      <td>70560000</td>\n",
       "      <td>12.16</td>\n",
       "      <td>87435.0</td>\n",
       "      <td>69251</td>\n",
       "      <td>8236</td>\n",
       "      <td>727670000</td>\n",
       "      <td>11.89</td>\n",
       "      <td>88352.0</td>\n",
       "    </tr>\n",
       "    <tr>\n",
       "      <th rowspan=\"2\" valign=\"top\">2021-01-13</th>\n",
       "      <th>A</th>\n",
       "      <td>6564</td>\n",
       "      <td>764</td>\n",
       "      <td>63590000</td>\n",
       "      <td>11.64</td>\n",
       "      <td>83233.0</td>\n",
       "      <td>75416</td>\n",
       "      <td>8962</td>\n",
       "      <td>731660000</td>\n",
       "      <td>11.88</td>\n",
       "      <td>81640.0</td>\n",
       "    </tr>\n",
       "    <tr>\n",
       "      <th>B</th>\n",
       "      <td>6495</td>\n",
       "      <td>720</td>\n",
       "      <td>65910000</td>\n",
       "      <td>11.09</td>\n",
       "      <td>91542.0</td>\n",
       "      <td>75746</td>\n",
       "      <td>8956</td>\n",
       "      <td>793580000</td>\n",
       "      <td>11.82</td>\n",
       "      <td>88609.0</td>\n",
       "    </tr>\n",
       "    <tr>\n",
       "      <th rowspan=\"2\" valign=\"top\">2021-01-14</th>\n",
       "      <th>A</th>\n",
       "      <td>6543</td>\n",
       "      <td>825</td>\n",
       "      <td>65890000</td>\n",
       "      <td>12.61</td>\n",
       "      <td>79867.0</td>\n",
       "      <td>81959</td>\n",
       "      <td>9787</td>\n",
       "      <td>797550000</td>\n",
       "      <td>11.94</td>\n",
       "      <td>81491.0</td>\n",
       "    </tr>\n",
       "    <tr>\n",
       "      <th>B</th>\n",
       "      <td>6608</td>\n",
       "      <td>792</td>\n",
       "      <td>68990000</td>\n",
       "      <td>11.99</td>\n",
       "      <td>87109.0</td>\n",
       "      <td>82354</td>\n",
       "      <td>9748</td>\n",
       "      <td>862570000</td>\n",
       "      <td>11.84</td>\n",
       "      <td>88487.0</td>\n",
       "    </tr>\n",
       "    <tr>\n",
       "      <th rowspan=\"2\" valign=\"top\">2021-01-15</th>\n",
       "      <th>A</th>\n",
       "      <td>6701</td>\n",
       "      <td>806</td>\n",
       "      <td>67570000</td>\n",
       "      <td>12.03</td>\n",
       "      <td>83834.0</td>\n",
       "      <td>88660</td>\n",
       "      <td>10593</td>\n",
       "      <td>865120000</td>\n",
       "      <td>11.95</td>\n",
       "      <td>81669.0</td>\n",
       "    </tr>\n",
       "    <tr>\n",
       "      <th>B</th>\n",
       "      <td>6563</td>\n",
       "      <td>747</td>\n",
       "      <td>69160000</td>\n",
       "      <td>11.38</td>\n",
       "      <td>92584.0</td>\n",
       "      <td>88917</td>\n",
       "      <td>10495</td>\n",
       "      <td>931730000</td>\n",
       "      <td>11.80</td>\n",
       "      <td>88778.0</td>\n",
       "    </tr>\n",
       "    <tr>\n",
       "      <th rowspan=\"2\" valign=\"top\">2021-01-16</th>\n",
       "      <th>A</th>\n",
       "      <td>6601</td>\n",
       "      <td>808</td>\n",
       "      <td>66210000</td>\n",
       "      <td>12.24</td>\n",
       "      <td>81943.0</td>\n",
       "      <td>95261</td>\n",
       "      <td>11401</td>\n",
       "      <td>931330000</td>\n",
       "      <td>11.97</td>\n",
       "      <td>81688.0</td>\n",
       "    </tr>\n",
       "    <tr>\n",
       "      <th>B</th>\n",
       "      <td>6544</td>\n",
       "      <td>786</td>\n",
       "      <td>70560000</td>\n",
       "      <td>12.01</td>\n",
       "      <td>89771.0</td>\n",
       "      <td>95461</td>\n",
       "      <td>11281</td>\n",
       "      <td>1002290000</td>\n",
       "      <td>11.82</td>\n",
       "      <td>88848.0</td>\n",
       "    </tr>\n",
       "    <tr>\n",
       "      <th rowspan=\"2\" valign=\"top\">2021-01-17</th>\n",
       "      <th>A</th>\n",
       "      <td>6619</td>\n",
       "      <td>809</td>\n",
       "      <td>63020000</td>\n",
       "      <td>12.22</td>\n",
       "      <td>77899.0</td>\n",
       "      <td>101880</td>\n",
       "      <td>12210</td>\n",
       "      <td>994350000</td>\n",
       "      <td>11.98</td>\n",
       "      <td>81437.0</td>\n",
       "    </tr>\n",
       "    <tr>\n",
       "      <th>B</th>\n",
       "      <td>6546</td>\n",
       "      <td>831</td>\n",
       "      <td>75300000</td>\n",
       "      <td>12.69</td>\n",
       "      <td>90614.0</td>\n",
       "      <td>102007</td>\n",
       "      <td>12112</td>\n",
       "      <td>1077590000</td>\n",
       "      <td>11.87</td>\n",
       "      <td>88969.0</td>\n",
       "    </tr>\n",
       "    <tr>\n",
       "      <th rowspan=\"2\" valign=\"top\">2021-01-18</th>\n",
       "      <th>A</th>\n",
       "      <td>6511</td>\n",
       "      <td>812</td>\n",
       "      <td>62850000</td>\n",
       "      <td>12.47</td>\n",
       "      <td>77401.0</td>\n",
       "      <td>108391</td>\n",
       "      <td>13022</td>\n",
       "      <td>1057200000</td>\n",
       "      <td>12.01</td>\n",
       "      <td>81186.0</td>\n",
       "    </tr>\n",
       "    <tr>\n",
       "      <th>B</th>\n",
       "      <td>6603</td>\n",
       "      <td>822</td>\n",
       "      <td>72240000</td>\n",
       "      <td>12.45</td>\n",
       "      <td>87883.0</td>\n",
       "      <td>108610</td>\n",
       "      <td>12934</td>\n",
       "      <td>1149830000</td>\n",
       "      <td>11.91</td>\n",
       "      <td>88900.0</td>\n",
       "    </tr>\n",
       "    <tr>\n",
       "      <th rowspan=\"2\" valign=\"top\">2021-01-19</th>\n",
       "      <th>A</th>\n",
       "      <td>6582</td>\n",
       "      <td>790</td>\n",
       "      <td>63680000</td>\n",
       "      <td>12.00</td>\n",
       "      <td>80608.0</td>\n",
       "      <td>114973</td>\n",
       "      <td>13812</td>\n",
       "      <td>1120880000</td>\n",
       "      <td>12.01</td>\n",
       "      <td>81153.0</td>\n",
       "    </tr>\n",
       "    <tr>\n",
       "      <th>B</th>\n",
       "      <td>6562</td>\n",
       "      <td>772</td>\n",
       "      <td>67820000</td>\n",
       "      <td>11.76</td>\n",
       "      <td>87850.0</td>\n",
       "      <td>115172</td>\n",
       "      <td>13706</td>\n",
       "      <td>1217650000</td>\n",
       "      <td>11.90</td>\n",
       "      <td>88841.0</td>\n",
       "    </tr>\n",
       "    <tr>\n",
       "      <th rowspan=\"2\" valign=\"top\">2021-01-20</th>\n",
       "      <th>A</th>\n",
       "      <td>6533</td>\n",
       "      <td>749</td>\n",
       "      <td>58710000</td>\n",
       "      <td>11.46</td>\n",
       "      <td>78385.0</td>\n",
       "      <td>121506</td>\n",
       "      <td>14561</td>\n",
       "      <td>1179590000</td>\n",
       "      <td>11.98</td>\n",
       "      <td>81010.0</td>\n",
       "    </tr>\n",
       "    <tr>\n",
       "      <th>B</th>\n",
       "      <td>6685</td>\n",
       "      <td>790</td>\n",
       "      <td>69250000</td>\n",
       "      <td>11.82</td>\n",
       "      <td>87658.0</td>\n",
       "      <td>121857</td>\n",
       "      <td>14496</td>\n",
       "      <td>1286900000</td>\n",
       "      <td>11.90</td>\n",
       "      <td>88776.0</td>\n",
       "    </tr>\n",
       "    <tr>\n",
       "      <th rowspan=\"2\" valign=\"top\">2021-01-21</th>\n",
       "      <th>A</th>\n",
       "      <td>6750</td>\n",
       "      <td>851</td>\n",
       "      <td>70300000</td>\n",
       "      <td>12.61</td>\n",
       "      <td>82609.0</td>\n",
       "      <td>128256</td>\n",
       "      <td>15412</td>\n",
       "      <td>1249890000</td>\n",
       "      <td>12.02</td>\n",
       "      <td>81098.0</td>\n",
       "    </tr>\n",
       "    <tr>\n",
       "      <th>B</th>\n",
       "      <td>6555</td>\n",
       "      <td>760</td>\n",
       "      <td>69870000</td>\n",
       "      <td>11.59</td>\n",
       "      <td>91934.0</td>\n",
       "      <td>128412</td>\n",
       "      <td>15256</td>\n",
       "      <td>1356770000</td>\n",
       "      <td>11.88</td>\n",
       "      <td>88934.0</td>\n",
       "    </tr>\n",
       "    <tr>\n",
       "      <th rowspan=\"2\" valign=\"top\">2021-01-22</th>\n",
       "      <th>A</th>\n",
       "      <td>6587</td>\n",
       "      <td>788</td>\n",
       "      <td>63690000</td>\n",
       "      <td>11.96</td>\n",
       "      <td>80825.0</td>\n",
       "      <td>134843</td>\n",
       "      <td>16200</td>\n",
       "      <td>1313580000</td>\n",
       "      <td>12.01</td>\n",
       "      <td>81085.0</td>\n",
       "    </tr>\n",
       "    <tr>\n",
       "      <th>B</th>\n",
       "      <td>6659</td>\n",
       "      <td>787</td>\n",
       "      <td>68660000</td>\n",
       "      <td>11.82</td>\n",
       "      <td>87243.0</td>\n",
       "      <td>135071</td>\n",
       "      <td>16043</td>\n",
       "      <td>1425430000</td>\n",
       "      <td>11.88</td>\n",
       "      <td>88851.0</td>\n",
       "    </tr>\n",
       "    <tr>\n",
       "      <th rowspan=\"2\" valign=\"top\">2021-01-23</th>\n",
       "      <th>A</th>\n",
       "      <td>6698</td>\n",
       "      <td>843</td>\n",
       "      <td>70950000</td>\n",
       "      <td>12.59</td>\n",
       "      <td>84164.0</td>\n",
       "      <td>141541</td>\n",
       "      <td>17043</td>\n",
       "      <td>1384530000</td>\n",
       "      <td>12.04</td>\n",
       "      <td>81237.0</td>\n",
       "    </tr>\n",
       "    <tr>\n",
       "      <th>B</th>\n",
       "      <td>6633</td>\n",
       "      <td>805</td>\n",
       "      <td>68930000</td>\n",
       "      <td>12.14</td>\n",
       "      <td>85627.0</td>\n",
       "      <td>141704</td>\n",
       "      <td>16848</td>\n",
       "      <td>1494360000</td>\n",
       "      <td>11.89</td>\n",
       "      <td>88697.0</td>\n",
       "    </tr>\n",
       "    <tr>\n",
       "      <th rowspan=\"2\" valign=\"top\">2021-01-24</th>\n",
       "      <th>A</th>\n",
       "      <td>3766</td>\n",
       "      <td>444</td>\n",
       "      <td>33250000</td>\n",
       "      <td>11.79</td>\n",
       "      <td>74887.0</td>\n",
       "      <td>145307</td>\n",
       "      <td>17487</td>\n",
       "      <td>1417780000</td>\n",
       "      <td>12.03</td>\n",
       "      <td>81076.0</td>\n",
       "    </tr>\n",
       "    <tr>\n",
       "      <th>B</th>\n",
       "      <td>3677</td>\n",
       "      <td>442</td>\n",
       "      <td>38650000</td>\n",
       "      <td>12.02</td>\n",
       "      <td>87443.0</td>\n",
       "      <td>145381</td>\n",
       "      <td>17290</td>\n",
       "      <td>1533010000</td>\n",
       "      <td>11.89</td>\n",
       "      <td>88665.0</td>\n",
       "    </tr>\n",
       "  </tbody>\n",
       "</table>\n",
       "</div>"
      ],
      "text/plain": [
       "                  user_id  purchase     price  conversion  mean_check  \\\n",
       "date       group                                                        \n",
       "2021-01-02 A         2854       359  29410000       12.58     81922.0   \n",
       "           B         2861       345  29660000       12.06     85971.0   \n",
       "2021-01-03 A         6596       748  62000000       11.34     82888.0   \n",
       "           B         6619       754  65960000       11.39     87480.0   \n",
       "2021-01-04 A         6566       799  64250000       12.17     80413.0   \n",
       "           B         6536       764  68030000       11.69     89045.0   \n",
       "2021-01-05 A         6433       790  64550000       12.28     81709.0   \n",
       "           B         6511       749  63550000       11.50     84846.0   \n",
       "2021-01-06 A         6606       764  63410000       11.57     82997.0   \n",
       "           B         6751       838  75020000       12.41     89523.0   \n",
       "2021-01-07 A         6579       795  67290000       12.08     84642.0   \n",
       "           B         6616       767  67170000       11.59     87575.0   \n",
       "2021-01-08 A         6687       798  65380000       11.93     81930.0   \n",
       "           B         6714       812  71270000       12.09     87771.0   \n",
       "2021-01-09 A         6633       794  65610000       11.97     82632.0   \n",
       "           B         6628       784  71410000       11.83     91084.0   \n",
       "2021-01-10 A         6659       759  58950000       11.40     77668.0   \n",
       "           B         6701       846  78080000       12.62     92293.0   \n",
       "2021-01-11 A         6699       797  58760000       11.90     73726.0   \n",
       "           B         6679       770  66960000       11.53     86961.0   \n",
       "2021-01-12 A         6540       795  68460000       12.16     86113.0   \n",
       "           B         6635       807  70560000       12.16     87435.0   \n",
       "2021-01-13 A         6564       764  63590000       11.64     83233.0   \n",
       "           B         6495       720  65910000       11.09     91542.0   \n",
       "2021-01-14 A         6543       825  65890000       12.61     79867.0   \n",
       "           B         6608       792  68990000       11.99     87109.0   \n",
       "2021-01-15 A         6701       806  67570000       12.03     83834.0   \n",
       "           B         6563       747  69160000       11.38     92584.0   \n",
       "2021-01-16 A         6601       808  66210000       12.24     81943.0   \n",
       "           B         6544       786  70560000       12.01     89771.0   \n",
       "2021-01-17 A         6619       809  63020000       12.22     77899.0   \n",
       "           B         6546       831  75300000       12.69     90614.0   \n",
       "2021-01-18 A         6511       812  62850000       12.47     77401.0   \n",
       "           B         6603       822  72240000       12.45     87883.0   \n",
       "2021-01-19 A         6582       790  63680000       12.00     80608.0   \n",
       "           B         6562       772  67820000       11.76     87850.0   \n",
       "2021-01-20 A         6533       749  58710000       11.46     78385.0   \n",
       "           B         6685       790  69250000       11.82     87658.0   \n",
       "2021-01-21 A         6750       851  70300000       12.61     82609.0   \n",
       "           B         6555       760  69870000       11.59     91934.0   \n",
       "2021-01-22 A         6587       788  63690000       11.96     80825.0   \n",
       "           B         6659       787  68660000       11.82     87243.0   \n",
       "2021-01-23 A         6698       843  70950000       12.59     84164.0   \n",
       "           B         6633       805  68930000       12.14     85627.0   \n",
       "2021-01-24 A         3766       444  33250000       11.79     74887.0   \n",
       "           B         3677       442  38650000       12.02     87443.0   \n",
       "\n",
       "                  cum_visits  cum_purchase   cum_price  cum_conversion  \\\n",
       "date       group                                                         \n",
       "2021-01-02 A            2854           359    29410000           12.58   \n",
       "           B            2861           345    29660000           12.06   \n",
       "2021-01-03 A            9450          1107    91410000           11.71   \n",
       "           B            9480          1099    95620000           11.59   \n",
       "2021-01-04 A           16016          1906   155660000           11.90   \n",
       "           B           16016          1863   163650000           11.63   \n",
       "2021-01-05 A           22449          2696   220210000           12.01   \n",
       "           B           22527          2612   227200000           11.59   \n",
       "2021-01-06 A           29055          3460   283620000           11.91   \n",
       "           B           29278          3450   302220000           11.78   \n",
       "2021-01-07 A           35634          4255   350910000           11.94   \n",
       "           B           35894          4217   369390000           11.75   \n",
       "2021-01-08 A           42321          5053   416290000           11.94   \n",
       "           B           42608          5029   440660000           11.80   \n",
       "2021-01-09 A           48954          5847   481900000           11.94   \n",
       "           B           49236          5813   512070000           11.81   \n",
       "2021-01-10 A           55613          6606   540850000           11.88   \n",
       "           B           55937          6659   590150000           11.90   \n",
       "2021-01-11 A           62312          7403   599610000           11.88   \n",
       "           B           62616          7429   657110000           11.86   \n",
       "2021-01-12 A           68852          8198   668070000           11.91   \n",
       "           B           69251          8236   727670000           11.89   \n",
       "2021-01-13 A           75416          8962   731660000           11.88   \n",
       "           B           75746          8956   793580000           11.82   \n",
       "2021-01-14 A           81959          9787   797550000           11.94   \n",
       "           B           82354          9748   862570000           11.84   \n",
       "2021-01-15 A           88660         10593   865120000           11.95   \n",
       "           B           88917         10495   931730000           11.80   \n",
       "2021-01-16 A           95261         11401   931330000           11.97   \n",
       "           B           95461         11281  1002290000           11.82   \n",
       "2021-01-17 A          101880         12210   994350000           11.98   \n",
       "           B          102007         12112  1077590000           11.87   \n",
       "2021-01-18 A          108391         13022  1057200000           12.01   \n",
       "           B          108610         12934  1149830000           11.91   \n",
       "2021-01-19 A          114973         13812  1120880000           12.01   \n",
       "           B          115172         13706  1217650000           11.90   \n",
       "2021-01-20 A          121506         14561  1179590000           11.98   \n",
       "           B          121857         14496  1286900000           11.90   \n",
       "2021-01-21 A          128256         15412  1249890000           12.02   \n",
       "           B          128412         15256  1356770000           11.88   \n",
       "2021-01-22 A          134843         16200  1313580000           12.01   \n",
       "           B          135071         16043  1425430000           11.88   \n",
       "2021-01-23 A          141541         17043  1384530000           12.04   \n",
       "           B          141704         16848  1494360000           11.89   \n",
       "2021-01-24 A          145307         17487  1417780000           12.03   \n",
       "           B          145381         17290  1533010000           11.89   \n",
       "\n",
       "                  cum_check  \n",
       "date       group             \n",
       "2021-01-02 A        81922.0  \n",
       "           B        85971.0  \n",
       "2021-01-03 A        82575.0  \n",
       "           B        87006.0  \n",
       "2021-01-04 A        81668.0  \n",
       "           B        87842.0  \n",
       "2021-01-05 A        81680.0  \n",
       "           B        86983.0  \n",
       "2021-01-06 A        81971.0  \n",
       "           B        87600.0  \n",
       "2021-01-07 A        82470.0  \n",
       "           B        87595.0  \n",
       "2021-01-08 A        82385.0  \n",
       "           B        87624.0  \n",
       "2021-01-09 A        82418.0  \n",
       "           B        88090.0  \n",
       "2021-01-10 A        81873.0  \n",
       "           B        88624.0  \n",
       "2021-01-11 A        80996.0  \n",
       "           B        88452.0  \n",
       "2021-01-12 A        81492.0  \n",
       "           B        88352.0  \n",
       "2021-01-13 A        81640.0  \n",
       "           B        88609.0  \n",
       "2021-01-14 A        81491.0  \n",
       "           B        88487.0  \n",
       "2021-01-15 A        81669.0  \n",
       "           B        88778.0  \n",
       "2021-01-16 A        81688.0  \n",
       "           B        88848.0  \n",
       "2021-01-17 A        81437.0  \n",
       "           B        88969.0  \n",
       "2021-01-18 A        81186.0  \n",
       "           B        88900.0  \n",
       "2021-01-19 A        81153.0  \n",
       "           B        88841.0  \n",
       "2021-01-20 A        81010.0  \n",
       "           B        88776.0  \n",
       "2021-01-21 A        81098.0  \n",
       "           B        88934.0  \n",
       "2021-01-22 A        81085.0  \n",
       "           B        88851.0  \n",
       "2021-01-23 A        81237.0  \n",
       "           B        88697.0  \n",
       "2021-01-24 A        81076.0  \n",
       "           B        88665.0  "
      ]
     },
     "execution_count": 13,
     "metadata": {},
     "output_type": "execute_result"
    }
   ],
   "source": [
    "# ваш код здесь\n",
    "daily_data['cum_visits'] = daily_data.groupby(['group'])['user_id'].cumsum()\n",
    "daily_data['cum_purchase'] = daily_data.groupby(['group'])['purchase'].cumsum()\n",
    "daily_data['cum_price'] = daily_data.groupby(['group'])['price'].cumsum()\n",
    "daily_data['cum_conversion'] = round(daily_data['cum_purchase']/daily_data['cum_visits']*100, 2)\n",
    "daily_data['cum_check'] = round(daily_data['cum_price']/daily_data['cum_purchase'])\n",
    "daily_data"
   ]
  },
  {
   "cell_type": "markdown",
   "id": "c252b8ba-371b-4795-8fc3-a62317e9ba39",
   "metadata": {},
   "source": [
    "Постройте кумулятивные графики конверсии и среднего чека в каждой группе по дням. Сделайте выводы. Можно ли назвать A/B-тест завершенным - стабилизировались ли значения метрик во времени? Как соотносятся кумулятивные показатели в каждой группе?"
   ]
  },
  {
   "cell_type": "code",
   "execution_count": 14,
   "id": "27e23d20-7ed6-4a26-973d-6d0320b81adb",
   "metadata": {},
   "outputs": [
    {
     "data": {
      "text/plain": [
       "Text(0.5, 1.0, 'Кумулятивный график среднего чека по группам')"
      ]
     },
     "execution_count": 14,
     "metadata": {},
     "output_type": "execute_result"
    },
    {
     "data": {
      "image/png": "[encoded data removed]",
      "text/plain": [
       "<Figure size 1200x1000 with 2 Axes>"
      ]
     },
     "metadata": {},
     "output_type": "display_data"
    }
   ],
   "source": [
    "# ваш код здесь\n",
    "fig, axes = plt.subplots(2, 1, figsize=(12, 10))\n",
    "sns.lineplot(data=daily_data, x='date', y='cum_conversion', hue='group', ax=axes[0])\n",
    "sns.lineplot(data=daily_data, x='date', y='cum_check', hue='group', ax=axes[1] )\n",
    "axes[0].set_title('Кумулятивный график конверсии по группам')\n",
    "axes[1].set_title('Кумулятивный график среднего чека по группам')"
   ]
  },
  {
   "attachments": {},
   "cell_type": "markdown",
   "id": "f645f8e5-ad16-4b3b-8228-fbdeeb286833",
   "metadata": {},
   "source": [
    "Вывод: на данных графиках мы видим сильные колебания в начале тестирования и плавную стабилизацию в процессе. \n",
    "\n",
    "График конверсий стабилизировался после 13 января и можно с уверенностью сказать, что на протяжении всего времени группа В имеет меньшую конверсию, чем группа А. \n",
    "\n",
    "График среднего чека отличается большей плавностью, однако тут тоже можно отметить более резкие перепады со 2 по 11 января, сменяющиеся относительно ровными линиями.\n",
    "\n",
    "Сам факт стабилизации графиков говорит о том, что длительность тестирования была достаточной и его можно считать завершенным."
   ]
  },
  {
   "cell_type": "markdown",
   "id": "2ecaa382-56e2-47f4-b086-24b4742570a3",
   "metadata": {
    "tags": []
   },
   "source": [
    "## **Задание 7.10.**\n",
    "\n",
    "Настало время переходить к проверке статистической значимости разницы между метриками в группах. Начнем с конверсии.\n",
    "\n",
    "Какой тест вы примените для проверки гипотезы о равенстве конверсий в группах?\n",
    "\n",
    "Проведите тестирование при следующих нулевой и альтернативной гипотезе:\n",
    "* $H_0$: Конверсии в группах А и B равны; \n",
    "* $H_1$: Конверсия в группе А больше чем конверсия в группе B;\n",
    "\n",
    "Вычислите p-value вашего теста для конверсий в группах А и B. Сравните полученное значение p-value с уровнем значимости $\\alpha$=0.05. "
   ]
  },
  {
   "cell_type": "code",
   "execution_count": 15,
   "id": "9dd1f6fd-2fa0-4a2f-8181-dbed4c302bce",
   "metadata": {},
   "outputs": [
    {
     "name": "stdout",
     "output_type": "stream",
     "text": [
      "p-value: 0.12\n",
      "Принимаем нулевую гипотезу: Конверсии в группах А и В равны\n"
     ]
    }
   ],
   "source": [
    "# ваш код здесь\n",
    "purchase_piv = updated_data.groupby(['group'])['purchase'].agg(['sum', 'count'])\n",
    "\n",
    "H0 = 'Конверсии в группах А и В равны'\n",
    "H1 = 'Конверсия в группе А больше, чем конверсия в группе В'\n",
    "alpha = 0.05\n",
    "\n",
    "_,p_value = proportions_ztest(count=purchase_piv['sum'], nobs=purchase_piv['count'], alternative='larger')\n",
    "print('p-value:', round(p_value, 2))\n",
    "\n",
    "if p_value<alpha:\n",
    "    print('Отвергаем нулевую гипотезу. {}'.format(H1))\n",
    "else:\n",
    "    print('Принимаем нулевую гипотезу: {}'.format(H0))"
   ]
  },
  {
   "cell_type": "markdown",
   "id": "da794b48-80e3-47af-aceb-084a1862c86b",
   "metadata": {},
   "source": [
    "Приведите свои выводы по результатам проведенного статистического теста. Есть ли статистическая разница между конверсиями в группах А и B?"
   ]
  },
  {
   "attachments": {},
   "cell_type": "markdown",
   "id": "75dddb06-389d-4d65-92c7-425efa28e51a",
   "metadata": {},
   "source": [
    "Вывод: по проведенному Z-тесту можно сказать, что результаты являются статистически незначимыми и опровергнуть нулевую гипотезу о равенстве конверсий не представляется возможным."
   ]
  },
  {
   "cell_type": "markdown",
   "id": "32c5a1af-8cb2-4f3c-a126-410b70fb3ff3",
   "metadata": {
    "tags": []
   },
   "source": [
    "## **Задание 7.11.**\n",
    "Убедитесь в своих рассуждениях, построив 95%-ый доверительный интервал для конверсий и разницы между ними. Используйте $z_{крит}$ в своих расчетах\n",
    "\n",
    "Укажите нижнюю и верхнюю границы доверительных интервалов. Границы приведите в процентах и округлите до 2 знака после запятой. Например: нижняя граница 89.24%, верхняя граница 91.25%."
   ]
  },
  {
   "cell_type": "code",
   "execution_count": 16,
   "id": "e9decb7d-ff5e-40a6-8b71-63627c4ef64a",
   "metadata": {},
   "outputs": [
    {
     "name": "stdout",
     "output_type": "stream",
     "text": [
      "Доверительный интервал для конверсии группы А: (11.87, 12.2)\n",
      "Доверительный интервал для конверсии группы B: (11.73, 12.06)\n"
     ]
    }
   ],
   "source": [
    "# ваш код здесь\n",
    "a_data = updated_data[updated_data['group']=='A']\n",
    "b_data = updated_data[updated_data['group']=='B']\n",
    "\n",
    "def prop_conf_int(n, xp, gamma):\n",
    "    alpha = 1-gamma\n",
    "    z_crit = -norm.ppf(alpha/2)\n",
    "    eps = z_crit*(xp*(1-xp)/n)**0.5\n",
    "    lower_bound = xp-eps\n",
    "    upper_bound = xp+eps\n",
    "    return round(lower_bound*100, 2), round(upper_bound*100, 2)\n",
    "\n",
    "conf_interval_a = prop_conf_int(n=a_data['user_id'].count(), xp=a_data['purchase'].mean(), gamma=0.95)\n",
    "conf_interval_b = prop_conf_int(n=b_data['user_id'].count(), xp=b_data['purchase'].mean(), gamma=0.95)\n",
    "print('Доверительный интервал для конверсии группы А: {}'.format(conf_interval_a))\n",
    "print('Доверительный интервал для конверсии группы B: {}'.format(conf_interval_b))"
   ]
  },
  {
   "cell_type": "code",
   "execution_count": 17,
   "id": "d1bc3227",
   "metadata": {},
   "outputs": [
    {
     "name": "stdout",
     "output_type": "stream",
     "text": [
      "Доверительный интервал для разности конверсий: (-0.38, 0.09)\n"
     ]
    }
   ],
   "source": [
    "def diff_prop_conf_int(n, xp, gamma):\n",
    "    alpha = 1 - gamma \n",
    "    diff = xp[1] - xp[0] \n",
    "    z_crit = -norm.ppf(alpha/2) \n",
    "    eps = z_crit * (xp[0] * (1 - xp[0])/n[0] + xp[1] * (1 - xp[1])/n[1]) ** 0.5 \n",
    "    lower_bound = diff - eps\n",
    "    upper_bound = diff + eps \n",
    "    return round(lower_bound *100, 2), round(upper_bound * 100, 2)\n",
    "\n",
    "n = [a_data['user_id'].count(), b_data['user_id'].count()]\n",
    "xp = [a_data['purchase'].mean(), b_data['purchase'].mean()]\n",
    "gamma = 0.95\n",
    "\n",
    "diff_inverval = diff_prop_conf_int(n, xp, gamma)\n",
    "print('Доверительный интервал для разности конверсий: {}'.format(diff_inverval))"
   ]
  },
  {
   "cell_type": "markdown",
   "id": "9332372d-66b2-45e9-a74c-f5d8b1d44afb",
   "metadata": {},
   "source": [
    "Проинтерпретируйте построенные доверительные интервалы для конверсий в группах. Есть ли перекрытие между доверительными интервалами для групп? Есть ли статистическая разница между конверсиями в группах А и B?"
   ]
  },
  {
   "attachments": {},
   "cell_type": "markdown",
   "id": "d2833c4c",
   "metadata": {},
   "source": [
    "Вывод: получив значения доверительных интервалов конверсий, мы увидели их пересечение. Это значит, что нельзя однозначно сказать, есть ли разница в конверсиях. Для этого был вычислен доверительный интервал разности конверсий. Результат охватывает точку ноль, а следовательно вариант А и вариант В являются равнозначными по метрике конверсии."
   ]
  },
  {
   "cell_type": "markdown",
   "id": "73c54883-b919-4889-bbf2-e1bdeb0b7055",
   "metadata": {},
   "source": [
    "## **Задание 7.12.**\n",
    "\n",
    "Ранее мы построили таблицу с ежедневными показателями. Теперь она нам снова понадобится, так как нас интересует ежедневный средний чек.\n",
    "\n",
    "Проверьте гипотезу о нормальности распределения ежедневного среднего чека в каждой из групп тестирования. \n",
    "\n",
    "* Какой тест вы примените  для проверки гипотезы о нормальности распределения ежедневного среднего чека?\n",
    "* Как будут звучать нулевая и альтернативная гипотезы?\n",
    "* Каковы результаты статистического теста с уровнем значимости $\\alpha$ =0.05?"
   ]
  },
  {
   "cell_type": "code",
   "execution_count": 18,
   "id": "bf791bf8",
   "metadata": {},
   "outputs": [],
   "source": [
    "data_a = updated_data[updated_data['group']=='A']\n",
    "daily_data_a = data_a.groupby(['date']).agg({'user_id':'count', 'purchase':'sum', 'price':'sum'})\n",
    "daily_data_a['mean_check'] = round(daily_data_a['price']/daily_data_a['purchase'])\n",
    "\n",
    "data_b = updated_data[updated_data['group']=='B']\n",
    "daily_data_b = data_b.groupby(['date']).agg({'user_id':'count', 'purchase':'sum', 'price':'sum'})\n",
    "daily_data_b['mean_check'] = round(daily_data_b['price']/daily_data_b['purchase'])"
   ]
  },
  {
   "cell_type": "code",
   "execution_count": 19,
   "id": "898041ae-de7e-4b74-975e-111d494fbb82",
   "metadata": {},
   "outputs": [
    {
     "name": "stdout",
     "output_type": "stream",
     "text": [
      "p-value группы А: 0.25\n",
      "p-value группы В: 0.09\n",
      "Принимаем нулевую гипотезу: Распределение нормальное\n"
     ]
    }
   ],
   "source": [
    "# ваш код здесь\n",
    "H0 = 'Распределение нормальное'\n",
    "H1 = 'Распределение отлично от нормального'\n",
    "alpha = 0.05\n",
    "shapiro_a = shapiro(daily_data_a['mean_check'])\n",
    "shapiro_b = shapiro(daily_data_b['mean_check'])\n",
    "print('p-value группы А:', round(shapiro_a.pvalue, 2))\n",
    "print('p-value группы В:', round(shapiro_b.pvalue, 2))\n",
    "if shapiro_a.pvalue<alpha or shapiro_b.pvalue<alpha:\n",
    "    print('Отвергаем нулевую гипотезу. {}'.format(H1))\n",
    "else:\n",
    "    print('Принимаем нулевую гипотезу: {}'.format(H0))\n",
    "    "
   ]
  },
  {
   "cell_type": "markdown",
   "id": "cbddecf9-4d15-4ff1-84e9-46c4d98fc1e0",
   "metadata": {
    "tags": []
   },
   "source": [
    "## **Задание 7.13.**\n",
    "Настало время сравнить варианты дизайна страницы по метрике среднего чека. \n",
    "\n",
    "Какой тест вы примените для проверки гипотезы о равенстве средних чеков по дням в группах?\n",
    "\n",
    "Проведите тестирование при следующих нулевой и альтернативной гипотезе:\n",
    "* $H_0$: Ежедневные средние чеки в группах А и B равны; \n",
    "* $H_1$: Ежедневный средний чек в группе А меньше чем в группе B;\n",
    "\n",
    "Вычислите p-value вашего теста для ежедневного среднего чека в группах А и B. Сравните полученное значение p-value с уровнем значимости $\\alpha$ =0.05. "
   ]
  },
  {
   "cell_type": "code",
   "execution_count": 20,
   "id": "05d43f23-2c2d-4795-bb96-1ffbfe81c391",
   "metadata": {},
   "outputs": [
    {
     "name": "stdout",
     "output_type": "stream",
     "text": [
      "p-value:  1.1275579271768679e-12\n",
      "Отвергаем нулевую гипотезу. Ежедневный средний чек в группе А меньше, чем в группе В\n"
     ]
    }
   ],
   "source": [
    "# ваш код здесь\n",
    "H0 = 'Ежедневные средние чеки в группах А и В равны'\n",
    "H1 = 'Ежедневный средний чек в группе А меньше, чем в группе В'\n",
    "alpha = 0.05\n",
    "\n",
    "results = ttest_ind(a=daily_data_a['mean_check'], b=daily_data_b['mean_check'], alternative='less')\n",
    "print('p-value: ', results.pvalue)\n",
    "if results.pvalue<alpha:\n",
    "    print('Отвергаем нулевую гипотезу. {}'.format(H1))\n",
    "else:\n",
    "    print('Принимаем нулевую гипотезу: {}'.format(H0))"
   ]
  },
  {
   "cell_type": "markdown",
   "id": "8534ab25-68b8-48f7-b2c1-ef1b72d8a767",
   "metadata": {},
   "source": [
    " Приведите свои выводы по проведенному статистическому тесту. Есть ли статистическая разница между ежедневными средними чеками в группах А и B?"
   ]
  },
  {
   "attachments": {},
   "cell_type": "markdown",
   "id": "146955b9",
   "metadata": {},
   "source": [
    "Вывод: По причине нормального распределения величины ежедневного среднего чека в группах был выбран t-тест для их сравнения. Тестирование подтвердило альтернативную гипотезу и показало, что ежедневный средний чек в группе А меньше."
   ]
  },
  {
   "cell_type": "markdown",
   "id": "5e46c9a6-a943-48b4-ad72-935337469613",
   "metadata": {
    "tags": []
   },
   "source": [
    "## **Задание 7.14.**\n",
    "\n",
    "Постройте 95%-ый доверительный интервал для среднего чека в каждой группе. Так как выборка средних чеков небольшая, используйте  $t_{крит}$ в своих расчетах.\n",
    "\n",
    "Укажите нижнюю границу доверительного интервала для истинного среднего чека каждой из групп. Ответ приведите в процентах и округлите до целого."
   ]
  },
  {
   "cell_type": "code",
   "execution_count": 21,
   "id": "785c2071",
   "metadata": {},
   "outputs": [
    {
     "data": {
      "text/plain": [
       "count       23.0\n",
       "mean     80969.0\n",
       "std       3096.0\n",
       "min      73726.0\n",
       "25%      79126.0\n",
       "50%      81922.0\n",
       "75%      82942.0\n",
       "max      86113.0\n",
       "Name: mean_check, dtype: float64"
      ]
     },
     "execution_count": 21,
     "metadata": {},
     "output_type": "execute_result"
    }
   ],
   "source": [
    "round(daily_data_a['mean_check'].describe())"
   ]
  },
  {
   "cell_type": "code",
   "execution_count": 22,
   "id": "480430db-ffae-4aad-8e22-f5c70d4800b8",
   "metadata": {},
   "outputs": [
    {
     "name": "stdout",
     "output_type": "stream",
     "text": [
      "Доверительный интервал среднего чека для группы А: (79630, 82308)\n"
     ]
    }
   ],
   "source": [
    "n = 23\n",
    "k= n-1\n",
    "x_mean = 80969\n",
    "x_std = 3096\n",
    "gamma = 0.95\n",
    "alpha = 1- gamma\n",
    "\n",
    "t_crit = -t.ppf(alpha/2, k)\n",
    "\n",
    "eps = t_crit*x_std/(n**0.5)\n",
    "lower_bound = round(x_mean - eps)\n",
    "upper_bound = round(x_mean + eps)\n",
    "conf_interval = (round(lower_bound), round(upper_bound))\n",
    "print('Доверительный интервал среднего чека для группы А: {}'.format(conf_interval))"
   ]
  },
  {
   "cell_type": "code",
   "execution_count": 23,
   "id": "836b7d43",
   "metadata": {},
   "outputs": [
    {
     "data": {
      "text/plain": [
       "count       23.0\n",
       "mean     88576.0\n",
       "std       2197.0\n",
       "min      84846.0\n",
       "25%      87339.0\n",
       "50%      87771.0\n",
       "75%      90192.0\n",
       "max      92584.0\n",
       "Name: mean_check, dtype: float64"
      ]
     },
     "execution_count": 23,
     "metadata": {},
     "output_type": "execute_result"
    }
   ],
   "source": [
    "round(daily_data_b['mean_check'].describe())"
   ]
  },
  {
   "cell_type": "code",
   "execution_count": 24,
   "id": "b946bd3e",
   "metadata": {},
   "outputs": [
    {
     "name": "stdout",
     "output_type": "stream",
     "text": [
      "Доверительный интервал среднего чека для группы B: (87626, 89526)\n"
     ]
    }
   ],
   "source": [
    "n = 23\n",
    "k= n-1\n",
    "x_mean = 88576\n",
    "x_std = 2197\n",
    "gamma = 0.95\n",
    "alpha = 1- gamma\n",
    "\n",
    "t_crit = -t.ppf(alpha/2, k)\n",
    "\n",
    "eps = t_crit*x_std/(n**0.5)\n",
    "lower_bound = round(x_mean - eps)\n",
    "upper_bound = round(x_mean + eps)\n",
    "conf_interval = (round(lower_bound), round(upper_bound))\n",
    "print('Доверительный интервал среднего чека для группы B: {}'.format(conf_interval))"
   ]
  },
  {
   "cell_type": "markdown",
   "id": "74a78db8-48f7-41d2-94cb-faefb30b8f76",
   "metadata": {},
   "source": [
    "Проинтерпретируйте построенные доверительные интервалы для ежедневных средних чеков в группах. Есть ли между ними пересечения?"
   ]
  },
  {
   "attachments": {},
   "cell_type": "markdown",
   "id": "ae56e2c2",
   "metadata": {},
   "source": [
    "Доверительные интервалы для средних чеков в группах не имеют пересечений по значениям. Это значит, что истинный средний чек в группе А и группе В совпасть (быть одинаковым) не может. Это опровергает нулевую гипотезу об отсутствии разницы между группами по этому показателю."
   ]
  },
  {
   "cell_type": "markdown",
   "id": "c078852f-892f-42ed-8d78-73edf8eb1f5e",
   "metadata": {
    "tags": []
   },
   "source": [
    "## **Сделайте общий вывод по результатам A/B-теста**\n",
    "\n",
    "Какой варианта дизайна посадочной страницы является более эффективным в комплексе по метрикам конверсии и среднего чека и почему? "
   ]
  },
  {
   "attachments": {},
   "cell_type": "markdown",
   "id": "e8af7688",
   "metadata": {},
   "source": [
    "В процессе анализа результатов А/В тестирования были проведены визуальное сравнение метрик, статистические тесты с заданным уровнем значимости, а также найдены доверительные интервалы для метрик с заданным уровнем надежности.\n",
    "\n",
    "Метриками выступили ежедневные конверсия пользователей и средний чек. Визуальная оценка метрик показала, что конверсия в группе А выше, однако средний чек выше в группе В. Исследование покупательской способности показало, что пользователи из группы В активно покупают более дорогие туры, чем в группе А.\n",
    "\n",
    "Далее были построены кумулятивные графики по метрикам. В целом, они показали ту же картину: конверсия выше в группе А, а средний чек - в группе В. Однако разница конверсии невелика в то время, как размер чека идет с большим отрывом. Также графики показали стабилизацию показателей во времени, что говорит о завершенности тестирования.\n",
    "\n",
    "Статистические тесты. \n",
    "\n",
    "Конверсии исследовались с помощью z-теста, результаты которого показали, что статистической разницы по этой метрике между группами нет, и невозможно опровергнуть нулевую гипотезу о равенстве конверсий в группах. В дополнение к тесту были посчитаны доверительные интервалы для каждой группы. Доверительные интервалы показали пересечение, в связи с чем был посчитан доверительный интервал разности конверсий. Он показал, что между вариантами А и В нет статистической разницы в конверсии. \n",
    "\n",
    "Исследование метрики ежедневного среднего чека в группах дало следующие результаты: в связи с нормальным распределение величины было решено проводить t-тест, который показал, что в группе В чек больше, опровергнув нулевую гипотезу. Доверительные интервалы по группам не имеют пересечений по значениям, следовательно значение истинного среднего чека не может совпасть, значит разница между ними доказана. И это разница в пользу варианта В.\n",
    "\n",
    "\n",
    "Исходя из всего вышесказанного, можно сказать, что вариант В дизайна страницы более эффективный по метрике среднего чека из собранных данных в результате А/В тестирования. "
   ]
  }
 ],
 "metadata": {
  "kernelspec": {
   "display_name": "Python 3",
   "language": "python",
   "name": "python3"
  },
  "language_info": {
   "codemirror_mode": {
    "name": "ipython",
    "version": 3
   },
   "file_extension": ".py",
   "mimetype": "text/x-python",
   "name": "python",
   "nbconvert_exporter": "python",
   "pygments_lexer": "ipython3",
   "version": "3.9.10"
  },
  "vscode": {
   "interpreter": {
    "hash": "4f240839814783c86679b97dc90219b8a3d3e14ea65e88be68ce87d6dbf01a50"
   }
  }
 },
 "nbformat": 4,
 "nbformat_minor": 5
}
