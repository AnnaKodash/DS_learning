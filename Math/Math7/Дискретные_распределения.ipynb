{
 "cells": [
  {
   "attachments": {},
   "cell_type": "markdown",
   "id": "caa69e48",
   "metadata": {},
   "source": [
    "## Равномерное распределение"
   ]
  },
  {
   "cell_type": "code",
   "execution_count": 12,
   "id": "75770dc8",
   "metadata": {},
   "outputs": [],
   "source": [
    "import warnings\n",
    "warnings.filterwarnings('ignore')"
   ]
  },
  {
   "cell_type": "code",
   "execution_count": 11,
   "id": "5d82762e",
   "metadata": {},
   "outputs": [],
   "source": [
    "import numpy as np\n",
    "from scipy.stats import randint"
   ]
  },
  {
   "cell_type": "code",
   "execution_count": 16,
   "id": "0d458ebe",
   "metadata": {},
   "outputs": [
    {
     "name": "stdout",
     "output_type": "stream",
     "text": [
      "[0.16666667 0.16666667 0.16666667 0.16666667 0.16666667 0.16666667]\n"
     ]
    }
   ],
   "source": [
    "x = np.arange(1, 7)\n",
    "disc_uni_dist = randint(1, 7)\n",
    "pmf = disc_uni_dist.pmf(x)\n",
    "print(pmf)"
   ]
  },
  {
   "cell_type": "code",
   "execution_count": 17,
   "id": "69722968",
   "metadata": {},
   "outputs": [
    {
     "name": "stdout",
     "output_type": "stream",
     "text": [
      "[0.16666667 0.33333333 0.5        0.66666667 0.83333333 1.        ]\n"
     ]
    }
   ],
   "source": [
    "cdf = disc_uni_dist.cdf(x)\n",
    "print(cdf)"
   ]
  },
  {
   "cell_type": "code",
   "execution_count": 18,
   "id": "6ec7339a",
   "metadata": {},
   "outputs": [
    {
     "name": "stdout",
     "output_type": "stream",
     "text": [
      "0.2\n"
     ]
    }
   ],
   "source": [
    "x = np.arange(1, 251)\n",
    "disc_uni_dist = randint(1,251)\n",
    "cdf = disc_uni_dist.cdf(x)\n",
    "print(cdf[49])"
   ]
  },
  {
   "attachments": {},
   "cell_type": "markdown",
   "id": "ebf75db7",
   "metadata": {},
   "source": [
    "## Распределение Бернулли"
   ]
  },
  {
   "cell_type": "code",
   "execution_count": 13,
   "id": "ed7c63fe",
   "metadata": {},
   "outputs": [],
   "source": [
    "from scipy.stats import bernoulli\n",
    "import seaborn as sns"
   ]
  },
  {
   "cell_type": "code",
   "execution_count": 20,
   "id": "f5542d42",
   "metadata": {},
   "outputs": [
    {
     "data": {
      "text/plain": [
       "[Text(0.5, 0, 'Значение случайной величины'), Text(0, 0.5, 'Частота')]"
      ]
     },
     "execution_count": 20,
     "metadata": {},
     "output_type": "execute_result"
    },
    {
     "data": {
      "image/png": "[encoded data removed]",
      "text/plain": [
       "<Figure size 432x288 with 1 Axes>"
      ]
     },
     "metadata": {
      "needs_background": "light"
     },
     "output_type": "display_data"
    }
   ],
   "source": [
    "data = bernoulli.rvs(size=500,p=0.6)\n",
    "ax = sns.distplot(data,\n",
    "                  kde = False,\n",
    "                  color='dodgerblue')\n",
    "ax.set(xlabel='Значение случайной величины', ylabel='Частота')"
   ]
  },
  {
   "cell_type": "code",
   "execution_count": 21,
   "id": "5c71bb29",
   "metadata": {},
   "outputs": [
    {
     "name": "stdout",
     "output_type": "stream",
     "text": [
      "[[  0 213]\n",
      " [  1 287]]\n"
     ]
    }
   ],
   "source": [
    "unique, counts = np.unique(data, return_counts=True)\n",
    "print(np.asarray((unique, counts)).T)"
   ]
  },
  {
   "attachments": {},
   "cell_type": "markdown",
   "id": "5844fa7d",
   "metadata": {},
   "source": [
    "## Биномиальное распределение"
   ]
  },
  {
   "cell_type": "code",
   "execution_count": 9,
   "id": "0334b40e",
   "metadata": {},
   "outputs": [],
   "source": [
    "from numpy import random"
   ]
  },
  {
   "cell_type": "code",
   "execution_count": 29,
   "id": "a1ae6a02",
   "metadata": {},
   "outputs": [
    {
     "data": {
      "text/plain": [
       "<AxesSubplot:>"
      ]
     },
     "execution_count": 29,
     "metadata": {},
     "output_type": "execute_result"
    },
    {
     "data": {
      "image/png": "[encoded data removed]",
      "text/plain": [
       "<Figure size 432x288 with 1 Axes>"
      ]
     },
     "metadata": {
      "needs_background": "light"
     },
     "output_type": "display_data"
    }
   ],
   "source": [
    "x = random.binomial(n=10, p=0.5, size=10)\n",
    "sns.distplot(random.binomial(n=10, p=0.5, size=1000), hist=True, kde=False)"
   ]
  },
  {
   "attachments": {},
   "cell_type": "markdown",
   "id": "89bb2a58",
   "metadata": {},
   "source": [
    "## Распределение Пуассона"
   ]
  },
  {
   "cell_type": "code",
   "execution_count": 2,
   "id": "17138263",
   "metadata": {},
   "outputs": [],
   "source": [
    "import scipy"
   ]
  },
  {
   "cell_type": "code",
   "execution_count": 7,
   "id": "6b01eb18",
   "metadata": {},
   "outputs": [
    {
     "data": {
      "text/plain": [
       "0.0003072960504333902"
      ]
     },
     "execution_count": 7,
     "metadata": {},
     "output_type": "execute_result"
    }
   ],
   "source": [
    "scipy.stats.distributions.poisson.pmf(4, 16)"
   ]
  },
  {
   "cell_type": "code",
   "execution_count": 16,
   "id": "5b64c785",
   "metadata": {},
   "outputs": [
    {
     "data": {
      "text/plain": [
       "<AxesSubplot: >"
      ]
     },
     "execution_count": 16,
     "metadata": {},
     "output_type": "execute_result"
    },
    {
     "data": {
      "image/png": "[encoded data removed]",
      "text/plain": [
       "<Figure size 640x480 with 1 Axes>"
      ]
     },
     "metadata": {},
     "output_type": "display_data"
    }
   ],
   "source": [
    "sns.distplot(random.poisson(lam=4, size=1000), kde=False)"
   ]
  },
  {
   "cell_type": "code",
   "execution_count": 17,
   "id": "fbd98f6f",
   "metadata": {},
   "outputs": [
    {
     "name": "stdout",
     "output_type": "stream",
     "text": [
      "Unexpected exception formatting exception. Falling back to standard exception\n"
     ]
    },
    {
     "name": "stderr",
     "output_type": "stream",
     "text": [
      "Traceback (most recent call last):\n",
      "  File \"C:\\Users\\Anna\\AppData\\Roaming\\Python\\Python39\\site-packages\\IPython\\core\\interactiveshell.py\", line 3378, in run_code\n",
      "    exec(code_obj, self.user_global_ns, self.user_ns)\n",
      "  File \"C:\\Users\\Anna\\AppData\\Local\\Temp\\ipykernel_10332\\2749169116.py\", line 1, in <module>\n",
      "    data = expon.rvs(scale=1,loc=0,size=1000)\n",
      "NameError: name 'expon' is not defined\n",
      "\n",
      "During handling of the above exception, another exception occurred:\n",
      "\n",
      "Traceback (most recent call last):\n",
      "  File \"C:\\Users\\Anna\\AppData\\Roaming\\Python\\Python39\\site-packages\\IPython\\core\\interactiveshell.py\", line 1997, in showtraceback\n",
      "    stb = self.InteractiveTB.structured_traceback(\n",
      "  File \"C:\\Users\\Anna\\AppData\\Roaming\\Python\\Python39\\site-packages\\IPython\\core\\ultratb.py\", line 1112, in structured_traceback\n",
      "    return FormattedTB.structured_traceback(\n",
      "  File \"C:\\Users\\Anna\\AppData\\Roaming\\Python\\Python39\\site-packages\\IPython\\core\\ultratb.py\", line 1006, in structured_traceback\n",
      "    return VerboseTB.structured_traceback(\n",
      "  File \"C:\\Users\\Anna\\AppData\\Roaming\\Python\\Python39\\site-packages\\IPython\\core\\ultratb.py\", line 859, in structured_traceback\n",
      "    formatted_exception = self.format_exception_as_a_whole(etype, evalue, etb, number_of_lines_of_context,\n",
      "  File \"C:\\Users\\Anna\\AppData\\Roaming\\Python\\Python39\\site-packages\\IPython\\core\\ultratb.py\", line 793, in format_exception_as_a_whole\n",
      "    self.get_records(etb, number_of_lines_of_context, tb_offset) if etb else []\n",
      "  File \"C:\\Users\\Anna\\AppData\\Roaming\\Python\\Python39\\site-packages\\IPython\\core\\ultratb.py\", line 839, in get_records\n",
      "    style = stack_data.style_with_executing_node(style, \"bg:ansiyellow\")\n",
      "  File \"C:\\Users\\Anna\\AppData\\Roaming\\Python\\Python39\\site-packages\\stack_data\\core.py\", line 455, in style_with_executing_node\n",
      "    class NewStyle(style):\n",
      "  File \"c:\\Users\\Anna\\AppData\\Local\\Programs\\Python\\Python39\\lib\\site-packages\\pygments\\style.py\", line 91, in __new__\n",
      "    ndef[4] = colorformat(styledef[3:])\n",
      "  File \"c:\\Users\\Anna\\AppData\\Local\\Programs\\Python\\Python39\\lib\\site-packages\\pygments\\style.py\", line 58, in colorformat\n",
      "    assert False, \"wrong color format %r\" % text\n",
      "AssertionError: wrong color format 'ansiyellow'\n"
     ]
    }
   ],
   "source": [
    "data = expon.rvs(scale=1,loc=0,size=1000)\n",
    "ax = sns.distplot(data,\n",
    "                  bins=50)\n",
    "ax.set(xlabel='Экспоненциальное распределение', ylabel='Плотность')"
   ]
  },
  {
   "cell_type": "code",
   "execution_count": null,
   "id": "4ddf1e36",
   "metadata": {},
   "outputs": [],
   "source": []
  }
 ],
 "metadata": {
  "kernelspec": {
   "display_name": "Python 3 (ipykernel)",
   "language": "python",
   "name": "python3"
  },
  "language_info": {
   "codemirror_mode": {
    "name": "ipython",
    "version": 3
   },
   "file_extension": ".py",
   "mimetype": "text/x-python",
   "name": "python",
   "nbconvert_exporter": "python",
   "pygments_lexer": "ipython3",
   "version": "3.9.10"
  }
 },
 "nbformat": 4,
 "nbformat_minor": 5
}
