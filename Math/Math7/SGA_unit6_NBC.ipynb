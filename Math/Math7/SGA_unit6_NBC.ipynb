{
  "cells": [
    {
      "attachments": {},
      "cell_type": "markdown",
      "id": "00009cca",
      "metadata": {
        "id": "00009cca"
      },
      "source": [
        "# Классификация текстов с использованием Наивного Байесовского Классификатора"
      ]
    },
    {
      "attachments": {},
      "cell_type": "markdown",
      "id": "a52414b8",
      "metadata": {
        "id": "a52414b8"
      },
      "source": [
        "## Задание 1 (1 балл)"
      ]
    },
    {
      "attachments": {},
      "cell_type": "markdown",
      "id": "f5f27b43",
      "metadata": {
        "id": "f5f27b43"
      },
      "source": [
        "Откройте данные. Узнайте, сколько в них спам- и не спам-писем. Визуализируйте полученные соотношение подходящим образом."
      ]
    },
    {
      "cell_type": "code",
      "execution_count": 52,
      "id": "130d5d59",
      "metadata": {},
      "outputs": [],
      "source": [
        "import pandas as pd\n",
        "import numpy as np\n",
        "import seaborn as sns\n",
        "import matplotlib.pyplot as plt\n",
        "from sklearn.feature_extraction.text import CountVectorizer\n",
        "from sklearn.model_selection import train_test_split,  RandomizedSearchCV\n",
        "from sklearn.metrics import accuracy_score, precision_score, classification_report, f1_score, roc_curve, roc_auc_score\n",
        "from sklearn.naive_bayes import MultinomialNB, ComplementNB\n"
      ]
    },
    {
      "cell_type": "code",
      "execution_count": 2,
      "id": "ac369274",
      "metadata": {
        "id": "ac369274"
      },
      "outputs": [
        {
          "data": {
            "text/html": [
              "<div>\n",
              "<style scoped>\n",
              "    .dataframe tbody tr th:only-of-type {\n",
              "        vertical-align: middle;\n",
              "    }\n",
              "\n",
              "    .dataframe tbody tr th {\n",
              "        vertical-align: top;\n",
              "    }\n",
              "\n",
              "    .dataframe thead th {\n",
              "        text-align: right;\n",
              "    }\n",
              "</style>\n",
              "<table border=\"1\" class=\"dataframe\">\n",
              "  <thead>\n",
              "    <tr style=\"text-align: right;\">\n",
              "      <th></th>\n",
              "      <th>email</th>\n",
              "      <th>label</th>\n",
              "    </tr>\n",
              "  </thead>\n",
              "  <tbody>\n",
              "    <tr>\n",
              "      <th>0</th>\n",
              "      <td>date wed NUMBER aug NUMBER NUMBER NUMBER NUMB...</td>\n",
              "      <td>0</td>\n",
              "    </tr>\n",
              "    <tr>\n",
              "      <th>1</th>\n",
              "      <td>martin a posted tassos papadopoulos the greek ...</td>\n",
              "      <td>0</td>\n",
              "    </tr>\n",
              "    <tr>\n",
              "      <th>2</th>\n",
              "      <td>man threatens explosion in moscow thursday aug...</td>\n",
              "      <td>0</td>\n",
              "    </tr>\n",
              "    <tr>\n",
              "      <th>3</th>\n",
              "      <td>klez the virus that won t die already the most...</td>\n",
              "      <td>0</td>\n",
              "    </tr>\n",
              "    <tr>\n",
              "      <th>4</th>\n",
              "      <td>in adding cream to spaghetti carbonara which ...</td>\n",
              "      <td>0</td>\n",
              "    </tr>\n",
              "  </tbody>\n",
              "</table>\n",
              "</div>"
            ],
            "text/plain": [
              "                                               email  label\n",
              "0   date wed NUMBER aug NUMBER NUMBER NUMBER NUMB...      0\n",
              "1  martin a posted tassos papadopoulos the greek ...      0\n",
              "2  man threatens explosion in moscow thursday aug...      0\n",
              "3  klez the virus that won t die already the most...      0\n",
              "4   in adding cream to spaghetti carbonara which ...      0"
            ]
          },
          "execution_count": 2,
          "metadata": {},
          "output_type": "execute_result"
        }
      ],
      "source": [
        "# прочитаем данные\n",
        "data = pd.read_csv('data/spam_or_not_spam.csv')\n",
        "data.head()"
      ]
    },
    {
      "cell_type": "code",
      "execution_count": 79,
      "id": "f4231781",
      "metadata": {
        "id": "f4231781"
      },
      "outputs": [
        {
          "name": "stdout",
          "output_type": "stream",
          "text": [
            "       email\n",
            "label       \n",
            "0       2500\n",
            "1        497\n",
            "\n",
            "0    83.42\n",
            "1    16.58\n",
            "Name: label, dtype: float64\n"
          ]
        }
      ],
      "source": [
        "# рассчитаем частоты для классов\n",
        "print(data.groupby('label').count()) # количество по классам\n",
        "print()\n",
        "print(round(data['label'].value_counts(normalize=True)*100, 2)) # процентное соотношение"
      ]
    },
    {
      "cell_type": "code",
      "execution_count": 63,
      "id": "9b871636",
      "metadata": {
        "id": "9b871636"
      },
      "outputs": [
        {
          "data": {
            "text/plain": [
              "Text(0, 0.5, 'Count')"
            ]
          },
          "execution_count": 63,
          "metadata": {},
          "output_type": "execute_result"
        },
        {
          "data": {
            "image/png": "[encoded data removed]",
            "text/plain": [
              "<Figure size 640x480 with 1 Axes>"
            ]
          },
          "metadata": {},
          "output_type": "display_data"
        }
      ],
      "source": [
        "# визуализируем результат\n",
        "labels = sns.countplot(data, x='label' )\n",
        "labels.set_title(\"Emails' label countplot\")\n",
        "labels.set_xlabel('0-Not-Spam, 1-Spam')\n",
        "labels.set_ylabel('Count')\n"
      ]
    },
    {
      "attachments": {},
      "cell_type": "markdown",
      "id": "54f1bd57",
      "metadata": {},
      "source": [
        "Видно, что классы весьма несбалансированы, следует это учесть при разбиении выборки."
      ]
    },
    {
      "attachments": {},
      "cell_type": "markdown",
      "id": "b161614b",
      "metadata": {
        "id": "b161614b"
      },
      "source": [
        "## Задание 2 (2 балла)"
      ]
    },
    {
      "attachments": {},
      "cell_type": "markdown",
      "id": "89546b95",
      "metadata": {
        "id": "89546b95"
      },
      "source": [
        "Замените в данных все пустые строки и строки, состоящие из пробелов, на пропуски (NaN). После этого удалите из данных все строки, в которых наблюдаются пропущенные значения."
      ]
    },
    {
      "cell_type": "code",
      "execution_count": 6,
      "id": "5b6a4adc",
      "metadata": {},
      "outputs": [
        {
          "name": "stdout",
          "output_type": "stream",
          "text": [
            "<class 'pandas.core.frame.DataFrame'>\n",
            "Int64Index: 2997 entries, 0 to 2999\n",
            "Data columns (total 2 columns):\n",
            " #   Column  Non-Null Count  Dtype \n",
            "---  ------  --------------  ----- \n",
            " 0   email   2997 non-null   object\n",
            " 1   label   2997 non-null   int64 \n",
            "dtypes: int64(1), object(1)\n",
            "memory usage: 70.2+ KB\n"
          ]
        }
      ],
      "source": [
        "data['email'] = data['email'].replace(r'^\\s\\*$', np.nan, regex=True)\n",
        "data['email'] = data['email'].replace(r'^\\s+$', np.nan, regex=True)\n",
        "data.dropna(inplace=True)\n",
        "data.info()"
      ]
    },
    {
      "attachments": {},
      "cell_type": "markdown",
      "id": "2ca2fe88",
      "metadata": {
        "id": "2ca2fe88"
      },
      "source": [
        "Переводим данные в векторный вид:"
      ]
    },
    {
      "cell_type": "code",
      "execution_count": 7,
      "id": "29e9a37b",
      "metadata": {
        "id": "29e9a37b"
      },
      "outputs": [],
      "source": [
        "vectorizer = CountVectorizer()\n",
        "X = vectorizer.fit_transform(data[\"email\"])"
      ]
    },
    {
      "attachments": {},
      "cell_type": "markdown",
      "id": "88c8b726",
      "metadata": {
        "id": "88c8b726"
      },
      "source": [
        "Определите, сколько теперь признаков в нашем наборе данных:"
      ]
    },
    {
      "cell_type": "code",
      "execution_count": 8,
      "id": "f19c2a02",
      "metadata": {
        "id": "f19c2a02"
      },
      "outputs": [
        {
          "data": {
            "text/plain": [
              "34116"
            ]
          },
          "execution_count": 8,
          "metadata": {},
          "output_type": "execute_result"
        }
      ],
      "source": [
        "X.shape[1]"
      ]
    },
    {
      "attachments": {},
      "cell_type": "markdown",
      "id": "1803f282",
      "metadata": {
        "id": "1803f282"
      },
      "source": [
        "## Задание 3 (2 балла)"
      ]
    },
    {
      "attachments": {},
      "cell_type": "markdown",
      "id": "39f400b7",
      "metadata": {
        "id": "39f400b7"
      },
      "source": [
        "Определите целевую переменную и признаки:"
      ]
    },
    {
      "cell_type": "code",
      "execution_count": 9,
      "id": "31f1acb6",
      "metadata": {
        "id": "31f1acb6"
      },
      "outputs": [],
      "source": [
        "# целевая переменная\n",
        "y = data['label']"
      ]
    },
    {
      "attachments": {},
      "cell_type": "markdown",
      "id": "b20f273e",
      "metadata": {
        "id": "b20f273e"
      },
      "source": [
        "Разделите выборку на обучающую и тестовую, используя стратифицированное разбиение (параметр `stratify` установите в значение вектора ответов y) размер тестовой выборки (`test_size`) возьмите как 0.25, параметр `random_state` определите со значением 42:"
      ]
    },
    {
      "cell_type": "code",
      "execution_count": 10,
      "id": "96538fb6",
      "metadata": {
        "id": "96538fb6"
      },
      "outputs": [],
      "source": [
        "# разбиваем выборку со стратификацией по таргету\n",
        "X_train, X_test, y_train, y_test = train_test_split(X, y, test_size=0.25, random_state=42, stratify=y)"
      ]
    },
    {
      "attachments": {},
      "cell_type": "markdown",
      "id": "139dac3d",
      "metadata": {
        "id": "139dac3d"
      },
      "source": [
        "Рассчитайте среднее значение целевой переменной по тестовой выборке:"
      ]
    },
    {
      "cell_type": "code",
      "execution_count": 80,
      "id": "e9baf72d",
      "metadata": {
        "id": "e9baf72d"
      },
      "outputs": [
        {
          "name": "stdout",
          "output_type": "stream",
          "text": [
            "0.165\n"
          ]
        }
      ],
      "source": [
        "print(round(y_test.mean(), 3))"
      ]
    },
    {
      "attachments": {},
      "cell_type": "markdown",
      "id": "710e0e94",
      "metadata": {
        "id": "710e0e94"
      },
      "source": [
        "## Задание 4 (3 балла)"
      ]
    },
    {
      "attachments": {},
      "cell_type": "markdown",
      "id": "26cf6885",
      "metadata": {
        "id": "26cf6885"
      },
      "source": [
        "Определите и обучите подходящий алгоритм с параметром alpha = 0.01"
      ]
    },
    {
      "cell_type": "code",
      "execution_count": 19,
      "id": "4865dd78",
      "metadata": {
        "id": "4865dd78"
      },
      "outputs": [],
      "source": [
        "# применим алгоритмы, предназначенные для работы с текстом\n",
        "MNB = MultinomialNB(alpha=0.01)\n",
        "MNB.fit(X_train, y_train)\n",
        "y_MNB_pred = MNB.predict(X_test)\n",
        "\n",
        "CNB = ComplementNB(alpha=0.01)\n",
        "CNB.fit(X_train, y_train)\n",
        "y_CNB_pred = CNB.predict(X_test)"
      ]
    },
    {
      "attachments": {},
      "cell_type": "markdown",
      "id": "d803fbe3",
      "metadata": {
        "id": "d803fbe3"
      },
      "source": [
        "Оцените результат с точки зрения всех известных вам метрик (не менее трёх):"
      ]
    },
    {
      "cell_type": "code",
      "execution_count": 68,
      "id": "b0bbc4d2",
      "metadata": {
        "id": "b0bbc4d2"
      },
      "outputs": [
        {
          "name": "stdout",
          "output_type": "stream",
          "text": [
            "MultinomialNB\n",
            "Accuracy: 0.987 Precision: 1.0 F1 score: 0.958\n",
            "\n",
            "              precision    recall  f1-score   support\n",
            "\n",
            "           0       0.98      1.00      0.99       626\n",
            "           1       1.00      0.92      0.96       124\n",
            "\n",
            "    accuracy                           0.99       750\n",
            "   macro avg       0.99      0.96      0.98       750\n",
            "weighted avg       0.99      0.99      0.99       750\n",
            "\n",
            "\n",
            "ComplementNB\n",
            "Accuracy: 0.988 Precision: 1.0 F1 score 0.962\n",
            "\n",
            "              precision    recall  f1-score   support\n",
            "\n",
            "           0       0.99      1.00      0.99       626\n",
            "           1       1.00      0.93      0.96       124\n",
            "\n",
            "    accuracy                           0.99       750\n",
            "   macro avg       0.99      0.96      0.98       750\n",
            "weighted avg       0.99      0.99      0.99       750\n",
            "\n"
          ]
        }
      ],
      "source": [
        "# посчитаем метрики для обеих моделей\n",
        "print('MultinomialNB')\n",
        "print('Accuracy:', round(accuracy_score(y_test, y_MNB_pred), 3),\\\n",
        "    'Precision:',round(precision_score(y_test, y_MNB_pred), 3), \\\n",
        "        'F1 score:',round(f1_score(y_test, y_MNB_pred), 3))\n",
        "print()\n",
        "print(classification_report(y_test, y_MNB_pred))\n",
        "print()\n",
        "print('ComplementNB')\n",
        "print('Accuracy:',round(accuracy_score(y_test, y_CNB_pred), 3),\\\n",
        "    'Precision:', round(precision_score(y_test, y_CNB_pred), 3),\\\n",
        "        'F1 score', round(f1_score(y_test, y_CNB_pred), 3))\n",
        "print()\n",
        "print(classification_report(y_test, y_CNB_pred))\n"
      ]
    },
    {
      "attachments": {},
      "cell_type": "markdown",
      "id": "666d10a1",
      "metadata": {},
      "source": [
        "Мы видим, что ComplementNB справилась чуть лучше. В целом, результат работы обеих моделей очень хороший, судя по метрикам."
      ]
    },
    {
      "attachments": {},
      "cell_type": "markdown",
      "id": "c85976d1",
      "metadata": {
        "id": "c85976d1"
      },
      "source": [
        "Нарисуйте ROC-кривую:"
      ]
    },
    {
      "cell_type": "code",
      "execution_count": 81,
      "id": "8e8526b5",
      "metadata": {},
      "outputs": [
        {
          "data": {
            "image/png": "[encoded data removed]",
            "text/plain": [
              "<Figure size 640x480 with 1 Axes>"
            ]
          },
          "metadata": {},
          "output_type": "display_data"
        },
        {
          "name": "stdout",
          "output_type": "stream",
          "text": [
            "AUC: 0.9950659589817583\n"
          ]
        }
      ],
      "source": [
        "# построим roc кривую для более успешной модели ComplementNB\n",
        "y_pred_proba = CNB.predict_proba(X_test)[::,1]\n",
        "fpr, tpr, _ = roc_curve(y_test, y_pred_proba)\n",
        "auc = roc_auc_score (y_test, y_pred_proba)\n",
        "\n",
        "plt.plot (fpr,tpr)\n",
        "plt.ylabel('True Positive Rate')\n",
        "plt.xlabel('False Positive Rate')\n",
        "plt.title('ROC curve')\n",
        "plt.show() \n",
        "print('AUC:', auc)"
      ]
    },
    {
      "attachments": {},
      "cell_type": "markdown",
      "id": "7e54de1a",
      "metadata": {},
      "source": [
        "Кривая и показатель AUC говорят о высоком качестве модели, которая с вероятностью 99,5% верно предсказывает тип письма."
      ]
    },
    {
      "attachments": {},
      "cell_type": "markdown",
      "id": "cf0bb49b",
      "metadata": {
        "id": "cf0bb49b"
      },
      "source": [
        "## Задание 5 (3 балла)"
      ]
    },
    {
      "attachments": {},
      "cell_type": "markdown",
      "id": "30b7a0ae",
      "metadata": {
        "id": "30b7a0ae"
      },
      "source": [
        "Переберите несколько значений alpha с помощью кросс-валидации. Оцените, зависит ли от этого параметра качество классификации."
      ]
    },
    {
      "cell_type": "code",
      "execution_count": 71,
      "id": "f0d8357e",
      "metadata": {},
      "outputs": [
        {
          "name": "stderr",
          "output_type": "stream",
          "text": [
            "c:\\Users\\Anna\\AppData\\Local\\Programs\\Python\\Python39\\lib\\site-packages\\sklearn\\model_selection\\_search.py:306: UserWarning: The total space of parameters 9 is smaller than n_iter=10. Running 9 iterations. For exhaustive searches, use GridSearchCV.\n",
            "  warnings.warn(\n"
          ]
        },
        {
          "name": "stdout",
          "output_type": "stream",
          "text": [
            "CPU times: total: 281 ms\n",
            "Wall time: 4.7 s\n",
            "f1_score на тестовом наборе: 0.98\n",
            "Наилучшие значения гиперпараметров: {'alpha': 0.7}\n"
          ]
        }
      ],
      "source": [
        "param_distributions = {'alpha':[0.01, 0.1, 0.3, 0.5, 0.7, 0.9, 1, 2, 10]},\n",
        "# Создаем объект класса           \n",
        "random_search = RandomizedSearchCV(\n",
        "    estimator=ComplementNB(), \n",
        "    param_distributions=param_distributions, \n",
        "    cv=5, \n",
        "    n_iter = 10, \n",
        "    n_jobs = -1\n",
        ")  \n",
        "# Обучаем, предсказываем и вычисляем метрику\n",
        "%time random_search.fit(X_train, y_train) \n",
        "y_test_pred = random_search.predict(X_test)\n",
        "print('f1_score на тестовом наборе: {:.2f}'.format(f1_score(y_test, y_test_pred)))\n",
        "print(\"Наилучшие значения гиперпараметров: {}\".format(random_search.best_params_))"
      ]
    },
    {
      "cell_type": "code",
      "execution_count": 83,
      "id": "c5b7dcbc",
      "metadata": {},
      "outputs": [
        {
          "data": {
            "image/png": "[encoded data removed]",
            "text/plain": [
              "<Figure size 640x480 with 1 Axes>"
            ]
          },
          "metadata": {},
          "output_type": "display_data"
        },
        {
          "name": "stdout",
          "output_type": "stream",
          "text": [
            "AUC: 0.9981062557971762\n"
          ]
        }
      ],
      "source": [
        "CNB_new = ComplementNB(alpha=0.7)\n",
        "CNB_new.fit(X_train, y_train)\n",
        "\n",
        "y_pred_proba = CNB_new.predict_proba(X_test)[::,1]\n",
        "fpr, tpr, _ = roc_curve(y_test, y_pred_proba)\n",
        "auc = roc_auc_score (y_test, y_pred_proba)\n",
        "\n",
        "plt.plot (fpr,tpr)\n",
        "plt.ylabel('True Positive Rate')\n",
        "plt.xlabel('False Positive Rate')\n",
        "plt.title('ROC curve')\n",
        "plt.show() \n",
        "print('AUC:', auc)"
      ]
    },
    {
      "attachments": {},
      "cell_type": "markdown",
      "id": "da012aae",
      "metadata": {},
      "source": [
        "С помощью подбора гиперпараметров удалось найти значение alpha=0.7, при котором качество классификации удалось улучшить до вероятности точного прогноза 99,8%"
      ]
    }
  ],
  "metadata": {
    "colab": {
      "name": "SGA_unit6_NBC.ipynb",
      "provenance": []
    },
    "kernelspec": {
      "display_name": "Python 3 (ipykernel)",
      "language": "python",
      "name": "python3"
    },
    "language_info": {
      "codemirror_mode": {
        "name": "ipython",
        "version": 3
      },
      "file_extension": ".py",
      "mimetype": "text/x-python",
      "name": "python",
      "nbconvert_exporter": "python",
      "pygments_lexer": "ipython3",
      "version": "3.9.10"
    }
  },
  "nbformat": 4,
  "nbformat_minor": 5
}
